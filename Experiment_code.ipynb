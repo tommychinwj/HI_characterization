{
 "cells": [
  {
   "cell_type": "code",
   "execution_count": null,
   "metadata": {},
   "outputs": [],
   "source": [
    "print('Hello World')"
   ]
  },
  {
   "cell_type": "markdown",
   "metadata": {},
   "source": [
    "## Sphere"
   ]
  },
  {
   "cell_type": "code",
   "execution_count": null,
   "metadata": {},
   "outputs": [],
   "source": [
    "LEN = 5\n",
    "A = np.zeros((LEN,LEN,LEN))\n",
    "\n",
    "center_x = 0.5*(LEN-1)\n",
    "center_y = 0.5*(LEN-1)\n",
    "center_z = 0.5*(LEN-1)\n",
    "Radius = 2\n",
    "for xx in range(LEN):\n",
    "    for yy in range(LEN):\n",
    "        for zz in range(LEN):\n",
    "            dist = np.sqrt((xx - center_x)**2 + (yy - center_y)**2 + (zz - center_z)**2)\n",
    "            if dist <= Radius:\n",
    "                A[xx, yy, zz] = 1\n",
    "print(A)\n",
    "print(np.sum(A))\n",
    "print(center_x)\n",
    "plt.imshow(A[np.int(center_x),:,:])"
   ]
  },
  {
   "cell_type": "markdown",
   "metadata": {},
   "source": [
    "## Create square and circle around chosen point"
   ]
  },
  {
   "cell_type": "code",
   "execution_count": null,
   "metadata": {},
   "outputs": [],
   "source": [
    "# start with a 100 x 100 square grid\n",
    "Nside = 100\n",
    "base_indices = np.arange(Nside)\n",
    "x_indices, y_indices = np.meshgrid(base_indices, base_indices)\n",
    "reference_position_indices = np.array([37, 20])\n",
    "# disk = np.where(np.sqrt((x_indices - reference_position_indices[0])**2 + (y_indices - reference_position_indices[1])**2)<= 10, 1, 0)\n",
    "np.sqrt((x_indices - reference_position_indices[0])**2 + (y_indices - reference_position_indices[1])**2)<= 10\n",
    "plt.imshow(disk)"
   ]
  },
  {
   "cell_type": "code",
   "execution_count": null,
   "metadata": {},
   "outputs": [],
   "source": [
    "square = np.where(np.logical_and(np.abs(x_indices - reference_position_indices[0]) <= 5, np.abs(y_indices - reference_position_indices[1]) <= 5), 1, 0)\n",
    "plt.imshow(square)"
   ]
  },
  {
   "cell_type": "markdown",
   "metadata": {},
   "source": [
    "## np.where will ravel an array with any shape to a 1D array"
   ]
  },
  {
   "cell_type": "code",
   "execution_count": null,
   "metadata": {},
   "outputs": [],
   "source": [
    "x = np.arange(100).reshape(10,10)\n",
    "print(x)\n",
    "x[3:7,1:5] = np.where(x[3:7,1:5] % 2, 0, x[3:7,1:5])\n",
    "print(x)"
   ]
  },
  {
   "cell_type": "markdown",
   "metadata": {
    "ExecuteTime": {
     "end_time": "2020-06-29T16:19:19.841435Z",
     "start_time": "2020-06-29T16:19:19.838981Z"
    }
   },
   "source": [
    "## Slicing array with a condition"
   ]
  },
  {
   "cell_type": "code",
   "execution_count": null,
   "metadata": {},
   "outputs": [],
   "source": [
    "x = np.arange(20)\n",
    "avg_1 = x[np.logical_and(7 <= x, x <= 14)].mean()\n",
    "avg_2 = np.where(np.logical_and(7 <= x, x <= 14), x, 0).mean()\n",
    "avg_1 == avg_2"
   ]
  },
  {
   "cell_type": "code",
   "execution_count": null,
   "metadata": {},
   "outputs": [],
   "source": [
    "x_values = np.arange(20)\n",
    "condition = np.logical_and(7 <= x_values, x_values <= 14)\n",
    "x_values[condition]"
   ]
  },
  {
   "cell_type": "markdown",
   "metadata": {},
   "source": [
    "## Averaging sphere"
   ]
  },
  {
   "cell_type": "code",
   "execution_count": null,
   "metadata": {},
   "outputs": [],
   "source": [
    "test_box = np.random.rand(101,101,101)\n",
    "test_center = [0.5*(np.shape(test_box)[0]-1), 0.5*(np.shape(test_box)[1]-1), 0.5*(np.shape(test_box)[2]-1)]\n",
    "\n",
    "true_false_index_x = np.arange(np.shape(test_box)[0])\n",
    "true_false_index_y = np.arange(np.shape(test_box)[1])\n",
    "true_false_index_z = np.arange(np.shape(test_box)[2])\n",
    "test_x, test_y, test_z = np.meshgrid(true_false_index_x, true_false_index_y, true_false_index_z)\n",
    "\n",
    "circle_condition = np.sqrt((test_x - test_center[0])**2 + (test_y - test_center[1])**2 + (test_z - test_center[2])**2) <= 30\n",
    "inside_circle_mean = np.mean(test_box[circle_condition])\n",
    "test_box = np.where(circle_condition, inside_circle_mean, test_box)\n",
    "\n",
    "plt.imshow(test_box[:,:,21])"
   ]
  },
  {
   "cell_type": "markdown",
   "metadata": {},
   "source": [
    "## Light cone: Global Average Neutral Fraction vs. Redshift"
   ]
  },
  {
   "cell_type": "code",
   "execution_count": null,
   "metadata": {},
   "outputs": [],
   "source": [
    "lightcone = p21c.run_lightcone(\n",
    "    redshift = 6,\n",
    "    max_redshift = 8,\n",
    "    init_box=init_cond,\n",
    "    lightcone_quantities=(\n",
    "        'brightness_temp',\n",
    "        'xH_box',\n",
    "    ),\n",
    "    global_quantities=(\n",
    "        'brightness_temp',\n",
    "        'xH_box'\n",
    "    )\n",
    ")\n",
    "\n",
    "p21c.plotting.plot_global_history(lightcone, kind='xH_box')\n",
    "plt.title(\"Neutral Freaction vs. Redshift\")"
   ]
  },
  {
   "cell_type": "markdown",
   "metadata": {},
   "source": [
    "## Plotting slices of Neutral fractions."
   ]
  },
  {
   "cell_type": "code",
   "execution_count": null,
   "metadata": {},
   "outputs": [],
   "source": [
    "def simple_xH_plot(ion: p21c.outputs.IonizedBox, ax: plt.Axes):\n",
    "    return ax.imshow(ion.xH_box[:, :, 0].T, extent=(0,200,0,200), vmin=0, vmax=1, origin='lower')"
   ]
  },
  {
   "cell_type": "code",
   "execution_count": null,
   "metadata": {},
   "outputs": [],
   "source": [
    "fig, ax = plt.subplots(2, 4, figsize=(14,6), sharex=True, sharey=True, f)\n",
    "\n",
    "for i, z in enumerate([20, 12, 10, 9, 8, 7, 6, 5]):\n",
    "    ion = p21c.ionize_box(redshift=z, init_boxes=init_cond)\n",
    "    im = simple_xH_plot(ion, ax.flatten()[i])\n",
    "    ax.flatten()[i].set_title(f\"z = {z}, Age = {cosmo_params.cosmo.age(z):.2f}\")\n",
    "    \n",
    "cbar = plt.colorbar(im, ax=ax.ravel().tolist())\n",
    "cbar.set_label(\"Neutral Fraction\")"
   ]
  },
  {
   "cell_type": "markdown",
   "metadata": {},
   "source": [
    "## unblurred and blurred side by side comparison"
   ]
  },
  {
   "cell_type": "code",
   "execution_count": null,
   "metadata": {},
   "outputs": [],
   "source": [
    "fig, (ax1, ax2) = plt.subplots(ncols=2, figsize=(15,15))\n",
    "\n",
    "img1 = ax1.imshow(ionized[:, :, 0], extent=(0,BOX_LEN,0,BOX_LEN), origin='lower')\n",
    "ax1.set_title(f\"z = {z}, Age = {cosmo_params.cosmo.age(z):.2f}\", fontsize=16)\n",
    "ax1.set_ylabel(\"y [voxel]\")\n",
    "ax1.set_xlabel(\"x [voxel]\")\n",
    "colorbar(img1)\n",
    "\n",
    "\n",
    "img2 = ax2.imshow(Sphere_Blurring(ionized, 140, 1)[:, :, 0], extent=(0,BOX_LEN,0,BOX_LEN), origin='lower')\n",
    "ax2.set_title(f\"Blurred, z = {z}, Age = {cosmo_params.cosmo.age(z):.2f}\", fontsize=16)\n",
    "ax2.set_xlabel(\"x [voxel]\")\n",
    "colorbar(img2)\n",
    "\n",
    "plt.tight_layout(h_pad=1)"
   ]
  },
  {
   "cell_type": "markdown",
   "metadata": {},
   "source": [
    "## x, y, z slices of the blurred box"
   ]
  },
  {
   "cell_type": "code",
   "execution_count": null,
   "metadata": {},
   "outputs": [],
   "source": [
    "fig, (ax1, ax2, ax3) = plt.subplots(ncols=3, figsize=(15,15), dpi=200)\n",
    "\n",
    "img1 = ax1.imshow(Sphere_blurred[0,:,:], origin='lower')\n",
    "colorbar(img1)\n",
    "\n",
    "img2 = ax2.imshow(Sphere_blurred[:,0,:], origin='lower')\n",
    "colorbar(img2)\n",
    "\n",
    "img3 = ax3.imshow(Sphere_blurred[:,:,0], origin='lower')\n",
    "colorbar(img3)\n",
    "\n",
    "plt.tight_layout(h_pad=1)"
   ]
  },
  {
   "cell_type": "markdown",
   "metadata": {},
   "source": [
    "## Generator"
   ]
  },
  {
   "cell_type": "code",
   "execution_count": null,
   "metadata": {},
   "outputs": [],
   "source": [
    "shape = (300, 100, 2740, 15, 22)\n",
    "list(np.random.randint(0,side_length) for side_length in shape)\n",
    "# generator = [expression for item(s) in iterable if condition]"
   ]
  },
  {
   "cell_type": "markdown",
   "metadata": {},
   "source": [
    "## Calculate Average with big function broken up into smaller functions"
   ]
  },
  {
   "cell_type": "code",
   "execution_count": null,
   "metadata": {},
   "outputs": [],
   "source": [
    "def calculate_average(box, radius, reference_position, shape='cube', weights=None):\n",
    "    \"\"\"\n",
    "    Given an array ``box``, calculate the average over some region with radius\n",
    "    ``radius`` centered on location ``reference_position``.\n",
    "    \"\"\"\n",
    "    # define a smaller cube with sides 2*radius+1\n",
    "    # condition for sphere\n",
    "    # mean(box[condition_for_sphere])\n",
    "    \n",
    "    # retrieve the region of interest\n",
    "    # region_of_interest = get_subarray(box, radius, reference_position, shape)\n",
    "    # mean of region and return value\n",
    "    # weights = generate_weights(region_of_interest, weights) # this is extra; don't worry for now\n",
    "    # return np.average(region_of_interest, weights=weights)"
   ]
  },
  {
   "cell_type": "markdown",
   "metadata": {},
   "source": [
    "## Definition of Weighted Average"
   ]
  },
  {
   "cell_type": "code",
   "execution_count": null,
   "metadata": {
    "ExecuteTime": {
     "end_time": "2020-07-01T18:31:03.613111Z",
     "start_time": "2020-07-01T18:31:03.606656Z"
    }
   },
   "outputs": [],
   "source": [
    "# weighted_average = sum(weights * array) / sum(weights)"
   ]
  },
  {
   "cell_type": "markdown",
   "metadata": {},
   "source": [
    "## Plotted gaussian and compute area under the curve"
   ]
  },
  {
   "cell_type": "code",
   "execution_count": null,
   "metadata": {
    "ExecuteTime": {
     "end_time": "2020-07-04T02:23:59.507558Z",
     "start_time": "2020-07-04T02:23:59.501194Z"
    }
   },
   "outputs": [],
   "source": [
    "def Gaussian(x, sigma=1, mu=0):\n",
    "    return (1/sigma/np.sqrt(2*np.pi))*(np.exp(-0.5*(((x-mu)/sigma)**2)))\n",
    "\n",
    "import numpy as np\n",
    "x = np.linspace(-1.4370396997748922,1.4370396997748922,10**3)\n",
    "sigma = 1\n",
    "g = Gaussian(x, sigma=sigma)\n",
    "# fig = plt.figure(figsize=(15,15))\n",
    "# plt.plot(x, g, [-4*sigma,-4*sigma], [-0.01, 0.2], [4*sigma,4*sigma], [-0.01, 0.2])\n",
    "\n",
    "from scipy.integrate import simps\n",
    "\n",
    "area = simps(g, x)\n",
    "print(area)"
   ]
  },
  {
   "cell_type": "markdown",
   "metadata": {},
   "source": [
    "## plotting the shells"
   ]
  },
  {
   "cell_type": "code",
   "execution_count": null,
   "metadata": {},
   "outputs": [],
   "source": [
    "radius = 150\n",
    "shell_box = top_hat_shell_averaging(distance_from_coordinate([radius*2+1]*3), radius, noise_box)\n",
    "\n",
    "fig, (ax1, ax2, ax3) = plt.subplots(ncols=3, figsize=(15,15))\n",
    "\n",
    "img1 = ax1.imshow(shell_box[150,:,:], origin='lower')\n",
    "colorbar(img1)\n",
    "\n",
    "img2 = ax2.imshow(shell_box[:,150,:], origin='lower')\n",
    "colorbar(img2)\n",
    "\n",
    "img3 = ax3.imshow(shell_box[:,:,150], origin='lower')\n",
    "colorbar(img3)\n",
    "\n",
    "plt.tight_layout(h_pad=1)"
   ]
  },
  {
   "cell_type": "markdown",
   "metadata": {},
   "source": [
    "## Average 4 spherical shells in a given box,  with diameter = sides of box, sphere centered on cube's center"
   ]
  },
  {
   "cell_type": "code",
   "execution_count": null,
   "metadata": {},
   "outputs": [],
   "source": [
    "def top_hat_shell_averaging(distance_box, radius, input_box):\n",
    "    \n",
    "    sphere_condition =  distance_box <= radius\n",
    "        \n",
    "    inside_sphere_mean = np.mean(input_box[sphere_condition])  # slicing shaped array by condition will ravel the array\n",
    "\n",
    "    shell_condition1 =  distance_box <= 0.25*radius\n",
    "    shell_condition2 =  np.logical_and(distance_box <= 0.5*radius, distance_box > 0.25*radius)\n",
    "    shell_condition3 =  np.logical_and(distance_box <= 0.75*radius, distance_box > 0.5*radius)\n",
    "    shell_condition4 =  np.logical_and(distance_box <= radius, distance_box > 0.75*radius)\n",
    "    \n",
    "    output_box = np.where(shell_condition1, inside_sphere_mean, input_box)\n",
    "    output_box = np.where(shell_condition2, 0.75*inside_sphere_mean, output_box)\n",
    "    output_box = np.where(shell_condition3, 0.5*inside_sphere_mean, output_box)\n",
    "    output_box = np.where(shell_condition4, 0.25*inside_sphere_mean, output_box)\n",
    "\n",
    "    return output_box"
   ]
  },
  {
   "cell_type": "markdown",
   "metadata": {},
   "source": [
    "## Sphere Blurring Function"
   ]
  },
  {
   "cell_type": "code",
   "execution_count": null,
   "metadata": {},
   "outputs": [],
   "source": [
    "def Sphere_Blurring(box, radius, iteration):\n",
    "    \n",
    "    box = box.copy()  # make copy of input box to have a separate box\n",
    "    \n",
    "    dist_frm_coord_box = distance_from_coordinate([radius*2+1]*3)\n",
    "\n",
    "    inside_sphere_mean_data_top_hat = []  # empty list for data collection\n",
    "    inside_sphere_mean_data_gaussian = []\n",
    "    \n",
    "    for i in range(iteration):\n",
    "        \n",
    "        rand_coord = random_voxel(box.shape)\n",
    "                \n",
    "        cube_region_indices, cube_region_box = cube_centered_about_coordinate(rand_coord, radius, box)\n",
    "        \n",
    "        inside_sphere_mean_top_hat, sphere_condition_box = top_hat_sphere_average_value(dist_frm_coord_box, radius, cube_region_box)\n",
    "\n",
    "        inside_sphere_mean_gaussian, sphere_condition_box = gaussian_sphere_average_value(dist_frm_coord_box, radius, cube_region_box)\n",
    "        # returning sphere_condition_box only for plotting box purposes, could be removed if plotting the box is no longer required\n",
    "        \n",
    "        \n",
    "        \n",
    "#         inside_sphere_mean_data_top_hat = np.append(inside_sphere_mean_data_top_hat, inside_sphere_mean_top_hat)\n",
    "#         inside_sphere_mean_data_gaussian = np.append(inside_sphere_mean_data_gaussian, inside_sphere_mean_gaussian)\n",
    "#     return np.array(inside_sphere_mean_data_top_hat), np.array(inside_sphere_mean_data_gaussian)\n",
    "\n",
    "\n",
    "        cube_region_box = np.where(sphere_condition_box, inside_sphere_mean_gaussian, cube_region_box)\n",
    "        box[cube_region_indices] = cube_region_box\n",
    "    return box"
   ]
  },
  {
   "cell_type": "markdown",
   "metadata": {},
   "source": [
    "## Cube Blurring Function"
   ]
  },
  {
   "cell_type": "code",
   "execution_count": null,
   "metadata": {},
   "outputs": [],
   "source": [
    "def Square_Blurring(box, radius, iteration):\n",
    "    box = box.copy()  # make copy of input box to have a separate box\n",
    "    for i in range(iteration):\n",
    "        np.random.seed()  # set seed to a randome number\n",
    "        \n",
    "        rand_coord = np.random.randint(radius, BOX_LEN-1-radius, size=3)  # ensure that the random center point won't be at the edge of the cube\n",
    "        \n",
    "        cube_region = box[rand_coord[0]-radius:rand_coord[0]+radius+1, rand_coord[1]-radius:rand_coord[1]+radius+1, rand_coord[2]-radius:rand_coord[2]+radius+1]\n",
    "        \n",
    "        neutral_mean = np.mean(cube_region)\n",
    "        \n",
    "        box[rand_coord[0]-radius:rand_coord[0]+radius+1, rand_coord[1]-radius:rand_coord[1]+radius+1, rand_coord[2]-radius:rand_coord[2]+radius+1] = neutral_mean\n",
    "    return box"
   ]
  },
  {
   "cell_type": "markdown",
   "metadata": {},
   "source": [
    "## Computing the sphere radius to gaussian radius ratio"
   ]
  },
  {
   "cell_type": "code",
   "execution_count": 8,
   "metadata": {
    "ExecuteTime": {
     "end_time": "2020-07-03T04:54:40.581650Z",
     "start_time": "2020-07-03T04:54:40.257106Z"
    }
   },
   "outputs": [],
   "source": [
    "from scipy.integrate import simps\n",
    "from IPython.display import clear_output\n",
    "import numpy as np"
   ]
  },
  {
   "cell_type": "code",
   "execution_count": 17,
   "metadata": {},
   "outputs": [
    {
     "name": "stdout",
     "output_type": "stream",
     "text": [
      "R_g = 1.4370397097748921, integral = 0.3333333261767219, error = 7.1566114145937831e-09\n"
     ]
    }
   ],
   "source": [
    "R_g = 1.44  # place holder, guessed answer\n",
    "error = 1  # place holder\n",
    "while error > 10**-8:\n",
    "    r = np.linspace(0, R_g, 10**8)  # array of equally spaced numbers between 0 and R_g\n",
    "    g = np.exp(-r**2)*r**2\n",
    "    area = simps(g,r)  # intergral of e^-r^2 * r^2 from r=0 to r=R_g\n",
    "    error = np.abs(1/3-area)  # we equate the integral to 1/3\n",
    "    R_g += 10**-8  # increase our guess of R_g by 10^-8 & intergrate again if error doesn't meet threshold. \n",
    "    clear_output(wait=True)\n",
    "#     print(R_g)\n",
    "    print(f'R_g = {R_g:.16f}, integral = {area:.16f}, error = {error:.16e}')"
   ]
  },
  {
   "cell_type": "code",
   "execution_count": null,
   "metadata": {},
   "outputs": [],
   "source": [
    "from scipy.integrate import simps\n",
    "import numpy as np\n",
    "\n",
    "R_g = 1.4370396997748922  # place holder, guessed answer\n",
    "error = 1  # place holder\n",
    "while error > 10**-8:  # keep increasing R_g by 10^-8 while the error is below a set threshold\n",
    "    r = np.linspace(0, R_g, 10**8)  # array of equally spaced numbers between 0 and R_g\n",
    "    g = np.exp(-r**2)*r**2  # integrand\n",
    "    area = simps(g,r)  # integral of e^-r^2 * r^2 from r=0 to r=R_g using Simpson's rule\n",
    "    error = np.abs(1/3-area)  # equate the integral to 1/3, compute the error\n",
    "    R_g += 10**-8  # increase our guess of R_g by 10^-8 & integrate again if error doesn't meet threshold. \n",
    "print(f'R_g = {R_g}, integral = {area}, error = {error}')  # print relevant quantities of interest."
   ]
  },
  {
   "cell_type": "code",
   "execution_count": 21,
   "metadata": {},
   "outputs": [
    {
     "name": "stdout",
     "output_type": "stream",
     "text": [
      "R_g = 1.4370397097748921,\n",
      "integral = 0.3333333261767219,\n",
      "error = 7.156611414593783e-09\n"
     ]
    }
   ],
   "source": [
    "print(f'R_g = {R_g},\\nintegral = {area},\\nerror = {error}')"
   ]
  },
  {
   "cell_type": "code",
   "execution_count": 19,
   "metadata": {},
   "outputs": [
    {
     "data": {
      "text/plain": [
       "-9.99999993922529e-09"
      ]
     },
     "execution_count": 19,
     "metadata": {},
     "output_type": "execute_result"
    }
   ],
   "source": [
    "1.4370396997748922 - 1.4370397097748921"
   ]
  },
  {
   "cell_type": "markdown",
   "metadata": {},
   "source": [
    "## Tuning the radius ratios of the 3 different methods"
   ]
  },
  {
   "cell_type": "code",
   "execution_count": null,
   "metadata": {},
   "outputs": [],
   "source": [
    "var_Gaussian = np.var(gaussian)\n",
    "var_sphere = np.var(sphere)\n",
    "var_cube = np.var(cube)\n",
    "\n",
    "print(var_Gaussian)\n",
    "print(var_sphere)\n",
    "print(var_cube)\n",
    "\n",
    "print(abs((var_Gaussian-var_sphere)/np.mean([var_Gaussian, var_sphere])))\n",
    "print(abs((var_Gaussian-var_cube)/np.mean([var_Gaussian, var_cube])))\n",
    "print(abs((var_cube-var_sphere)/np.mean([var_cube, var_sphere])))"
   ]
  },
  {
   "cell_type": "markdown",
   "metadata": {},
   "source": [
    "## Plotting function single plot condition"
   ]
  },
  {
   "cell_type": "code",
   "execution_count": null,
   "metadata": {},
   "outputs": [],
   "source": [
    "fs = (gaussian1, gaussian2, [1,1,1])\n",
    "fs2 = np.array(np.array([gaussian1]))\n",
    "type(fs)\n",
    "type(fs) is tuple\n",
    "type(fs2) is tuple"
   ]
  },
  {
   "cell_type": "markdown",
   "metadata": {},
   "source": [
    "## Making list of titles"
   ]
  },
  {
   "cell_type": "code",
   "execution_count": null,
   "metadata": {},
   "outputs": [],
   "source": [
    "titles = []\n",
    "for radius in radii:\n",
    "    titles = np.append(titles, f'Radius = {radius}')\n",
    "    \n",
    "print(titles)"
   ]
  },
  {
   "cell_type": "markdown",
   "metadata": {},
   "source": [
    "## Reshaping 1D array"
   ]
  },
  {
   "cell_type": "code",
   "execution_count": null,
   "metadata": {
    "ExecuteTime": {
     "end_time": "2020-07-08T23:54:48.226801Z",
     "start_time": "2020-07-08T23:54:48.108018Z"
    }
   },
   "outputs": [],
   "source": [
    "A = np.arange(1, 4)\n",
    "B = np.arange(4, 7)\n",
    "C = np.arange(7, 10)\n",
    "print(A, B, C)\n",
    "D = []\n",
    "for a in A:\n",
    "    for b in B:\n",
    "        for c in C:\n",
    "            D = np.append(D, f'{a, b, c}')\n",
    "pritnt(D)\n",
    "D = D.reshape(len(A), len(B), len(C))\n",
    "D[:,0,:]"
   ]
  },
  {
   "cell_type": "markdown",
   "metadata": {},
   "source": [
    "## Print current time"
   ]
  },
  {
   "cell_type": "code",
   "execution_count": null,
   "metadata": {},
   "outputs": [],
   "source": [
    "import time\n",
    "# time.ctime() # 'Mon Oct 18 13:35:29 2010'\n",
    "time.strftime('%l:%M%p %Z on %b %d, %Y') # ' 1:36PM EDT on Oct 18, 2010'\n",
    "# time.strftime('%l:%M%p %z on %b %d, %Y') # ' 1:36PM EST on Oct 18, 2010'"
   ]
  },
  {
   "cell_type": "code",
   "execution_count": null,
   "metadata": {
    "ExecuteTime": {
     "end_time": "2020-07-11T21:39:59.578778Z",
     "start_time": "2020-07-11T21:39:59.385839Z"
    }
   },
   "outputs": [],
   "source": [
    "import numpy as np\n",
    "1-np.exp(-1)"
   ]
  },
  {
   "cell_type": "markdown",
   "metadata": {},
   "source": [
    "## colorbar function"
   ]
  },
  {
   "cell_type": "code",
   "execution_count": null,
   "metadata": {},
   "outputs": [],
   "source": [
    "def colorbar(mappable):\n",
    "    from mpl_toolkits.axes_grid1 import make_axes_locatable\n",
    "    import matplotlib.pyplot as plt\n",
    "    last_axes = plt.gca()\n",
    "    ax = mappable.axes\n",
    "    fig = ax.figure\n",
    "    divider = make_axes_locatable(ax)\n",
    "    cax = divider.append_axes(\"right\", size=\"5%\", pad=0.05)\n",
    "    cbar = fig.colorbar(mappable, cax=cax, label=\"Neutral Fraction\")\n",
    "    plt.sca(last_axes)\n",
    "    return cbar"
   ]
  },
  {
   "cell_type": "markdown",
   "metadata": {},
   "source": [
    "## Creating Noise Box"
   ]
  },
  {
   "cell_type": "code",
   "execution_count": null,
   "metadata": {},
   "outputs": [],
   "source": [
    "import numpy as np\n",
    "np.random.seed()\n",
    "# np.random.seed(5) ; np.random.rand(10)\n",
    "noise_box = np.random.rand(301, 301, 301)"
   ]
  },
  {
   "cell_type": "markdown",
   "metadata": {},
   "source": [
    "## Creating plots of standard deviation of average neutral fraction distributions as a function of shell numbers and radii."
   ]
  },
  {
   "cell_type": "code",
   "execution_count": null,
   "metadata": {},
   "outputs": [],
   "source": [
    "def generate_distribution_standard_deviations():\n",
    "\n",
    "    iterations = 3*10**2\n",
    "    radii = np.arange(10, 100, 10)  # [10, 20, 30, ... 90]\n",
    "    sigma_factors = np.arange(1, 6)  # [1, 2, 3, 4, 5]\n",
    "    shell_numbers = np.arange(1, 9)  # [1, 2, 3, 4, 5, 6, 7, 8]\n",
    "    stand_devs_gaussian = []  # empty list for data collection\n",
    "    stand_devs_sphere = []\n",
    "    stand_devs_cube = []\n",
    "\n",
    "    for radius in radii:\n",
    "\n",
    "        sphere = Average_Neutral_Fraction_Distribution(\n",
    "                box=noise_box,\n",
    "                radius=radius,\n",
    "                iteration=iterations,\n",
    "                blur_shape='top_hat_sphere'\n",
    "            )\n",
    "\n",
    "        cube = Average_Neutral_Fraction_Distribution(\n",
    "                box=noise_box,\n",
    "                radius=radius,\n",
    "                iteration=iterations,\n",
    "                blur_shape='top_hat_cube'\n",
    "            )\n",
    "\n",
    "        stand_dev_sphere = np.std(sphere)\n",
    "        stand_dev_cube = np.std(cube)\n",
    "\n",
    "        for shell_num in shell_numbers:\n",
    "\n",
    "            stand_devs_sphere = np.append(stand_devs_sphere, stand_dev_sphere)\n",
    "            stand_devs_cube = np.append(stand_devs_cube, stand_dev_cube)\n",
    "\n",
    "            for sigma_factor in sigma_factors:\n",
    "\n",
    "                gaussian = Average_Neutral_Fraction_Distribution(\n",
    "                    box=noise_box,\n",
    "                    radius=radius,\n",
    "                    sigma_factor=sigma_factor,\n",
    "                    iteration=iterations,\n",
    "                    shell_num=shell_num,\n",
    "                    blur_shape='Gaussian_sphere'\n",
    "                )\n",
    "\n",
    "                stand_dev_gaussian = np.std(gaussian)\n",
    "\n",
    "                stand_devs_gaussian = np.append(stand_devs_gaussian, stand_dev_gaussian)\n",
    "\n",
    "        print(f'progress = {int(round(radius*10/len(radii)))}%')\n",
    "\n",
    "    stand_devs_gaussian = stand_devs_gaussian.reshape(len(radii), len(shell_numbers), len(sigma_factors))\n",
    "    stand_devs_sphere = stand_devs_sphere.reshape(len(radii), len(shell_numbers))\n",
    "    stand_devs_cube = stand_devs_cube.reshape(len(radii), len(shell_numbers))\n",
    "    \n",
    "    return stand_devs_gaussian, stand_devs_sphere, stand_devs_cube"
   ]
  },
  {
   "cell_type": "markdown",
   "metadata": {},
   "source": [
    "## Plotting Standard Deviations"
   ]
  },
  {
   "cell_type": "code",
   "execution_count": null,
   "metadata": {},
   "outputs": [],
   "source": [
    "stand_devs_gaussian, stand_devs_sphere, stand_devs_cube = generate_distribution_standard_deviations()\n",
    "\n",
    "\n",
    "titles = []\n",
    "for radius in radii:\n",
    "    titles = np.append(titles, f'Radius = {radius}')\n",
    "    \n",
    "plots(\n",
    "    x_vals=shell_numbers, \n",
    "    y1s=tuple(stand_devs_gaussian[:,:,0]),\n",
    "    y2s=tuple(stand_devs_gaussian[:,:,1]),\n",
    "    y3s=tuple(stand_devs_gaussian[:,:,2]),\n",
    "    y4s=tuple(stand_devs_gaussian[:,:,3]),\n",
    "    y5s=tuple(stand_devs_gaussian[:,:,4]),\n",
    "    y6s=tuple(stand_devs_sphere), \n",
    "    y7s=tuple(stand_devs_cube),\n",
    "    y1s_label='Gaus 1σ',\n",
    "    y2s_label='Gaus 2σ',\n",
    "    y3s_label='Gaus 3σ',\n",
    "    y4s_label='Gaus 4σ',\n",
    "    y5s_label='Gaus 5σ',\n",
    "    y6s_label='Sphere', \n",
    "    y7s_label='Cube',\n",
    "    shared_y_label='Standard Deviation', \n",
    "    shared_x_label='Number of Weighted Bins / Spherical Shells', \n",
    "    figure_shape=(3,3), \n",
    "    figure_size=(18,18), \n",
    "    title=titles, \n",
    "    shared_title=f'Standard Deviation of Average Neutral Fraction Distribution\\\n",
    "    (Radius Ratio 2, Random Unseeded Voxels, iterations = {iterations})',\n",
    "    vertical_gap=0.1,\n",
    "    horizontal_gap=0.2,\n",
    "    y_notation='sci',\n",
    "    share_y_axis=False,\n",
    "    figure_resolution=1000  # units: dpi\n",
    ")"
   ]
  },
  {
   "cell_type": "markdown",
   "metadata": {},
   "source": [
    "## Number of cores running"
   ]
  },
  {
   "cell_type": "code",
   "execution_count": null,
   "metadata": {},
   "outputs": [],
   "source": [
    "import os\n",
    "print(type(os.cpu_count()))"
   ]
  },
  {
   "cell_type": "code",
   "execution_count": null,
   "metadata": {},
   "outputs": [],
   "source": [
    "def distance_from_coordinate(box_length):\n",
    "        \n",
    "    index = np.arange(-0.5*(box_length-1), 0.5*(box_length+1))\n",
    "\n",
    "    x_mesh, y_mesh, z_mesh = np.meshgrid(index, index, index, indexing='ij')\n",
    "    \n",
    "    distance = np.sqrt((x_mesh)**2 + (y_mesh)**2 + (z_mesh)**2)\n",
    "    \n",
    "    return distance"
   ]
  },
  {
   "cell_type": "code",
   "execution_count": null,
   "metadata": {},
   "outputs": [],
   "source": [
    "distance_box = distance_from_coordinate(301)"
   ]
  },
  {
   "cell_type": "code",
   "execution_count": null,
   "metadata": {},
   "outputs": [],
   "source": [
    "def colorbar(mappable, plot_color='white', color_bar_label='Neutral Fraction'):\n",
    "    from mpl_toolkits.axes_grid1 import make_axes_locatable\n",
    "    last_axes = plt.gca()\n",
    "    ax = mappable.axes\n",
    "    fig = ax.figure\n",
    "    divider = make_axes_locatable(ax)\n",
    "    cax = divider.append_axes(\"right\", size=\"5%\", pad=0.05)\n",
    "    cbar = fig.colorbar(mappable, cax=cax)\n",
    "    plt.ylabel(color_bar_label, color=plot_color)\n",
    "    plt.tick_params(color=plot_color, labelcolor=plot_color)\n",
    "    plt.sca(last_axes)\n",
    "    \n",
    "    ax.tick_params(color=plot_color, labelcolor=plot_color)\n",
    "    \n",
    "    for spine in ax.spines.values():  # figure spine color\n",
    "        spine.set_edgecolor(plot_color)\n",
    "    \n",
    "    return cbar"
   ]
  },
  {
   "cell_type": "code",
   "execution_count": null,
   "metadata": {},
   "outputs": [],
   "source": [
    "color='white'\n",
    "\n",
    "import matplotlib.pyplot as plt\n",
    "\n",
    "fig, (ax1, ax2, ax3) = plt.subplots(ncols=3, figsize=(15,15))\n",
    "\n",
    "img1 = ax1.imshow(distance_box[50,:,:], origin='lower')\n",
    "colorbar(img1, color_bar_label='Distance', plot_color=color)\n",
    "ax1.set_title('x = 0 plane', color=color)\n",
    "\n",
    "img2 = ax2.imshow(distance_box[:,0,:], origin='lower')\n",
    "colorbar(img2, color_bar_label='Distance', plot_color=color)\n",
    "ax2.set_title('y = -50 plane', color=color)\n",
    "\n",
    "img3 = ax3.imshow(distance_box[:,:,100], origin='lower')\n",
    "colorbar(img3, color_bar_label='Distance', plot_color=color)\n",
    "ax3.set_title('z = 50 plane', color=color)\n",
    "\n",
    "plt.tight_layout(h_pad=1)"
   ]
  },
  {
   "cell_type": "code",
   "execution_count": null,
   "metadata": {},
   "outputs": [],
   "source": [
    "def cube_centered_about_coordinate(coordinate_array, radius, box):\n",
    "    box = box.copy()\n",
    "    \n",
    "    x_ind1 = int(coordinate_array[0]-radius)  # x-domian\n",
    "    x_ind2 = int(coordinate_array[0]+radius+1)  # ending index is not inclusive\n",
    "    y_ind1 = int(coordinate_array[1]-radius)  # y-domain\n",
    "    y_ind2 = int(coordinate_array[1]+radius+1)\n",
    "    z_ind1 = int(coordinate_array[2]-radius)  # z-domain\n",
    "    z_ind2 = int(coordinate_array[2]+radius+1)\n",
    "        \n",
    "    if x_ind1 < 0:  # periodic boundary conditions\n",
    "        x_inds = np.r_[(x_ind1+len(box)):len(box), 0:x_ind2]\n",
    "    elif x_ind2 > len(box):\n",
    "        x_inds = np.r_[x_ind1:len(box), 0:(x_ind2-len(box))]\n",
    "    else:\n",
    "        x_inds = np.r_[x_ind1:x_ind2]\n",
    "\n",
    "    if y_ind1 < 0:\n",
    "        y_inds = np.r_[(y_ind1+len(box)):len(box), 0:y_ind2]\n",
    "    elif y_ind2 > len(box):\n",
    "        y_inds = np.r_[y_ind1:len(box), 0:(y_ind2-len(box))]\n",
    "    else:\n",
    "        y_inds = np.r_[y_ind1:y_ind2]\n",
    "\n",
    "    if z_ind1 < 0:\n",
    "        z_inds = np.r_[(z_ind1+len(box)):len(box), 0:z_ind2]\n",
    "    elif z_ind2 > len(box):\n",
    "        z_inds = np.r_[z_ind1:len(box), 0:(z_ind2-len(box))]\n",
    "    else:\n",
    "        z_inds = np.r_[z_ind1:z_ind2]\n",
    "            \n",
    "    indices = np.ix_(x_inds, y_inds, z_inds)\n",
    "        \n",
    "    try:\n",
    "        output_box = box[indices]\n",
    "        mean = np.mean(output_box)\n",
    "        box[indices] = mean\n",
    "    except IndexError:\n",
    "        print(f'coordinate array = {coordinate_array}')\n",
    "        print(f'radius = {radius}')\n",
    "        print(f'box length = {len(box)}')\n",
    "        print(f'x_ind1 = {x_ind1}')\n",
    "        print(f'x_ind2 = {x_ind2}')\n",
    "        print(f'x_inds = {x_inds}')\n",
    "        print(f'x_ind1 = {y_ind1}')\n",
    "        print(f'x_ind2 = {y_ind2}')\n",
    "        print(f'y_inds = {y_inds}')\n",
    "        print(f'x_ind1 = {z_ind1}')\n",
    "        print(f'x_ind2 = {z_ind2}')\n",
    "        print(f'z_inds = {z_inds}')\n",
    "        \n",
    "    return box"
   ]
  },
  {
   "cell_type": "code",
   "execution_count": null,
   "metadata": {},
   "outputs": [],
   "source": [
    "periodicBCs_box = cube_centered_about_coordinate([0, 300, 50], 100, noise_box)"
   ]
  },
  {
   "cell_type": "code",
   "execution_count": null,
   "metadata": {},
   "outputs": [],
   "source": [
    "color='k'\n",
    "\n",
    "import matplotlib.pyplot as plt\n",
    "\n",
    "fig, (ax1, ax2, ax3) = plt.subplots(ncols=3, figsize=(15,15))\n",
    "\n",
    "img1 = ax1.imshow(periodicBCs_box[0,:,:], origin='lower')\n",
    "colorbar(img1, color_bar_label='Abitrary', plot_color=color)\n",
    "ax1.set_title('x = 0 plane', color=color)\n",
    "\n",
    "img2 = ax2.imshow(periodicBCs_box[:,300,:], origin='lower')\n",
    "colorbar(img2, color_bar_label='Abitrary', plot_color=color)\n",
    "ax2.set_title('y = 300 plane', color=color)\n",
    "\n",
    "img3 = ax3.imshow(periodicBCs_box[:,:,50], origin='lower')\n",
    "colorbar(img3, color_bar_label='Abitrary', plot_color=color)\n",
    "ax3.set_title('z = 50 plane', color=color)\n",
    "\n",
    "plt.tight_layout(h_pad=1)"
   ]
  },
  {
   "cell_type": "code",
   "execution_count": null,
   "metadata": {},
   "outputs": [],
   "source": [
    "def Gaussian(x, sigma):  # μ=0, σ=1/sqrt(2), π=1\n",
    "    Gaussian = np.exp(-(x/sigma)**2)\n",
    "    return Gaussian"
   ]
  },
  {
   "cell_type": "code",
   "execution_count": null,
   "metadata": {},
   "outputs": [],
   "source": [
    "def gaussian_sphere_average(distance_box, radius, input_box, shell_num, sigma_factor):\n",
    "    \n",
    "    mean = []\n",
    "\n",
    "    shell_radius_edges = np.linspace(0,1,shell_num+1)\n",
    "    # sigma_factor number of sigmas the weighting goes out to, sigma = radius\n",
    "\n",
    "    \n",
    "    \n",
    "# ======================================================================================================================\n",
    "    # Radius Ratio 1\n",
    "#     shell_center = 0.5*(shell_radius_edges[1:] + shell_radius_edges[:-1])*sigma_factor \n",
    "#     weight = Gaussian(x=shell_center, sigma=1)\n",
    "    \n",
    "    # Radius Ratio 2\n",
    "    shell_center = 0.5*(shell_radius_edges[1:] + shell_radius_edges[:-1])*sigma_factor*radius\n",
    "    weights = Gaussian(x=shell_center, sigma=radius)\n",
    "# ======================================================================================================================\n",
    "\n",
    "\n",
    "    output_box = input_box.copy()\n",
    "\n",
    "    for ii, weight in enumerate(weights):\n",
    "        condition = np.logical_and(\n",
    "            distance_box <= shell_radius_edges[ii+1]*radius, \n",
    "            distance_box > shell_radius_edges[ii]*radius\n",
    "        )\n",
    "        inside_shell_mean = np.mean(input_box[condition])\n",
    "#         mean = np.append(mean, inside_shell_mean)\n",
    "        output_box = np.where(condition, weight*inside_shell_mean, output_box)\n",
    "        \n",
    "        \n",
    "#     Gaussian_mean = np.average(mean, weights=weight)\n",
    "    \n",
    "    return output_box"
   ]
  },
  {
   "cell_type": "code",
   "execution_count": null,
   "metadata": {},
   "outputs": [],
   "source": [
    "shells_box = gaussian_sphere_average(distance_box=distance_box, radius=150, input_box=noise_box, shell_num=20, sigma_factor=2)"
   ]
  },
  {
   "cell_type": "code",
   "execution_count": null,
   "metadata": {},
   "outputs": [],
   "source": [
    "color='k'\n",
    "\n",
    "import matplotlib.pyplot as plt\n",
    "\n",
    "fig, (ax1, ax2, ax3) = plt.subplots(ncols=3, figsize=(15,15))\n",
    "\n",
    "img1 = ax1.imshow(shells_box[150,:,:], origin='lower')\n",
    "colorbar(img1, color_bar_label='Abitrary', plot_color=color)\n",
    "ax1.set_title('x = 150 plane', color=color)\n",
    "\n",
    "img2 = ax2.imshow(shells_box[:,150,:], origin='lower')\n",
    "colorbar(img2, color_bar_label='Abitrary', plot_color=color)\n",
    "ax2.set_title('y = 150 plane', color=color)\n",
    "\n",
    "img3 = ax3.imshow(shells_box[:,:,150], origin='lower')\n",
    "colorbar(img3, color_bar_label='Abitrary', plot_color=color)\n",
    "ax3.set_title('z = 150 plane', color=color)\n",
    "\n",
    "plt.tight_layout(h_pad=1)"
   ]
  },
  {
   "cell_type": "code",
   "execution_count": null,
   "metadata": {},
   "outputs": [],
   "source": [
    "from datetime import datetime\n",
    "import time\n",
    "from datetime import datetime, timedelta\n",
    "from pytz import timezone\n",
    "import pytz"
   ]
  },
  {
   "cell_type": "code",
   "execution_count": null,
   "metadata": {
    "scrolled": true
   },
   "outputs": [],
   "source": [
    "import numpy as np\n",
    "radii = np.arange(1, 11)\n",
    "current_time = datetime.now()\n",
    "for i in range(len(radii)):\n",
    "    \n",
    "    time.sleep(i+1)\n",
    "    previous_time = current_time\n",
    "    current_time = datetime.now()\n",
    "    loop_time = current_time - previous_time\n",
    "    print(f'progress = {int(round((i+1)*100/len(radii)))}%\\\n",
    ", local time = {current_time}, loop executed in ={loop_time}')"
   ]
  },
  {
   "cell_type": "code",
   "execution_count": null,
   "metadata": {},
   "outputs": [],
   "source": [
    "datetime.now?"
   ]
  },
  {
   "cell_type": "code",
   "execution_count": null,
   "metadata": {},
   "outputs": [],
   "source": [
    "from datetime import datetime, date"
   ]
  },
  {
   "cell_type": "code",
   "execution_count": null,
   "metadata": {},
   "outputs": [],
   "source": [
    "%%timeit\n",
    "start = datetime.now().time()\n",
    "time.sleep(3)\n",
    "end = datetime.now().time()\n",
    "datetime.combine(date.min, end) - datetime.combine(date.min, start)"
   ]
  },
  {
   "cell_type": "code",
   "execution_count": null,
   "metadata": {},
   "outputs": [],
   "source": [
    "from datetime import timedelta"
   ]
  },
  {
   "cell_type": "code",
   "execution_count": null,
   "metadata": {},
   "outputs": [],
   "source": [
    "%%timeit\n",
    "\n",
    "start = datetime.now().time()\n",
    "time.sleep(3)\n",
    "end = datetime.now().time()\n",
    "\n",
    "t1 = timedelta(hours=start.hour, minutes=start.minute, seconds=start.second)\n",
    "t2 = timedelta(hours=end.hour, minutes=end.minute, seconds=end.second)\n",
    "\n",
    "duration = t2 - t1"
   ]
  },
  {
   "cell_type": "code",
   "execution_count": null,
   "metadata": {},
   "outputs": [],
   "source": [
    "1.5**3*2"
   ]
  },
  {
   "cell_type": "code",
   "execution_count": null,
   "metadata": {},
   "outputs": [],
   "source": [
    "import numpy as np\n",
    "(4/3/np.sqrt(np.pi))**(1/3)"
   ]
  },
  {
   "cell_type": "code",
   "execution_count": 32,
   "metadata": {},
   "outputs": [
    {
     "name": "stdout",
     "output_type": "stream",
     "text": [
      "[151 142 133 124 115 106  98  89  80  71  62  53  44  35  27  18]\n",
      "[34. 32. 30. 28. 26. 24. 22. 20. 18. 16. 14. 12. 10.  8.  6.  4.]\n"
     ]
    },
    {
     "data": {
      "text/plain": [
       "0.6666666666666666"
      ]
     },
     "execution_count": 32,
     "metadata": {},
     "output_type": "execute_result"
    }
   ],
   "source": [
    "BOX_LEN=300\n",
    "HII_DIM=450\n",
    "print(np.array([int(round(radius*((4/3/np.sqrt(np.pi))**(1/3))*13/4)) for radius in np.arange(51, 3, -3)]))  # 13/4 --> speculated correction factor\n",
    "print(np.arange(51, 3, -3)*BOX_LEN/HII_DIM)\n",
    "BOX_LEN/HII_DIM"
   ]
  },
  {
   "cell_type": "code",
   "execution_count": 33,
   "metadata": {},
   "outputs": [
    {
     "name": "stdout",
     "output_type": "stream",
     "text": [
      "[151 142 133 124 115 106  98  89  80  71  62  53  44  35  27  18]\n",
      "[34.         32.66666667 31.33333333 30.         28.66666667 27.33333333\n",
      " 26.         24.66666667 23.33333333 22.         20.66666667 19.33333333\n",
      " 18.         16.66666667 15.33333333 14.         12.66666667 11.33333333\n",
      " 10.          8.66666667  7.33333333  6.          4.66666667  3.33333333]\n"
     ]
    },
    {
     "data": {
      "text/plain": [
       "0.6666666666666666"
      ]
     },
     "execution_count": 33,
     "metadata": {},
     "output_type": "execute_result"
    }
   ],
   "source": [
    "BOX_LEN=300\n",
    "HII_DIM=450\n",
    "print(np.array([int(round(radius*((4/3/np.sqrt(np.pi))**(1/3))*13/4)) for radius in np.arange(51, 3, -3)]))  # 13/4 --> speculated correction factor\n",
    "print(np.arange(51, 3, -2)*BOX_LEN/HII_DIM)\n",
    "BOX_LEN/HII_DIM"
   ]
  },
  {
   "cell_type": "code",
   "execution_count": 34,
   "metadata": {},
   "outputs": [
    {
     "data": {
      "text/plain": [
       "1.3333333333333333"
      ]
     },
     "execution_count": 34,
     "metadata": {},
     "output_type": "execute_result"
    }
   ],
   "source": [
    "2/1.5"
   ]
  },
  {
   "cell_type": "code",
   "execution_count": 35,
   "metadata": {},
   "outputs": [
    {
     "data": {
      "text/plain": [
       "0.6666666666666666"
      ]
     },
     "execution_count": 35,
     "metadata": {},
     "output_type": "execute_result"
    }
   ],
   "source": [
    "1/1.5"
   ]
  },
  {
   "cell_type": "code",
   "execution_count": 36,
   "metadata": {},
   "outputs": [
    {
     "data": {
      "text/plain": [
       "0.12680774892251856"
      ]
     },
     "execution_count": 36,
     "metadata": {},
     "output_type": "execute_result"
    }
   ],
   "source": [
    "np.exp(-1.4370397097748921**2)"
   ]
  },
  {
   "cell_type": "code",
   "execution_count": 38,
   "metadata": {},
   "outputs": [
    {
     "data": {
      "text/plain": [
       "4.311119129324677"
      ]
     },
     "execution_count": 38,
     "metadata": {},
     "output_type": "execute_result"
    }
   ],
   "source": [
    "3*1.4370397097748921"
   ]
  },
  {
   "cell_type": "code",
   "execution_count": null,
   "metadata": {},
   "outputs": [],
   "source": []
  }
 ],
 "metadata": {
  "kernelspec": {
   "display_name": "21cmfast",
   "language": "python",
   "name": "21cmfast"
  },
  "language_info": {
   "codemirror_mode": {
    "name": "ipython",
    "version": 3
   },
   "file_extension": ".py",
   "mimetype": "text/x-python",
   "name": "python",
   "nbconvert_exporter": "python",
   "pygments_lexer": "ipython3",
   "version": "3.8.3"
  }
 },
 "nbformat": 4,
 "nbformat_minor": 4
}
