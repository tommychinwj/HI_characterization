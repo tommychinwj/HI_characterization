{
 "cells": [
  {
   "cell_type": "markdown",
   "metadata": {},
   "source": [
    "# The preceeding ipynb is semi more general in selecting it's blurring region.\n",
    "# It is capable of selecting cuboid, i.e. unequal sides\n",
    "# This ipynb restricts to only cubes, i.e. equal sides, as an attempt to be more computationally efficient\n",
    "# The reason for this restriction relies on the assumption that the blurring region are spheres"
   ]
  },
  {
   "cell_type": "markdown",
   "metadata": {},
   "source": [
    "## Importing Libraries"
   ]
  },
  {
   "cell_type": "code",
   "execution_count": 286,
   "metadata": {
    "ExecuteTime": {
     "end_time": "2020-07-08T05:02:00.074715Z",
     "start_time": "2020-07-08T05:02:00.069822Z"
    }
   },
   "outputs": [],
   "source": [
    "%matplotlib inline\n",
    "import matplotlib.pyplot as plt\n",
    "import logging\n",
    "import numpy as np\n",
    "import py21cmfast as p21c\n",
    "import caffeine"
   ]
  },
  {
   "cell_type": "markdown",
   "metadata": {},
   "source": [
    "## Cosmological Parameters (Default is used when no input is specified)"
   ]
  },
  {
   "cell_type": "code",
   "execution_count": 6,
   "metadata": {
    "ExecuteTime": {
     "end_time": "2020-07-07T16:25:03.256571Z",
     "start_time": "2020-07-07T16:25:03.254059Z"
    }
   },
   "outputs": [],
   "source": [
    "cosmo_params = p21c.CosmoParams()"
   ]
  },
  {
   "cell_type": "markdown",
   "metadata": {},
   "source": [
    "## User Parameters, like box length, number of voxels (i.e. resolution) etc."
   ]
  },
  {
   "cell_type": "code",
   "execution_count": 7,
   "metadata": {
    "ExecuteTime": {
     "end_time": "2020-07-07T16:25:03.261751Z",
     "start_time": "2020-07-07T16:25:03.258806Z"
    }
   },
   "outputs": [],
   "source": [
    "user_params = p21c.UserParams(\n",
    "    BOX_LEN=301,  # Box length\n",
    "    DIM=2*301,      # Number of Voxels for hight resolution \n",
    "    HII_DIM=301  # Number of Voxels for low resolution \n",
    ")"
   ]
  },
  {
   "cell_type": "markdown",
   "metadata": {},
   "source": [
    "## Creating initial conditions box"
   ]
  },
  {
   "cell_type": "code",
   "execution_count": 8,
   "metadata": {
    "ExecuteTime": {
     "end_time": "2020-07-07T16:25:15.581115Z",
     "start_time": "2020-07-07T16:25:03.263898Z"
    }
   },
   "outputs": [],
   "source": [
    "init_cond = p21c.initial_conditions(\n",
    "    cosmo_params=cosmo_params,\n",
    "    user_params=user_params\n",
    ")"
   ]
  },
  {
   "cell_type": "markdown",
   "metadata": {},
   "source": [
    "## Gaussian function"
   ]
  },
  {
   "cell_type": "code",
   "execution_count": 9,
   "metadata": {
    "ExecuteTime": {
     "end_time": "2020-07-07T16:25:15.589907Z",
     "start_time": "2020-07-07T16:25:15.584634Z"
    }
   },
   "outputs": [],
   "source": [
    "def Gaussian(x, sigma):  # μ=0, σ=1/sqrt(2), π=1\n",
    "    Gaussian = np.exp(-(x/sigma)**2)\n",
    "    return Gaussian"
   ]
  },
  {
   "cell_type": "markdown",
   "metadata": {},
   "source": [
    "## Measure the distance of each voxel to the center"
   ]
  },
  {
   "cell_type": "code",
   "execution_count": 26,
   "metadata": {
    "ExecuteTime": {
     "end_time": "2020-07-07T16:28:09.386985Z",
     "start_time": "2020-07-07T16:28:09.382416Z"
    }
   },
   "outputs": [],
   "source": [
    "def distance_from_coordinate(box_length):\n",
    "        \n",
    "    index = np.arange(-0.5*(box_length-1), 0.5*(box_length+1))\n",
    "\n",
    "    x_mesh, y_mesh, z_mesh = np.meshgrid(index, index, index, indexing='ij')\n",
    "    \n",
    "    distance = np.sqrt((x_mesh)**2 + (y_mesh)**2 + (z_mesh)**2)\n",
    "    \n",
    "    return distance"
   ]
  },
  {
   "cell_type": "markdown",
   "metadata": {},
   "source": [
    "## Random Coordinate"
   ]
  },
  {
   "cell_type": "code",
   "execution_count": 304,
   "metadata": {
    "ExecuteTime": {
     "end_time": "2020-07-08T05:44:26.421797Z",
     "start_time": "2020-07-08T05:44:26.418199Z"
    }
   },
   "outputs": [],
   "source": [
    "def random_voxel(box_length):\n",
    "    \n",
    "#     np.random.seed()  # set seed to a randome number\n",
    "    np.random.seed(4) ; np.random.rand(10)  # specifying seed for testing purposes\n",
    "\n",
    "    coordinate = np.random.randint(0, box_length, size=3)\n",
    "\n",
    "    return coordinate"
   ]
  },
  {
   "cell_type": "markdown",
   "metadata": {
    "ExecuteTime": {
     "end_time": "2020-07-02T04:52:03.906927Z",
     "start_time": "2020-07-02T04:52:03.902405Z"
    }
   },
   "source": [
    "## Select a Smaller Cube with Sides 2R+1 Voxels, Centered about the Random Coordinate"
   ]
  },
  {
   "cell_type": "code",
   "execution_count": 12,
   "metadata": {
    "ExecuteTime": {
     "end_time": "2020-07-07T16:25:15.617417Z",
     "start_time": "2020-07-07T16:25:15.607108Z"
    }
   },
   "outputs": [],
   "source": [
    "def cube_centered_about_coordinate(coordinate_array, radius, box):\n",
    "    x_ind1 = coordinate_array[0]-radius  # x-domian\n",
    "    x_ind2 = coordinate_array[0]+radius+1  # ending index is not inclusive\n",
    "    y_ind1 = coordinate_array[1]-radius  # y-domain\n",
    "    y_ind2 = coordinate_array[1]+radius+1\n",
    "    z_ind1 = coordinate_array[2]-radius  # z-domain\n",
    "    z_ind2 = coordinate_array[2]+radius+1\n",
    "\n",
    "    if x_ind1 < 0:  # periodic boundary conditions\n",
    "        x_inds = np.r_[(x_ind1+len(box)):len(box), 0:x_ind2]\n",
    "    elif x_ind2 > len(box):\n",
    "        x_inds = np.r_[x_ind1:len(box), 0:(x_ind2-len(box))]\n",
    "    else:\n",
    "        x_inds = np.r_[x_ind1:x_ind2]\n",
    "\n",
    "    if y_ind1 < 0:\n",
    "        y_inds = np.r_[(y_ind1+len(box)):len(box), 0:y_ind2]\n",
    "    elif y_ind2 > len(box):\n",
    "        y_inds = np.r_[y_ind1:len(box), 0:(y_ind2-len(box))]\n",
    "    else:\n",
    "        y_inds = np.r_[y_ind1:y_ind2]\n",
    "\n",
    "    if z_ind1 < 0:\n",
    "        z_inds = np.r_[(z_ind1+len(box)):len(box), 0:z_ind2]\n",
    "    elif z_ind2 > len(box):\n",
    "        z_inds = np.r_[z_ind1:len(box), 0:(z_ind2-len(box))]\n",
    "    else:\n",
    "        z_inds = np.r_[z_ind1:z_ind2]\n",
    "\n",
    "    indices = np.ix_(x_inds, y_inds, z_inds)\n",
    "        \n",
    "    output_box = box[indices]\n",
    "    \n",
    "    return output_box"
   ]
  },
  {
   "cell_type": "markdown",
   "metadata": {},
   "source": [
    "## Gausssian Sphere Averaging"
   ]
  },
  {
   "cell_type": "code",
   "execution_count": 13,
   "metadata": {
    "ExecuteTime": {
     "end_time": "2020-07-07T16:25:15.625551Z",
     "start_time": "2020-07-07T16:25:15.619658Z"
    }
   },
   "outputs": [],
   "source": [
    "def gaussian_sphere_average(distance_box, radius, input_box, shell_num, sigma_factor):\n",
    "    \n",
    "    mean = []\n",
    "\n",
    "    shell_radius_edges = np.linspace(0,1,shell_num+1)\n",
    "    shell_center = 0.5*(shell_radius_edges[1:] + shell_radius_edges[:-1])*sigma_factor*radius  \n",
    "    # sigma_factor number of sigmas the weighting goes out to, sigma = radius\n",
    "    weight = Gaussian(x=shell_center, sigma=radius)\n",
    "\n",
    "    for ii in range(shell_num):\n",
    "        condition = np.logical_and(\n",
    "            distance_box <= shell_radius_edges[ii+1]*radius, \n",
    "            distance_box > shell_radius_edges[ii]*radius\n",
    "        )\n",
    "        inside_shell_mean = np.mean(input_box[condition])\n",
    "        mean = np.append(mean, inside_shell_mean)\n",
    "        \n",
    "    Gaussian_mean = np.average(mean, weights=weight)\n",
    "    \n",
    "    return Gaussian_mean"
   ]
  },
  {
   "cell_type": "markdown",
   "metadata": {},
   "source": [
    "## Top Hat Sphere Averaging"
   ]
  },
  {
   "cell_type": "code",
   "execution_count": 14,
   "metadata": {
    "ExecuteTime": {
     "end_time": "2020-07-07T16:25:15.630072Z",
     "start_time": "2020-07-07T16:25:15.627362Z"
    }
   },
   "outputs": [],
   "source": [
    "def top_hat_sphere_average(distance_box, radius, input_box):\n",
    "    \n",
    "    condition = distance_box <= radius\n",
    "    mean = np.mean(input_box[condition])\n",
    "    \n",
    "    return mean"
   ]
  },
  {
   "cell_type": "markdown",
   "metadata": {},
   "source": [
    "## Top Hat Cube Averaging"
   ]
  },
  {
   "cell_type": "code",
   "execution_count": 15,
   "metadata": {
    "ExecuteTime": {
     "end_time": "2020-07-07T16:25:15.633976Z",
     "start_time": "2020-07-07T16:25:15.631468Z"
    }
   },
   "outputs": [],
   "source": [
    "def top_hat_cube_average(input_box):\n",
    "    \n",
    "    mean = np.mean(input_box)\n",
    "    \n",
    "    return mean"
   ]
  },
  {
   "cell_type": "markdown",
   "metadata": {},
   "source": [
    "## Sphere Blurring Function"
   ]
  },
  {
   "cell_type": "code",
   "execution_count": 16,
   "metadata": {
    "ExecuteTime": {
     "end_time": "2020-07-07T16:25:15.646888Z",
     "start_time": "2020-07-07T16:25:15.635708Z"
    }
   },
   "outputs": [],
   "source": [
    "def Average_Neutral_Fraction_Distribution(\n",
    "    box, \n",
    "    radius, \n",
    "    iteration, \n",
    "    shell_num=6, \n",
    "    sigma_factor=4, \n",
    "    blur_shape=None\n",
    "):\n",
    "    \n",
    "    box = box.copy()  # make copy of input box to have a separate box\n",
    "    \n",
    "    mean_data = []  # empty list for data collection\n",
    "    \n",
    "    if blur_shape == 'Gaussian_sphere':\n",
    "        dist_frm_coord_box = distance_from_coordinate(radius*2+1)\n",
    "        for i in range(iteration):\n",
    "            rand_coord = random_voxel(len(box))\n",
    "            cube_region_box = cube_centered_about_coordinate(rand_coord, radius, box)\n",
    "            mean = gaussian_sphere_average(dist_frm_coord_box, radius, cube_region_box, shell_num, sigma_factor)\n",
    "            mean_data = np.append(mean_data, mean)\n",
    "        \n",
    "    elif blur_shape == 'top_hat_sphere':\n",
    "        radius = int(round(radius*((3*np.sqrt(np.pi)/4)**(1/3))))  # ratio numerically calculated.\n",
    "        dist_frm_coord_box = distance_from_coordinate(radius*2+1)\n",
    "        for i in range(iteration):\n",
    "            rand_coord = random_voxel(len(box))\n",
    "            cube_region_box = cube_centered_about_coordinate(rand_coord, radius, box)\n",
    "            mean = top_hat_sphere_average(dist_frm_coord_box, radius, cube_region_box)\n",
    "            mean_data = np.append(mean_data, mean)\n",
    "            \n",
    "    elif blur_shape == 'top_hat_cube':\n",
    "        radius = int(round((radius*np.sqrt(np.pi)-1)/2))  # ratio determiend by equating the volumes of cube & sphere\n",
    "        for i in range(iteration):\n",
    "            rand_coord = random_voxel(len(box))\n",
    "            cube_region_box = cube_centered_about_coordinate(rand_coord, radius, box)\n",
    "            mean = top_hat_cube_average(cube_region_box)\n",
    "            mean_data = np.append(mean_data, mean)\n",
    "    else:\n",
    "        print('Blurring shape assumed to be a Gaussian sphere with 4 shells \\\n",
    "              weighted by equally spaced values from 0 sigma to 4 sigma.')\n",
    "        dist_frm_coord_box = distance_from_coordinate(radius*2+1)\n",
    "        for i in range(iteration):\n",
    "            rand_coord = random_voxel(len(box))\n",
    "            cube_region_box = cube_centered_about_coordinate(rand_coord, radius, box)\n",
    "            mean = gaussian_sphere_average(dist_frm_coord_box, radius, cube_region_box, shell_num, sigma_factor)\n",
    "            mean_data = np.append(mean_data, mean)\n",
    "            \n",
    "    return mean_data"
   ]
  },
  {
   "cell_type": "markdown",
   "metadata": {},
   "source": [
    "## Histogram Function"
   ]
  },
  {
   "cell_type": "code",
   "execution_count": 303,
   "metadata": {
    "ExecuteTime": {
     "end_time": "2020-07-08T05:42:34.172735Z",
     "start_time": "2020-07-08T05:42:34.159790Z"
    }
   },
   "outputs": [],
   "source": [
    "def histogram(\n",
    "    fs, \n",
    "    figure_shape, \n",
    "    title=None, \n",
    "    x_start=0, \n",
    "    x_stop=1, \n",
    "    bin_num=100, \n",
    "    color='white', \n",
    "    figure_size=(18,7), \n",
    "    font_size=15, \n",
    "    horizontal_gap=0.05, \n",
    "    vertical_gap=0.05, \n",
    "    y_scale='linear', \n",
    "    y_notation='plain', \n",
    "    sharex=True, \n",
    "    sharey=True\n",
    "):  # a: x start, b: x stop\n",
    "    \n",
    "    bin_edges = np.linspace(x_start, x_stop, bin_num) # 100 bins from 0-1\n",
    "    bin_centers = 0.5 * (bin_edges[1:] + bin_edges[:-1])\n",
    "    if type(fs) is tuple:  # hopefully more robust condition.\n",
    "        fig, axes = plt.subplots(\n",
    "            figure_shape[0], \n",
    "            figure_shape[1], \n",
    "            figsize=figure_size, \n",
    "            sharex=sharex, \n",
    "            sharey=sharey, \n",
    "            gridspec_kw={\"hspace\":vertical_gap, 'wspace':horizontal_gap})\n",
    "        for i, f in enumerate(fs):\n",
    "            axes.flatten()[i].plot(bin_centers, np.histogram(f, bins=bin_edges)[0])\n",
    "            if title is not None:\n",
    "                axes.flatten()[i].set_title(title[i], color=color, fontsize=font_size)\n",
    "            axes.flatten()[i].tick_params(color=color, labelcolor=color, labelsize=font_size)  # figure color\n",
    "            axes.flatten()[i].set_yscale(y_scale)\n",
    "            if y_notation is 'sci':\n",
    "                axes.flatten()[i].ticklabel_format(axis='y', style=y_notation, scilimits=(0,0), useMathText=True)\n",
    "            for spine in axes.flatten()[i].spines.values():\n",
    "                spine.set_edgecolor(color)\n",
    "    else:\n",
    "        fig, ax = plt.subplots(figsize=figure_size)\n",
    "        ax.plot(bin_centers, np.histogram(fs, bins=bin_edges)[0])\n",
    "        if title is not None:\n",
    "            ax.set_title(title, color=color, fontsize=font_size)\n",
    "        ax.tick_params(color=color, labelcolor=color, labelsize=font_size)  # figure color\n",
    "        ax.set_yscale(y_scale)\n",
    "        if y_notation is 'sci':\n",
    "            ax.ticklabel_format(axis='y', style=y_notation, scilimits=(0,0), useMathText=True)\n",
    "        for spine in ax.spines.values():\n",
    "            spine.set_edgecolor(color)"
   ]
  },
  {
   "cell_type": "markdown",
   "metadata": {},
   "source": [
    "## Plots"
   ]
  },
  {
   "cell_type": "code",
   "execution_count": 301,
   "metadata": {
    "ExecuteTime": {
     "end_time": "2020-07-08T05:31:20.488222Z",
     "start_time": "2020-07-08T05:31:20.456594Z"
    },
    "code_folding": []
   },
   "outputs": [],
   "source": [
    "def plots(\n",
    "    x_vals, \n",
    "    y1s, \n",
    "    figure_shape, \n",
    "    y2s=None, \n",
    "    y3s=None, \n",
    "    y4s=None,\n",
    "    y5s=None,\n",
    "    y6s=None,\n",
    "    y7s=None,\n",
    "    y1s_label=None, \n",
    "    y2s_label=None, \n",
    "    y3s_label=None,\n",
    "    y4s_label=None,\n",
    "    y5s_label=None,\n",
    "    y6s_label=None,\n",
    "    y7s_label=None,\n",
    "    title=None,\n",
    "    shared_title=None,\n",
    "    shared_title_x_position=0.5,   # figure coordinates, max=1 I think\n",
    "    shared_title_y_position=0.92,\n",
    "    x_shared_label=None, \n",
    "    x_shared_label_x_position=0.5,\n",
    "    x_shared_label_y_position=0.08,\n",
    "    y_shared_label=None, \n",
    "    y_shared_label_x_position=0.07,\n",
    "    y_shared_label_y_postion=0.5,\n",
    "    y_label=None, \n",
    "    color='white', \n",
    "    figure_size=(18,7), \n",
    "    font_size=15, \n",
    "    horizontal_gap=0.05, \n",
    "    vertical_gap=0.05, \n",
    "    y_scale='linear', \n",
    "    y_notation='plain', \n",
    "    sharex=True, \n",
    "    sharey=True\n",
    "):  # a: x start, b: x stop\n",
    "    \n",
    "    if type(y1s) is tuple:  # hopefully more robust condition.\n",
    "        \n",
    "        fig, axes = plt.subplots(\n",
    "            figure_shape[0], \n",
    "            figure_shape[1], \n",
    "            figsize=figure_size, \n",
    "            sharex=sharex, \n",
    "            sharey=sharey, \n",
    "            gridspec_kw={\"hspace\":vertical_gap, 'wspace':horizontal_gap}\n",
    "        )\n",
    "        \n",
    "        if shared_title is not None:\n",
    "            fig.suptitle(\n",
    "                x=shared_title_x_position, \n",
    "                y=shared_title_y_position, \n",
    "                t=shared_title, ha='center', \n",
    "                size=1.5*font_size, \n",
    "                color=color\n",
    "            )\n",
    "        \n",
    "        for i, y1 in enumerate(y1s):\n",
    "            \n",
    "            axes.flatten()[i].plot(x_vals, y1, label=y1s_label)  # plotting f\n",
    "            \n",
    "            if y2s is not None:  # plotting g if iterable is inputted\n",
    "                axes.flatten()[i].plot(x_vals, y2s[i], '--', label=y2s_label)\n",
    "                \n",
    "                if y3s is None:\n",
    "                    axes.flatten()[i].legend()\n",
    "                    \n",
    "                else:  # plotting h if iterable is inputted\n",
    "                    axes.flatten()[i].plot(x_vals, y3s[i], '-.', label=y3s_label)\n",
    "                    \n",
    "                    if y4s is None:\n",
    "                        axes.flatten()[i].legend()\n",
    "                        \n",
    "                    else:\n",
    "                        axes.flatten()[i].plot(x_vals, y4s[i], ':', label=y4s_label)\n",
    "                        \n",
    "                        if y5s is None:\n",
    "                            axes.flatten()[i].legend()\n",
    "                            \n",
    "                        else:\n",
    "                            axes.flatten()[i].plot(x_vals, y5s[i], '-o', label=y5s_label)\n",
    "                            \n",
    "                            if y6s is None:\n",
    "                                axes.flatten()[i].legend()\n",
    "                            \n",
    "                            else:\n",
    "                                axes.flatten()[i].plot(x_vals, y6s[i], '-*', label=y6s_label)\n",
    "                                \n",
    "                                if y7s is None:\n",
    "                                    axes.flatten()[i].legend()\n",
    "                            \n",
    "                                else:\n",
    "                                    axes.flatten()[i].plot(x_vals, y7s[i], '-x', label=y7s_label)\n",
    "                                    axes.flatten()[i].legend()\n",
    "            \n",
    "            if title is not None:  # title if inputted\n",
    "                axes.flatten()[i].set_title(title[i], color=color, fontsize=font_size)\n",
    "            \n",
    "            if y_label is not None:  # y label if inputted\n",
    "                axes.flatten()[i].set_ylabel(y_label[i], color=color, fontsize=font_size)\n",
    "                \n",
    "            if x_shared_label is not None:  # shared x label\n",
    "                fig.text(\n",
    "                    x=x_shared_label_x_position, \n",
    "                    y=x_shared_label_y_position, \n",
    "                    s=x_shared_label, ha='center', \n",
    "                    size=font_size, \n",
    "                    color=color\n",
    "                )\n",
    "            \n",
    "            if y_shared_label is not None:  # shared y label\n",
    "                fig.text(\n",
    "                    x=y_shared_label_x_position, \n",
    "                    y=y_shared_label_y_postion, \n",
    "                    s=y_shared_label, \n",
    "                    va='center', \n",
    "                    rotation='vertical', \n",
    "                    size=font_size, \n",
    "                    color=color\n",
    "                )\n",
    "            \n",
    "            axes.flatten()[i].set_yscale(y_scale)  # y axis linear or log scale\n",
    "            \n",
    "            if y_notation is 'sci':  # plain or scientific notation\n",
    "                axes.flatten()[i].ticklabel_format(\n",
    "                    axis='y', \n",
    "                    style=y_notation[i], \n",
    "                    scilimits=(0,0), \n",
    "                    useMathText=True\n",
    "                )\n",
    "            \n",
    "            axes.flatten()[i].tick_params(\n",
    "                color=color, \n",
    "                labelcolor=color, \n",
    "                labelsize=font_size, \n",
    "                size=font_size\n",
    "            )  # font style\n",
    "            \n",
    "            for spine in axes.flatten()[i].spines.values():  # figure spine color\n",
    "                spine.set_edgecolor(color)\n",
    "\n",
    "    else:\n",
    "        \n",
    "        fig, ax = plt.subplots(figsize=figure_size)  # creating subplots\n",
    "        \n",
    "        ax.plot(x_vals, y1s, label=y1s_label)  # plotting f\n",
    "        \n",
    "        if y2s is not None:  # plotting g if inputted\n",
    "            ax.plot(x_vals, y2s, '--', label=y2s_label)\n",
    "            \n",
    "            if y3s is None:\n",
    "                ax.legend()\n",
    "\n",
    "            else:  # plotting h if iterable is inputted\n",
    "                ax.plot(x_vals, y3s, '-.', label=y3s_label)\n",
    "\n",
    "                if y4s is None:\n",
    "                    ax.legend()\n",
    "\n",
    "                else:\n",
    "                    ax.plot(x_vals, y4s, ':', label=y4s_label)\n",
    "\n",
    "                    if y5s is None:\n",
    "                        ax.legend()\n",
    "\n",
    "                    else:\n",
    "                        ax.plot(x_vals, y5s, '-o', label=y5s_label)\n",
    "\n",
    "                        if y6s is None:\n",
    "                            ax.legend()\n",
    "\n",
    "                        else:\n",
    "                            ax.plot(x_vals, y6s, '-*', label=y6s_label)\n",
    "\n",
    "                            if y7s is None:\n",
    "                                ax.legend()\n",
    "\n",
    "                            else:\n",
    "                                ax.plot(x_vals, y7s, '-x', label=y7s_label)\n",
    "                                ax.legend()\n",
    "            \n",
    "        if title is not None:  # title if inputed\n",
    "            ax.set_title(title, color=color, fontsize=font_size)\n",
    "            \n",
    "        if y_label is not None:  # y label  if inputed\n",
    "            ax.set_ylabel(y_label, color=color, fontsize=font_size)\n",
    "            \n",
    "        ax.set_yscale(y_scale)  # linear or log\n",
    "        \n",
    "        if y_notation is 'sci':  # plain or scientific notation\n",
    "            ax.ticklabel_format(\n",
    "                axis='y', \n",
    "                style=y_notation, \n",
    "                scilimits=(0,0), \n",
    "                useMathText=True\n",
    "            )\n",
    "\n",
    "        ax.tick_params(  # font style\n",
    "            color=color, \n",
    "            labelcolor=color, \n",
    "            labelsize=font_size, \n",
    "            size=font_size\n",
    "        )\n",
    "        \n",
    "        for spine in ax.spines.values():  # figure spine color\n",
    "            spine.set_edgecolor(color)"
   ]
  },
  {
   "cell_type": "markdown",
   "metadata": {},
   "source": [
    "## Creating Ionize box"
   ]
  },
  {
   "cell_type": "code",
   "execution_count": 19,
   "metadata": {
    "ExecuteTime": {
     "end_time": "2020-07-07T16:25:16.682161Z",
     "start_time": "2020-07-07T16:25:15.676421Z"
    }
   },
   "outputs": [],
   "source": [
    "ionized = p21c.ionize_box(redshift=6.5, init_boxes=init_cond).xH_box"
   ]
  },
  {
   "cell_type": "markdown",
   "metadata": {},
   "source": [
    "## Creating Noise Box"
   ]
  },
  {
   "cell_type": "code",
   "execution_count": 20,
   "metadata": {
    "ExecuteTime": {
     "end_time": "2020-07-07T16:25:17.053804Z",
     "start_time": "2020-07-07T16:25:16.684466Z"
    }
   },
   "outputs": [],
   "source": [
    "np.random.seed()\n",
    "# np.random.seed(5) ; np.random.rand(10)\n",
    "noise_box = np.random.rand(301, 301, 301)"
   ]
  },
  {
   "cell_type": "markdown",
   "metadata": {},
   "source": [
    "## Blurring the box"
   ]
  },
  {
   "cell_type": "markdown",
   "metadata": {
    "ExecuteTime": {
     "end_time": "2020-07-07T01:03:47.662298Z",
     "start_time": "2020-07-07T00:59:41.275095Z"
    }
   },
   "source": [
    "gaussian24 = Average_Neutral_Fraction_Distribution(\n",
    "    box=ionized, \n",
    "    radius=24, \n",
    "    iteration=10**5, \n",
    "    blur_shape='Gaussian_sphere'\n",
    ")"
   ]
  },
  {
   "cell_type": "markdown",
   "metadata": {
    "ExecuteTime": {
     "end_time": "2020-07-07T01:07:16.597769Z",
     "start_time": "2020-07-07T01:03:47.664681Z"
    }
   },
   "source": [
    "gaussian22 = Average_Neutral_Fraction_Distribution(\n",
    "    box=ionized, \n",
    "    radius=22, \n",
    "    iteration=10**5, \n",
    "    blur_shape='Gaussian_sphere'\n",
    ")"
   ]
  },
  {
   "cell_type": "markdown",
   "metadata": {
    "ExecuteTime": {
     "end_time": "2020-07-07T01:10:15.577552Z",
     "start_time": "2020-07-07T01:07:16.600762Z"
    }
   },
   "source": [
    "gaussian20 = Average_Neutral_Fraction_Distribution(\n",
    "    box=ionized, \n",
    "    radius=20, \n",
    "    iteration=10**5, \n",
    "    blur_shape='Gaussian_sphere'\n",
    ")"
   ]
  },
  {
   "cell_type": "markdown",
   "metadata": {
    "ExecuteTime": {
     "end_time": "2020-07-07T01:53:13.504227Z",
     "start_time": "2020-07-07T01:10:15.580085Z"
    }
   },
   "source": [
    "gaussian18 = Average_Neutral_Fraction_Distribution(\n",
    "    box=ionized, \n",
    "    radius=18, \n",
    "    iteration=10**5, \n",
    "    blur_shape='Gaussian_sphere'\n",
    ")"
   ]
  },
  {
   "cell_type": "markdown",
   "metadata": {
    "ExecuteTime": {
     "end_time": "2020-07-07T01:55:28.927470Z",
     "start_time": "2020-07-07T01:53:13.506241Z"
    }
   },
   "source": [
    "gaussian16 = Average_Neutral_Fraction_Distribution(\n",
    "    box=ionized, \n",
    "    radius=16, \n",
    "    iteration=10**5, \n",
    "    blur_shape='Gaussian_sphere'\n",
    ")"
   ]
  },
  {
   "cell_type": "markdown",
   "metadata": {
    "ExecuteTime": {
     "end_time": "2020-07-07T01:57:25.028776Z",
     "start_time": "2020-07-07T01:55:28.929530Z"
    }
   },
   "source": [
    "gaussian14 = Average_Neutral_Fraction_Distribution(\n",
    "    box=ionized, \n",
    "    radius=14, \n",
    "    iteration=10**5, \n",
    "    blur_shape='Gaussian_sphere'\n",
    ")"
   ]
  },
  {
   "cell_type": "markdown",
   "metadata": {
    "ExecuteTime": {
     "end_time": "2020-07-07T01:59:09.478088Z",
     "start_time": "2020-07-07T01:57:25.030675Z"
    }
   },
   "source": [
    "gaussian12 = Average_Neutral_Fraction_Distribution(\n",
    "    box=ionized, \n",
    "    radius=12, \n",
    "    iteration=10**5, \n",
    "    blur_shape='Gaussian_sphere'\n",
    ")"
   ]
  },
  {
   "cell_type": "markdown",
   "metadata": {
    "ExecuteTime": {
     "end_time": "2020-07-07T02:15:55.221796Z",
     "start_time": "2020-07-07T02:14:21.704198Z"
    }
   },
   "source": [
    "gaussian10 = Average_Neutral_Fraction_Distribution(\n",
    "    box=ionized, \n",
    "    radius=10, \n",
    "    iteration=10**5, \n",
    "    blur_shape='Gaussian_sphere'\n",
    ")"
   ]
  },
  {
   "cell_type": "markdown",
   "metadata": {
    "ExecuteTime": {
     "end_time": "2020-07-07T02:28:34.423615Z",
     "start_time": "2020-07-07T02:27:12.132542Z"
    }
   },
   "source": [
    "gaussian8_bimodal = Average_Neutral_Fraction_Distribution(\n",
    "    box=ionized, \n",
    "    radius=8, \n",
    "    iteration=10**5, \n",
    "    blur_shape='Gaussian_sphere'\n",
    ")"
   ]
  },
  {
   "cell_type": "markdown",
   "metadata": {},
   "source": [
    "## Creating Histogram"
   ]
  },
  {
   "cell_type": "markdown",
   "metadata": {
    "ExecuteTime": {
     "end_time": "2020-07-07T06:00:13.409442Z",
     "start_time": "2020-07-07T06:00:10.431094Z"
    }
   },
   "source": [
    "histogram((gaussian24, gaussian22, gaussian20, gaussian18, gaussian16, gaussian14, gaussian12, gaussian10, gaussian8_bimodal), title=['gaussian24', 'gaussian22', 'gaussian20', 'gaussian18', 'gaussian16', 'guassian14', 'gaussian12', 'gaussian10', 'gaussian8_bimodal'], figure_shape=(3, 3), figure_size=(18, 18), vertical_gap=0.1, y_scale='log')"
   ]
  },
  {
   "cell_type": "markdown",
   "metadata": {},
   "source": [
    "## Creating plots of standard deviation of average neutral fraction distributions as a function of shell numbers and radii."
   ]
  },
  {
   "cell_type": "code",
   "execution_count": 297,
   "metadata": {
    "ExecuteTime": {
     "end_time": "2020-07-08T05:29:58.237953Z",
     "start_time": "2020-07-08T05:27:01.750056Z"
    }
   },
   "outputs": [
    {
     "name": "stdout",
     "output_type": "stream",
     "text": [
      "10\n",
      "20\n",
      "30\n",
      "40\n",
      "50\n",
      "60\n",
      "70\n",
      "80\n",
      "90\n"
     ]
    }
   ],
   "source": [
    "iterations = 10**1\n",
    "radii = np.arange(10, 100, 10)\n",
    "sigma_factors = np.arange(1, 6)\n",
    "shell_numbers = np.arange(1, 9)\n",
    "stand_devs_gaussian = []  # empty list for data collection\n",
    "stand_devs_sphere = []\n",
    "stand_devs_cube = []\n",
    "\n",
    "for radius in radii:\n",
    "    \n",
    "    print(f'progress = {radius*10/9}%')\n",
    "    \n",
    "    sphere = Average_Neutral_Fraction_Distribution(\n",
    "            box=noise_box,\n",
    "            radius=radius,\n",
    "            iteration=iterations,\n",
    "            blur_shape='top_hat_sphere'\n",
    "        )\n",
    "    \n",
    "    cube = Average_Neutral_Fraction_Distribution(\n",
    "            box=noise_box,\n",
    "            radius=radius,\n",
    "            iteration=iterations,\n",
    "            blur_shape='top_hat_cube'\n",
    "        )\n",
    "    \n",
    "    stand_dev_sphere = np.std(sphere)\n",
    "    stand_dev_cube = np.std(cube)\n",
    "        \n",
    "    for shell_num in shell_numbers:\n",
    "        \n",
    "        stand_devs_sphere = np.append(stand_devs_sphere, stand_dev_sphere)\n",
    "        stand_devs_cube = np.append(stand_devs_cube, stand_dev_cube)\n",
    "            \n",
    "        for sigma_factor in sigma_factors:\n",
    "            \n",
    "            gaussian = Average_Neutral_Fraction_Distribution(\n",
    "                box=noise_box,\n",
    "                radius=radius,\n",
    "                sigma_factor=sigma_factor,\n",
    "                iteration=iterations,\n",
    "                shell_num=shell_num,\n",
    "                blur_shape='Gaussian_sphere'\n",
    "            )\n",
    "\n",
    "            stand_dev_gaussian = np.std(gaussian)\n",
    "            \n",
    "            stand_devs_gaussian = np.append(stand_devs_gaussian, stand_dev_gaussian)\n",
    "\n",
    "        \n",
    "stand_devs_gaussian = stand_devs_gaussian.reshape(len(radii), len(shell_numbers), len(sigma_factors))\n",
    "stand_devs_sphere = stand_devs_sphere.reshape(len(radii), len(shell_numbers))\n",
    "stand_devs_cube = stand_devs_cube.reshape(len(radii), len(shell_numbers))"
   ]
  },
  {
   "cell_type": "code",
   "execution_count": 308,
   "metadata": {
    "ExecuteTime": {
     "end_time": "2020-07-08T06:04:49.811831Z",
     "start_time": "2020-07-08T06:04:47.523803Z"
    },
    "scrolled": true
   },
   "outputs": [
    {
     "data": {
      "image/png": "[encoded data removed]",
      "text/plain": [
       "<Figure size 1296x1296 with 9 Axes>"
      ]
     },
     "metadata": {
      "needs_background": "dark"
     },
     "output_type": "display_data"
    }
   ],
   "source": [
    "titles = []\n",
    "for radius in radii:\n",
    "    titles = np.append(titles, f'Radius = {radius}')\n",
    "plots(\n",
    "    x_vals=shell_numbers, \n",
    "    y1s=tuple(stand_devs_gaussian[:,:,0]),\n",
    "    y2s=tuple(stand_devs_gaussian[:,:,1]),\n",
    "    y3s=tuple(stand_devs_gaussian[:,:,2]),\n",
    "    y4s=tuple(stand_devs_gaussian[:,:,3]),\n",
    "    y5s=tuple(stand_devs_gaussian[:,:,4]),\n",
    "    y6s=tuple(stand_devs_sphere), \n",
    "    y7s=tuple(stand_devs_cube),\n",
    "    y1s_label='Gaus 1σ',\n",
    "    y2s_label='Gaus 2σ',\n",
    "    y3s_label='Gaus 3σ',\n",
    "    y4s_label='Gaus 4σ',\n",
    "    y5s_label='Gaus 5σ',\n",
    "    y6s_label='Sphere', \n",
    "    y7s_label='Cube',\n",
    "    y_shared_label='Standard Deviation', \n",
    "    x_shared_label='Number of Weighted Bins / Spherical Shells', \n",
    "    figure_shape=(3,3), \n",
    "    figure_size=(18,18), \n",
    "    title=titles, \n",
    "    shared_title='Standard Deviation of Average Neutral Fraction Distribution',\n",
    "    vertical_gap=0.1\n",
    ")"
   ]
  }
 ],
 "metadata": {
  "kernelspec": {
   "display_name": "21cmfast2",
   "language": "python",
   "name": "21cmfast2"
  }
 },
 "nbformat": 4,
 "nbformat_minor": 4
}
