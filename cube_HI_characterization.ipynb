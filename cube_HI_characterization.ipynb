{
 "cells": [
  {
   "cell_type": "markdown",
   "metadata": {},
   "source": [
    "# The preceeding ipynb is semi more general in selecting it's blurring region.\n",
    "# It is capable of selecting cuboid, i.e. unequal sides\n",
    "# This ipynb restricts to only cubes, i.e. equal sides, as an attempt to be more computationally efficient\n",
    "# The reason for this restriction relies on the assumption that the blurring region are spheres"
   ]
  },
  {
   "cell_type": "markdown",
   "metadata": {},
   "source": [
    "## Importing Libraries"
   ]
  },
  {
   "cell_type": "code",
   "execution_count": 93,
   "metadata": {
    "ExecuteTime": {
     "end_time": "2020-07-04T00:13:13.791127Z",
     "start_time": "2020-07-04T00:13:13.771092Z"
    }
   },
   "outputs": [],
   "source": [
    "%matplotlib inline\n",
    "import matplotlib.pyplot as plt\n",
    "import logging\n",
    "import numpy as np\n",
    "import py21cmfast as p21c"
   ]
  },
  {
   "cell_type": "markdown",
   "metadata": {},
   "source": [
    "## Cosmological Parameters (Default is used when no input is specified)"
   ]
  },
  {
   "cell_type": "code",
   "execution_count": 94,
   "metadata": {
    "ExecuteTime": {
     "end_time": "2020-07-04T00:13:13.795889Z",
     "start_time": "2020-07-04T00:13:13.793241Z"
    }
   },
   "outputs": [],
   "source": [
    "cosmo_params = p21c.CosmoParams()"
   ]
  },
  {
   "cell_type": "markdown",
   "metadata": {},
   "source": [
    "## User Parameters, like box length, number of voxels (i.e. resolution) etc."
   ]
  },
  {
   "cell_type": "code",
   "execution_count": 95,
   "metadata": {
    "ExecuteTime": {
     "end_time": "2020-07-04T00:13:13.801681Z",
     "start_time": "2020-07-04T00:13:13.798462Z"
    }
   },
   "outputs": [],
   "source": [
    "BOX_LEN = 301\n",
    "\n",
    "user_params = p21c.UserParams(\n",
    "    BOX_LEN=BOX_LEN,  # Box length\n",
    "    DIM=2*BOX_LEN,      # Number of Voxels for hight resolution \n",
    "    HII_DIM=BOX_LEN  # Number of Voxels for low resolution \n",
    ")"
   ]
  },
  {
   "cell_type": "markdown",
   "metadata": {},
   "source": [
    "## Creating initial conditions box"
   ]
  },
  {
   "cell_type": "code",
   "execution_count": 96,
   "metadata": {
    "ExecuteTime": {
     "end_time": "2020-07-04T00:13:28.400134Z",
     "start_time": "2020-07-04T00:13:13.803856Z"
    }
   },
   "outputs": [],
   "source": [
    "init_cond = p21c.initial_conditions(\n",
    "    cosmo_params=cosmo_params,\n",
    "    user_params=user_params\n",
    ")"
   ]
  },
  {
   "cell_type": "markdown",
   "metadata": {},
   "source": [
    "## Gaussian function"
   ]
  },
  {
   "cell_type": "code",
   "execution_count": 97,
   "metadata": {
    "ExecuteTime": {
     "end_time": "2020-07-04T00:13:28.412071Z",
     "start_time": "2020-07-04T00:13:28.405031Z"
    }
   },
   "outputs": [],
   "source": [
    "def Gaussian(x, sigma=1, mu=0):\n",
    "    return (1/sigma/np.sqrt(2*np.pi))*(np.exp(-0.5*(((x-mu)/sigma)**2)))"
   ]
  },
  {
   "cell_type": "markdown",
   "metadata": {},
   "source": [
    "## Measure the distance of each voxel to the center"
   ]
  },
  {
   "cell_type": "code",
   "execution_count": 98,
   "metadata": {
    "ExecuteTime": {
     "end_time": "2020-07-04T00:13:28.418550Z",
     "start_time": "2020-07-04T00:13:28.414175Z"
    }
   },
   "outputs": [],
   "source": [
    "def distance_from_coordinate(box_length):\n",
    "    \n",
    "    index = np.arange(-0.5*(box_length-1), 0.5*(box_length+1))\n",
    "\n",
    "    x_mesh, y_mesh, z_mesh = np.meshgrid(index, index, index, indexing='ij')\n",
    "    \n",
    "    distance = np.sqrt((x_mesh)**2 + (y_mesh)**2 + (z_mesh)**2)\n",
    "    \n",
    "    return distance"
   ]
  },
  {
   "cell_type": "markdown",
   "metadata": {},
   "source": [
    "## Random Coordinate"
   ]
  },
  {
   "cell_type": "code",
   "execution_count": 99,
   "metadata": {
    "ExecuteTime": {
     "end_time": "2020-07-04T00:13:28.426206Z",
     "start_time": "2020-07-04T00:13:28.422068Z"
    }
   },
   "outputs": [],
   "source": [
    "def random_voxel(box_length):\n",
    "    \n",
    "    np.random.seed()  # set seed to a randome number\n",
    "#     np.random.seed(4) ; np.random.rand(10)\n",
    "\n",
    "    coordinate = np.random.randint(0, box_length, size=3)\n",
    "\n",
    "    return coordinate"
   ]
  },
  {
   "cell_type": "markdown",
   "metadata": {
    "ExecuteTime": {
     "end_time": "2020-07-02T04:52:03.906927Z",
     "start_time": "2020-07-02T04:52:03.902405Z"
    }
   },
   "source": [
    "## Select a Smaller Cube with Sides 2R+1 Voxels, Centered about the Random Coordinate"
   ]
  },
  {
   "cell_type": "code",
   "execution_count": 100,
   "metadata": {
    "ExecuteTime": {
     "end_time": "2020-07-04T00:13:29.014914Z",
     "start_time": "2020-07-04T00:13:28.429700Z"
    }
   },
   "outputs": [],
   "source": [
    "def cube_centered_about_coordinate(coordinate_array, radius, box):\n",
    "    x_ind1 = coordinate_array[0]-radius  # x-domian\n",
    "    x_ind2 = coordinate_array[0]+radius+1  # ending index is not inclusive\n",
    "    y_ind1 = coordinate_array[1]-radius  # y-domain\n",
    "    y_ind2 = coordinate_array[1]+radius+1\n",
    "    z_ind1 = coordinate_array[2]-radius  # z-domain\n",
    "    z_ind2 = coordinate_array[2]+radius+1\n",
    "\n",
    "    if x_ind1 < 0:  # periodic boundary conditions\n",
    "        x_inds = np.r_[(x_ind1+box.shape[0]):box.shape[0], 0:x_ind2]\n",
    "    elif x_ind2 > box.shape[0]:\n",
    "        x_inds = np.r_[x_ind1:box.shape[0], 0:(x_ind2-box.shape[0])]\n",
    "    else:\n",
    "        x_inds = np.r_[x_ind1:x_ind2]\n",
    "\n",
    "    if y_ind1 < 0:\n",
    "        y_inds = np.r_[(y_ind1+box.shape[1]):box.shape[1], 0:y_ind2]\n",
    "    elif y_ind2 > box.shape[1]:\n",
    "        y_inds = np.r_[y_ind1:box.shape[1], 0:(y_ind2-box.shape[1])]\n",
    "    else:\n",
    "        y_inds = np.r_[y_ind1:y_ind2]\n",
    "\n",
    "    if z_ind1 < 0:\n",
    "        z_inds = np.r_[(z_ind1+box.shape[2]):box.shape[2], 0:z_ind2]\n",
    "    elif z_ind2 > box.shape[2]:\n",
    "        z_inds = np.r_[z_ind1:box.shape[2], 0:(z_ind2-box.shape[2])]\n",
    "    else:\n",
    "        z_inds = np.r_[z_ind1:z_ind2]\n",
    "\n",
    "    indices = np.ix_(x_inds, y_inds, z_inds)\n",
    "    \n",
    "    output_box = box[indices]\n",
    "    \n",
    "    return output_box"
   ]
  },
  {
   "cell_type": "markdown",
   "metadata": {},
   "source": [
    "## Gausssian Averaging"
   ]
  },
  {
   "cell_type": "code",
   "execution_count": 101,
   "metadata": {
    "ExecuteTime": {
     "end_time": "2020-07-04T00:13:29.023349Z",
     "start_time": "2020-07-04T00:13:29.017432Z"
    }
   },
   "outputs": [],
   "source": [
    "def gaussian_sphere_average_value(distance_box, radius, input_box, shell_num, sigma_factor):\n",
    "    \n",
    "    mean = []\n",
    "\n",
    "    shell_radius_edges = np.linspace(0,1,shell_num+1)\n",
    "    shell_center = 0.5*(shell_radius_edges[1:] + shell_radius_edges[:-1])\n",
    "    weight = Gaussian(x=shell_center*sigma_factor)\n",
    "\n",
    "    for ii in range(shell_num):\n",
    "        condition = np.logical_and(distance_box <= shell_radius_edges[ii+1]*radius, distance_box > shell_radius_edges[ii]*radius)\n",
    "        inside_shell_mean = np.mean(input_box[condition])\n",
    "        mean = np.append(mean, inside_shell_mean)\n",
    "        \n",
    "    Gaussian_mean = np.average(mean, weights=weight)\n",
    "    \n",
    "    return Gaussian_mean"
   ]
  },
  {
   "cell_type": "markdown",
   "metadata": {},
   "source": [
    "## Sphere Blurring Function"
   ]
  },
  {
   "cell_type": "code",
   "execution_count": 102,
   "metadata": {
    "ExecuteTime": {
     "end_time": "2020-07-04T00:13:29.030121Z",
     "start_time": "2020-07-04T00:13:29.025368Z"
    }
   },
   "outputs": [],
   "source": [
    "def Average_Neutral_Fraction_Distribution(box, radius, iteration, shell_num=1, sigma_factor=4):\n",
    "    \n",
    "    box = box.copy()  # make copy of input box to have a separate box\n",
    "    \n",
    "    dist_frm_coord_box = distance_from_coordinate(radius*2+1)\n",
    "\n",
    "    inside_sphere_mean_data = []  # empty list for data collection\n",
    "    \n",
    "    for i in range(iteration):\n",
    "        \n",
    "        rand_coord = random_voxel(len(noise_box))\n",
    "                \n",
    "        cube_region_box = cube_centered_about_coordinate(rand_coord, radius, box)\n",
    "        \n",
    "        inside_sphere_mean = gaussian_sphere_average_value(dist_frm_coord_box, radius, cube_region_box, shell_num, sigma_factor)\n",
    "        \n",
    "        inside_sphere_mean_data = np.append(inside_sphere_mean_data, inside_sphere_mean)\n",
    "        \n",
    "    return np.array(inside_sphere_mean_data)"
   ]
  },
  {
   "cell_type": "markdown",
   "metadata": {},
   "source": [
    "## Histogram Function"
   ]
  },
  {
   "cell_type": "code",
   "execution_count": 132,
   "metadata": {
    "ExecuteTime": {
     "end_time": "2020-07-04T00:33:22.073078Z",
     "start_time": "2020-07-04T00:33:22.065042Z"
    }
   },
   "outputs": [],
   "source": [
    "def histogram(fs, x_start=0, x_stop=1, bin_num=100, color='white', title=None, figure_size=(18,7), font_size=15):  # a: x start, b: x stop\n",
    "    bin_edges = np.linspace(x_start, x_stop, bin_num) # 100 bins from 0-1\n",
    "    bin_centers = 0.5 * (bin_edges[1:] + bin_edges[:-1])\n",
    "    fig, axes = plt.subplots(1, len(fs), figsize=figure_size, sharex=True, sharey=True, gridspec_kw={\"hspace\":0.05, 'wspace': 0.05})\n",
    "    for i, f in enumerate(fs):\n",
    "        axes[i].plot(bin_centers, np.histogram(f, bins=bin_edges)[0])\n",
    "#         axes[i].set_aspect('equal', 'box')\n",
    "        axes[i].set_title(title[i], color=color, fontsize=font_size)\n",
    "        axes[i].tick_params(color=color, labelcolor=color, labelsize=font_size)  # figure color\n",
    "        for spine in axes[i].spines.values():\n",
    "            spine.set_edgecolor(color)"
   ]
  },
  {
   "cell_type": "markdown",
   "metadata": {},
   "source": [
    "## Creating Ionize box"
   ]
  },
  {
   "cell_type": "code",
   "execution_count": 104,
   "metadata": {
    "ExecuteTime": {
     "end_time": "2020-07-04T00:13:29.925045Z",
     "start_time": "2020-07-04T00:13:29.041218Z"
    }
   },
   "outputs": [],
   "source": [
    "z = 6.5\n",
    "ionized = p21c.ionize_box(redshift=z, init_boxes=init_cond).xH_box"
   ]
  },
  {
   "cell_type": "markdown",
   "metadata": {},
   "source": [
    "## Creating Noise Box"
   ]
  },
  {
   "cell_type": "code",
   "execution_count": 105,
   "metadata": {
    "ExecuteTime": {
     "end_time": "2020-07-04T00:13:30.306398Z",
     "start_time": "2020-07-04T00:13:29.927075Z"
    }
   },
   "outputs": [],
   "source": [
    "np.random.seed()\n",
    "# np.random.seed(5) ; np.random.rand(10)\n",
    "noise_box = np.random.rand(301, 301, 301)"
   ]
  },
  {
   "cell_type": "markdown",
   "metadata": {},
   "source": [
    "## Blurring the box"
   ]
  },
  {
   "cell_type": "code",
   "execution_count": 205,
   "metadata": {
    "ExecuteTime": {
     "end_time": "2020-07-04T01:41:51.421537Z",
     "start_time": "2020-07-04T01:40:55.384912Z"
    }
   },
   "outputs": [],
   "source": [
    "Sphere12 = Average_Neutral_Fraction_Distribution(box=noise_box, radius=7, iteration=10**5, shell_num=1, sigma_factor=1)"
   ]
  },
  {
   "cell_type": "code",
   "execution_count": 117,
   "metadata": {
    "ExecuteTime": {
     "end_time": "2020-07-04T00:22:09.078035Z",
     "start_time": "2020-07-04T00:21:20.439876Z"
    }
   },
   "outputs": [],
   "source": [
    "Sphere3 = Average_Neutral_Fraction_Distribution(box=noise_box, radius=3, iteration=10**5, shell_num=1, sigma_factor=1)"
   ]
  },
  {
   "cell_type": "code",
   "execution_count": 118,
   "metadata": {
    "ExecuteTime": {
     "end_time": "2020-07-04T00:23:41.266267Z",
     "start_time": "2020-07-04T00:22:09.080323Z"
    }
   },
   "outputs": [],
   "source": [
    "Gaussian1 = Average_Neutral_Fraction_Distribution(box=noise_box, radius=10, iteration=10**5, shell_num=6, sigma_factor=1.4370396997748922)"
   ]
  },
  {
   "cell_type": "code",
   "execution_count": 119,
   "metadata": {
    "ExecuteTime": {
     "end_time": "2020-07-04T00:25:12.720823Z",
     "start_time": "2020-07-04T00:23:41.268995Z"
    }
   },
   "outputs": [],
   "source": [
    "Gaussian2 = Average_Neutral_Fraction_Distribution(box=noise_box, radius=10, iteration=10**5, shell_num=6, sigma_factor=4)"
   ]
  },
  {
   "cell_type": "code",
   "execution_count": 120,
   "metadata": {
    "ExecuteTime": {
     "end_time": "2020-07-04T00:27:01.529285Z",
     "start_time": "2020-07-04T00:25:12.723214Z"
    }
   },
   "outputs": [],
   "source": [
    "Gaussian3 = Average_Neutral_Fraction_Distribution(box=noise_box, radius=13, iteration=10**5, shell_num=6, sigma_factor=3*1.4370396997748922)"
   ]
  },
  {
   "cell_type": "code",
   "execution_count": 227,
   "metadata": {
    "ExecuteTime": {
     "end_time": "2020-07-04T02:08:06.568695Z",
     "start_time": "2020-07-04T02:06:04.564156Z"
    }
   },
   "outputs": [],
   "source": [
    "Gaussian4 = Average_Neutral_Fraction_Distribution(box=noise_box, radius=14, iteration=10**5, shell_num=6, sigma_factor=3*1.4370396997748922)"
   ]
  },
  {
   "cell_type": "markdown",
   "metadata": {},
   "source": [
    "## Creating Histogram"
   ]
  },
  {
   "cell_type": "markdown",
   "metadata": {},
   "source": [
    "# Distribution of average values of a noise box"
   ]
  },
  {
   "cell_type": "code",
   "execution_count": 228,
   "metadata": {
    "ExecuteTime": {
     "end_time": "2020-07-04T02:11:04.975218Z",
     "start_time": "2020-07-04T02:11:04.968352Z"
    }
   },
   "outputs": [],
   "source": [
    "var_diff = ['{:.3e}'.format(np.abs(np.var(Sphere12) - np.var(Gaussian1))), '{:.3e}'.format(np.abs(np.var(Sphere12) - np.var(Gaussian2))), '{:.3e}'.format(np.abs(np.var(Sphere) - np.var(Gaussian3))), '{:.3e}'.format(np.abs(np.var(Sphere) - np.var(Gaussian4)))]"
   ]
  },
  {
   "cell_type": "code",
   "execution_count": 229,
   "metadata": {
    "ExecuteTime": {
     "end_time": "2020-07-04T02:11:05.972295Z",
     "start_time": "2020-07-04T02:11:05.969310Z"
    }
   },
   "outputs": [
    {
     "name": "stdout",
     "output_type": "stream",
     "text": [
      "['2.090e-04', '1.170e-03', '1.010e-04', '2.279e-04']\n"
     ]
    }
   ],
   "source": [
    "print(var_diff)"
   ]
  },
  {
   "cell_type": "code",
   "execution_count": 223,
   "metadata": {
    "ExecuteTime": {
     "end_time": "2020-07-04T01:56:21.793746Z",
     "start_time": "2020-07-04T01:56:21.378002Z"
    }
   },
   "outputs": [
    {
     "data": {
      "image/png": "[encoded data removed]",
      "text/plain": [
       "<Figure size 1296x432 with 3 Axes>"
      ]
     },
     "metadata": {
      "needs_background": "dark"
     },
     "output_type": "display_data"
    }
   ],
   "source": [
    "histogram([Sphere12, Gaussian1, Gaussian2], title=['Sphere 1 & 2', f'Gaussian, Option 1, var_diff={var_diff[0]}', f'Gaussian, Option 2, var_diff={var_diff[1]}'], figure_size=(18,6), font_size=13)"
   ]
  },
  {
   "cell_type": "code",
   "execution_count": 217,
   "metadata": {
    "ExecuteTime": {
     "end_time": "2020-07-04T01:54:25.544598Z",
     "start_time": "2020-07-04T01:54:25.197939Z"
    },
    "scrolled": false
   },
   "outputs": [
    {
     "data": {
      "image/png": "[encoded data removed]",
      "text/plain": [
       "<Figure size 1296x576 with 2 Axes>"
      ]
     },
     "metadata": {
      "needs_background": "dark"
     },
     "output_type": "display_data"
    }
   ],
   "source": [
    "histogram([Sphere, Gaussian3], title=['Sphere 3', f'Gaussian, Option 3, var_diff={var_diff[2]}'], figure_size=(18,8), font_size=13)"
   ]
  },
  {
   "cell_type": "code",
   "execution_count": null,
   "metadata": {},
   "outputs": [],
   "source": [
    "histogram([Sphere, Gaussian4], title=['Sphere 3', f'Gaussian, Option 4, var_diff={var_diff[3]}'], figure_size=(18,8), font_size=13)"
   ]
  },
  {
   "cell_type": "code",
   "execution_count": null,
   "metadata": {
    "ExecuteTime": {
     "end_time": "2020-07-04T00:13:59.902102Z",
     "start_time": "2020-07-04T00:13:13.797Z"
    }
   },
   "outputs": [],
   "source": [
    "a = np.arange(1,101)\n",
    "b = 1.4370396997748922*a\n",
    "print(a, b)"
   ]
  },
  {
   "cell_type": "code",
   "execution_count": 204,
   "metadata": {
    "ExecuteTime": {
     "end_time": "2020-07-04T01:38:33.733177Z",
     "start_time": "2020-07-04T01:38:33.729228Z"
    }
   },
   "outputs": [
    {
     "data": {
      "text/plain": [
       "7.000000001096528"
      ]
     },
     "execution_count": 204,
     "metadata": {},
     "output_type": "execute_result"
    }
   ],
   "source": [
    "10.0592779/(1.4370396997748922)"
   ]
  },
  {
   "cell_type": "code",
   "execution_count": 195,
   "metadata": {
    "ExecuteTime": {
     "end_time": "2020-07-04T01:09:27.126249Z",
     "start_time": "2020-07-04T01:09:27.121365Z"
    }
   },
   "outputs": [],
   "source": [
    "aa = [np.var(Sphere) - np.var(Gaussian1), np.var(Sphere) - np.var(Gaussian2), np.var(Sphere) - np.var(Gaussian3)]"
   ]
  },
  {
   "cell_type": "code",
   "execution_count": 196,
   "metadata": {
    "ExecuteTime": {
     "end_time": "2020-07-04T01:09:29.039388Z",
     "start_time": "2020-07-04T01:09:29.036127Z"
    }
   },
   "outputs": [
    {
     "name": "stdout",
     "output_type": "stream",
     "text": [
      "[0.0004122366140345594, -0.0005487027566763897, -0.00010102685654476658]\n"
     ]
    }
   ],
   "source": [
    "print(aa)"
   ]
  },
  {
   "cell_type": "code",
   "execution_count": 198,
   "metadata": {
    "ExecuteTime": {
     "end_time": "2020-07-04T01:09:47.512603Z",
     "start_time": "2020-07-04T01:09:47.508497Z"
    }
   },
   "outputs": [
    {
     "data": {
      "text/plain": [
       "0.00010102685654476658"
      ]
     },
     "execution_count": 198,
     "metadata": {},
     "output_type": "execute_result"
    }
   ],
   "source": [
    "np.min(np.abs(aa))"
   ]
  },
  {
   "cell_type": "code",
   "execution_count": 155,
   "metadata": {
    "ExecuteTime": {
     "end_time": "2020-07-04T00:48:10.365102Z",
     "start_time": "2020-07-04T00:48:10.360011Z"
    }
   },
   "outputs": [
    {
     "data": {
      "text/plain": [
       "'0.000412237'"
      ]
     },
     "execution_count": 155,
     "metadata": {},
     "output_type": "execute_result"
    }
   ],
   "source": [
    "'{:.6}'.format(np.var(Sphere) - np.var(Gaussian1))"
   ]
  },
  {
   "cell_type": "code",
   "execution_count": 157,
   "metadata": {
    "ExecuteTime": {
     "end_time": "2020-07-04T00:48:26.333456Z",
     "start_time": "2020-07-04T00:48:26.328652Z"
    }
   },
   "outputs": [
    {
     "data": {
      "text/plain": [
       "'4.1224e-04'"
      ]
     },
     "execution_count": 157,
     "metadata": {},
     "output_type": "execute_result"
    }
   ],
   "source": [
    "'{:.4e}'.format(np.var(Sphere) - np.var(Gaussian1))"
   ]
  },
  {
   "cell_type": "code",
   "execution_count": null,
   "metadata": {},
   "outputs": [],
   "source": []
  }
 ],
 "metadata": {
  "kernelspec": {
   "display_name": "21cmfast2",
   "language": "python",
   "name": "21cmfast2"
  },
  "language_info": {
   "codemirror_mode": {
    "name": "ipython",
    "version": 3
   },
   "file_extension": ".py",
   "mimetype": "text/x-python",
   "name": "python",
   "nbconvert_exporter": "python",
   "pygments_lexer": "ipython3",
   "version": "3.7.7"
  }
 },
 "nbformat": 4,
 "nbformat_minor": 4
}
