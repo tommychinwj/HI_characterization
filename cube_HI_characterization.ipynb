{
 "cells": [
  {
   "cell_type": "markdown",
   "metadata": {},
   "source": [
    "# The preceeding ipynb is semi more general in selecting it's blurring region.\n",
    "# It is capable of selecting cuboid, i.e. unequal sides\n",
    "# This ipynb restricts to only cubes, i.e. equal sides, as an attempt to be more computationally efficient\n",
    "# The reason for this restriction relies on the assumption that the blurring region are spheres"
   ]
  },
  {
   "cell_type": "markdown",
   "metadata": {},
   "source": [
    "## Importing Libraries"
   ]
  },
  {
   "cell_type": "code",
   "execution_count": 3,
   "metadata": {
    "ExecuteTime": {
     "end_time": "2020-07-13T18:40:31.131377Z",
     "start_time": "2020-07-13T18:40:31.125544Z"
    }
   },
   "outputs": [],
   "source": [
    "%matplotlib inline\n",
    "import matplotlib.pyplot as plt\n",
    "# import logging\n",
    "import numpy as np\n",
    "import py21cmfast as p21c\n",
    "# import caffeine\n",
    "import time as time\n",
    "import logging, sys, os"
   ]
  },
  {
   "cell_type": "markdown",
   "metadata": {},
   "source": [
    "## Daily Python Zen"
   ]
  },
  {
   "cell_type": "code",
   "execution_count": null,
   "metadata": {},
   "outputs": [],
   "source": [
    "import this"
   ]
  },
  {
   "cell_type": "markdown",
   "metadata": {},
   "source": [
    "## Set logger to log caching activity"
   ]
  },
  {
   "cell_type": "code",
   "execution_count": null,
   "metadata": {},
   "outputs": [],
   "source": [
    "logger = logging.getLogger('21cmFAST')\n",
    "logger.setLevel(logging.INFO)"
   ]
  },
  {
   "cell_type": "markdown",
   "metadata": {},
   "source": [
    "## Version of 21cmFAST"
   ]
  },
  {
   "cell_type": "code",
   "execution_count": 4,
   "metadata": {
    "ExecuteTime": {
     "end_time": "2020-07-13T18:40:31.679355Z",
     "start_time": "2020-07-13T18:40:31.675874Z"
    },
    "scrolled": true
   },
   "outputs": [
    {
     "name": "stdout",
     "output_type": "stream",
     "text": [
      "Using 21cmFAST version 3.0.0.dev5\n"
     ]
    }
   ],
   "source": [
    "print(f\"Using 21cmFAST version {p21c.__version__}\")"
   ]
  },
  {
   "cell_type": "markdown",
   "metadata": {},
   "source": [
    "## Number of cores running"
   ]
  },
  {
   "cell_type": "code",
   "execution_count": null,
   "metadata": {},
   "outputs": [],
   "source": [
    "print(f'Number of threads running = {os.cpu_count()}')"
   ]
  },
  {
   "cell_type": "markdown",
   "metadata": {},
   "source": [
    "## Reset cache location "
   ]
  },
  {
   "cell_type": "code",
   "execution_count": 6,
   "metadata": {},
   "outputs": [],
   "source": [
    "p21c.config['direc'] = '/lustre/aoc/projects/hera/wchin/21cmFAST-cache'"
   ]
  },
  {
   "cell_type": "markdown",
   "metadata": {},
   "source": [
    "## Gaussian function"
   ]
  },
  {
   "cell_type": "code",
   "execution_count": 7,
   "metadata": {
    "ExecuteTime": {
     "end_time": "2020-07-13T16:47:07.482570Z",
     "start_time": "2020-07-13T16:47:07.478593Z"
    }
   },
   "outputs": [],
   "source": [
    "def Gaussian(x, sigma):  # μ=0, σ=1/sqrt(2), π=1\n",
    "    Gaussian = np.exp(-(x/sigma)**2)\n",
    "    return Gaussian"
   ]
  },
  {
   "cell_type": "markdown",
   "metadata": {},
   "source": [
    "## Measure the distance of each voxel to the center"
   ]
  },
  {
   "cell_type": "code",
   "execution_count": 8,
   "metadata": {
    "ExecuteTime": {
     "end_time": "2020-07-13T16:47:07.490164Z",
     "start_time": "2020-07-13T16:47:07.485545Z"
    }
   },
   "outputs": [],
   "source": [
    "def distance_from_coordinate(box_length):\n",
    "        \n",
    "    index = np.arange(-0.5*(box_length-1), 0.5*(box_length+1))\n",
    "\n",
    "    x_mesh, y_mesh, z_mesh = np.meshgrid(index, index, index, indexing='ij')\n",
    "    \n",
    "    distance = np.sqrt((x_mesh)**2 + (y_mesh)**2 + (z_mesh)**2)\n",
    "    \n",
    "    return distance"
   ]
  },
  {
   "cell_type": "markdown",
   "metadata": {},
   "source": [
    "## Random Coordinate"
   ]
  },
  {
   "cell_type": "code",
   "execution_count": 9,
   "metadata": {
    "ExecuteTime": {
     "end_time": "2020-07-13T16:47:07.495240Z",
     "start_time": "2020-07-13T16:47:07.492221Z"
    }
   },
   "outputs": [],
   "source": [
    "def random_voxel(box_length):\n",
    "    \n",
    "    np.random.seed()  # set seed to a randome number\n",
    "#     np.random.seed(4) ; np.random.rand(10)  # specifying seed for testing purposes\n",
    "\n",
    "    coordinate = np.random.randint(0, box_length, size=3)\n",
    "\n",
    "    return coordinate"
   ]
  },
  {
   "cell_type": "markdown",
   "metadata": {
    "ExecuteTime": {
     "end_time": "2020-07-02T04:52:03.906927Z",
     "start_time": "2020-07-02T04:52:03.902405Z"
    }
   },
   "source": [
    "## Select a Smaller Cube with Sides 2R+1 Voxels, Centered about the Random Coordinate"
   ]
  },
  {
   "cell_type": "code",
   "execution_count": 10,
   "metadata": {
    "ExecuteTime": {
     "end_time": "2020-07-13T16:47:07.508772Z",
     "start_time": "2020-07-13T16:47:07.497657Z"
    }
   },
   "outputs": [],
   "source": [
    "def cube_centered_about_coordinate(coordinate_array, radius, box):\n",
    "    x_ind1 = int(coordinate_array[0]-radius)  # x-domian\n",
    "    x_ind2 = int(coordinate_array[0]+radius+1)  # ending index is not inclusive\n",
    "    y_ind1 = int(coordinate_array[1]-radius)  # y-domain\n",
    "    y_ind2 = int(coordinate_array[1]+radius+1)\n",
    "    z_ind1 = int(coordinate_array[2]-radius)  # z-domain\n",
    "    z_ind2 = int(coordinate_array[2]+radius+1)\n",
    "        \n",
    "    if x_ind1 < 0:  # periodic boundary conditions\n",
    "        x_inds = np.r_[(x_ind1+len(box)):len(box), 0:x_ind2]\n",
    "    elif x_ind2 > len(box):\n",
    "        x_inds = np.r_[x_ind1:len(box), 0:(x_ind2-len(box))]\n",
    "    else:\n",
    "        x_inds = np.r_[x_ind1:x_ind2]\n",
    "\n",
    "    if y_ind1 < 0:\n",
    "        y_inds = np.r_[(y_ind1+len(box)):len(box), 0:y_ind2]\n",
    "    elif y_ind2 > len(box):\n",
    "        y_inds = np.r_[y_ind1:len(box), 0:(y_ind2-len(box))]\n",
    "    else:\n",
    "        y_inds = np.r_[y_ind1:y_ind2]\n",
    "\n",
    "    if z_ind1 < 0:\n",
    "        z_inds = np.r_[(z_ind1+len(box)):len(box), 0:z_ind2]\n",
    "    elif z_ind2 > len(box):\n",
    "        z_inds = np.r_[z_ind1:len(box), 0:(z_ind2-len(box))]\n",
    "    else:\n",
    "        z_inds = np.r_[z_ind1:z_ind2]\n",
    "            \n",
    "    indices = np.ix_(x_inds, y_inds, z_inds)\n",
    "        \n",
    "    try:\n",
    "        output_box = box[indices]\n",
    "    except IndexError:\n",
    "        print(f'coordinate array = {coordinate_array}')\n",
    "        print(f'radius = {radius}')\n",
    "        print(f'box length = {len(box)}')\n",
    "        print(f'x_ind1 = {x_ind1}')\n",
    "        print(f'x_ind2 = {x_ind2}')\n",
    "        print(f'x_inds = {x_inds}')\n",
    "        print(f'x_ind1 = {y_ind1}')\n",
    "        print(f'x_ind2 = {y_ind2}')\n",
    "        print(f'y_inds = {y_inds}')\n",
    "        print(f'x_ind1 = {z_ind1}')\n",
    "        print(f'x_ind2 = {z_ind2}')\n",
    "        print(f'z_inds = {z_inds}')\n",
    "        \n",
    "    return output_box"
   ]
  },
  {
   "cell_type": "markdown",
   "metadata": {},
   "source": [
    "## Gausssian Sphere Averaging"
   ]
  },
  {
   "cell_type": "code",
   "execution_count": 11,
   "metadata": {
    "ExecuteTime": {
     "end_time": "2020-07-13T16:47:07.516644Z",
     "start_time": "2020-07-13T16:47:07.510222Z"
    }
   },
   "outputs": [],
   "source": [
    "def gaussian_sphere_average(distance_box, radius, input_box, shell_num, sigma_factor):\n",
    "    \n",
    "    mean = []\n",
    "\n",
    "    shell_radius_edges = np.linspace(0,1,shell_num+1)\n",
    "    # sigma_factor number of sigmas the weighting goes out to, sigma = radius\n",
    "    \n",
    "    \n",
    "    # Radius Ratio 1\n",
    "#     shell_center = 0.5*(shell_radius_edges[1:] + shell_radius_edges[:-1])*sigma_factor \n",
    "#     weight = Gaussian(x=shell_center, sigma=1)\n",
    "    \n",
    "    # Radius Ratio 2\n",
    "    shell_center = 0.5*(shell_radius_edges[1:] + shell_radius_edges[:-1])*sigma_factor*radius\n",
    "    weight = Gaussian(x=shell_center, sigma=radius)\n",
    "\n",
    "    \n",
    "    for ii in range(shell_num):\n",
    "        condition = np.logical_and(\n",
    "            distance_box <= shell_radius_edges[ii+1]*radius, \n",
    "            distance_box > shell_radius_edges[ii]*radius\n",
    "        )\n",
    "        inside_shell_mean = np.mean(input_box[condition])\n",
    "        mean = np.append(mean, inside_shell_mean)\n",
    "        \n",
    "    Gaussian_mean = np.average(mean, weights=weight)\n",
    "    \n",
    "    return Gaussian_mean"
   ]
  },
  {
   "cell_type": "markdown",
   "metadata": {},
   "source": [
    "## Top Hat Sphere Averaging"
   ]
  },
  {
   "cell_type": "code",
   "execution_count": 12,
   "metadata": {
    "ExecuteTime": {
     "end_time": "2020-07-13T16:47:07.522437Z",
     "start_time": "2020-07-13T16:47:07.519045Z"
    }
   },
   "outputs": [],
   "source": [
    "def top_hat_sphere_average(distance_box, radius, input_box):\n",
    "    \n",
    "    condition = distance_box <= radius\n",
    "    mean = np.mean(input_box[condition])\n",
    "    \n",
    "    return mean"
   ]
  },
  {
   "cell_type": "markdown",
   "metadata": {},
   "source": [
    "## Top Hat Cube Averaging"
   ]
  },
  {
   "cell_type": "code",
   "execution_count": 13,
   "metadata": {
    "ExecuteTime": {
     "end_time": "2020-07-13T16:47:07.528583Z",
     "start_time": "2020-07-13T16:47:07.525886Z"
    }
   },
   "outputs": [],
   "source": [
    "def top_hat_cube_average(input_box):\n",
    "    \n",
    "    mean = np.mean(input_box)\n",
    "    \n",
    "    return mean"
   ]
  },
  {
   "cell_type": "markdown",
   "metadata": {},
   "source": [
    "## Sphere Blurring Function"
   ]
  },
  {
   "cell_type": "code",
   "execution_count": 14,
   "metadata": {
    "ExecuteTime": {
     "end_time": "2020-07-13T16:47:07.544655Z",
     "start_time": "2020-07-13T16:47:07.531132Z"
    }
   },
   "outputs": [],
   "source": [
    "def Average_Neutral_Fraction_Distribution(\n",
    "    box, \n",
    "    radius, \n",
    "    iteration, \n",
    "    shell_num=6, \n",
    "    sigma_factor=4, \n",
    "    blur_shape=None\n",
    "):\n",
    "    \n",
    "    box = box.copy()  # make copy of input box to have a separate box\n",
    "    \n",
    "    mean_data = []  # empty list for data collection\n",
    "    \n",
    "    if blur_shape == 'Gaussian_sphere':\n",
    "        \n",
    "        \n",
    "# ======================================================================================================================\n",
    "        # Radius Ratio 1\n",
    "#         radius = int(round(radius*1.4370396997748922*3))\n",
    "        \n",
    "        # Radius Ratio 2\n",
    "        radius = int(round(radius*((4/3/np.sqrt(np.pi))**(1/3))*13/4))  # 13/4 --> speculated correction factor\n",
    "# ======================================================================================================================\n",
    "        \n",
    "        \n",
    "        # check to see if averaging region is largert than the box itself\n",
    "        if radius > (len(box)-1)/2:\n",
    "            print(f'Radius = {radius} > {(len(box)-1)/2} = (Box Length-1)/2, averaging region is larger than the box itself.')\n",
    "            print('Code terminated.')\n",
    "            sys.exit()\n",
    "            \n",
    "        dist_frm_coord_box = distance_from_coordinate(radius*2+1)\n",
    "        for i in range(iteration):\n",
    "            rand_coord = random_voxel(len(box))\n",
    "            cube_region_box = cube_centered_about_coordinate(rand_coord, radius, box)\n",
    "            mean = gaussian_sphere_average(dist_frm_coord_box, radius, cube_region_box, shell_num, sigma_factor)\n",
    "            mean_data = np.append(mean_data, mean)\n",
    "        \n",
    "    elif blur_shape == 'top_hat_sphere':\n",
    "        \n",
    "        # check to see if averaging region is largert than the box itself\n",
    "        if radius > (len(box)-1)/2:\n",
    "            print(f'Radius = {radius} > {(len(box)-1)/2} = (Box Length-1)/2, averaging region is larger than the box itself.')\n",
    "            print('Code terminated.')\n",
    "            sys.exit()\n",
    "\n",
    "        dist_frm_coord_box = distance_from_coordinate(radius*2+1)\n",
    "        \n",
    "        for i in range(iteration):\n",
    "            rand_coord = random_voxel(len(box))\n",
    "            cube_region_box = cube_centered_about_coordinate(rand_coord, radius, box)\n",
    "            mean = top_hat_sphere_average(dist_frm_coord_box, radius, cube_region_box)\n",
    "            mean_data = np.append(mean_data, mean)\n",
    "            \n",
    "    elif blur_shape == 'top_hat_cube':\n",
    "                \n",
    "        radius = int(round((radius*((4*np.pi/3)**(1/3))-1)/2))  # ratio determiend by equating the volumes of cube & sphere\n",
    "\n",
    "        # check to see if averaging region is largert than the box itself\n",
    "        if radius > (len(box)-1)/2:\n",
    "            print(f'Radius = {radius} > {(len(box)-1)/2} = (Box Length-1)/2, averaging region is larger than the box itself.')\n",
    "            print('Code terminated.')\n",
    "            sys.exit()\n",
    "        \n",
    "        for i in range(iteration):\n",
    "            rand_coord = random_voxel(len(box))\n",
    "            cube_region_box = cube_centered_about_coordinate(rand_coord, radius, box)\n",
    "            mean = top_hat_cube_average(cube_region_box)\n",
    "            mean_data = np.append(mean_data, mean)\n",
    "    else:\n",
    "        print('Blurring shape assumed to be a Gaussian sphere with 4 shells \\\n",
    "              weighted by equally spaced values from 0 sigma to 4 sigma.')\n",
    "                \n",
    "        \n",
    "# ======================================================================================================================\n",
    "        # Radius Ratio 1\n",
    "#         radius = int(round(radius*1.4370396997748922*3))\n",
    "        \n",
    "        # Radius Ratio 2\n",
    "        radius = int(round(radius*((4/3/np.sqrt(np.pi))**(1/3))*13/4))  # 13/4 --> speculated correction factor\n",
    "# ======================================================================================================================\n",
    "        \n",
    "        \n",
    "        # check to see if averaging region is largert than the box itself\n",
    "        if radius > (len(box)-1)/2:\n",
    "            print(f'Radius = {radius} > {(len(box)-1)/2} = (Box Length-1)/2, averaging region is larger than the box itself.')\n",
    "            print('Code terminated.')\n",
    "            sys.exit()\n",
    "        \n",
    "        dist_frm_coord_box = distance_from_coordinate(radius*2+1)\n",
    "        \n",
    "        for i in range(iteration):\n",
    "            rand_coord = random_voxel(len(box))\n",
    "            cube_region_box = cube_centered_about_coordinate(rand_coord, radius, box)\n",
    "            mean = gaussian_sphere_average(dist_frm_coord_box, radius, cube_region_box, shell_num, sigma_factor)\n",
    "            mean_data = np.append(mean_data, mean)\n",
    "            \n",
    "    return mean_data"
   ]
  },
  {
   "cell_type": "markdown",
   "metadata": {},
   "source": [
    "## Histogram Function"
   ]
  },
  {
   "cell_type": "code",
   "execution_count": 15,
   "metadata": {
    "ExecuteTime": {
     "end_time": "2020-07-13T16:47:07.578877Z",
     "start_time": "2020-07-13T16:47:07.546390Z"
    }
   },
   "outputs": [],
   "source": [
    "def histogram(\n",
    "    y1s, \n",
    "    figure_shape, \n",
    "    y2s=None,\n",
    "    y3s=None,\n",
    "    marker_lines=None,\n",
    "    y1s_label=None,\n",
    "    y2s_label=None,\n",
    "    y3s_label=None,\n",
    "    title=None, \n",
    "    shared_title=None,\n",
    "    shared_title_x_position=0.5,   # figure coordinates, max=1 I think\n",
    "    shared_title_y_position=0.92,\n",
    "    shared_x_label=None, \n",
    "    shared_x_label_x_position=0.5,\n",
    "    shared_x_label_y_position=0.08,\n",
    "    shared_y_label=None, \n",
    "    shared_y_label_x_position=0.07,\n",
    "    shared_y_label_y_postion=0.5,\n",
    "    x_start=0, \n",
    "    x_stop=1, \n",
    "    bin_num=100, \n",
    "    color='white', \n",
    "    figure_size=(18,7), \n",
    "    font_size=15, \n",
    "    horizontal_gap=0.05, \n",
    "    vertical_gap=0.05, \n",
    "    y_scale='linear', \n",
    "    y_notation='plain', \n",
    "    share_x_axis=True, \n",
    "    share_y_axis=True,\n",
    "    dpi=100\n",
    "):  # a: x start, b: x stop\n",
    "    \n",
    "    bin_edges = np.linspace(x_start, x_stop, bin_num) # 100 bins from 0-1\n",
    "    \n",
    "    bin_centers = 0.5 * (bin_edges[1:] + bin_edges[:-1])\n",
    "    \n",
    "    if type(y1s) == tuple:  # hopefully more robust condition.\n",
    "        \n",
    "        fig, axes = plt.subplots(\n",
    "            figure_shape[0], \n",
    "            figure_shape[1], \n",
    "            figsize=figure_size, \n",
    "            sharex=share_x_axis, \n",
    "            sharey=share_y_axis, \n",
    "            gridspec_kw={\"hspace\":vertical_gap, 'wspace':horizontal_gap},\n",
    "            dpi=dpi\n",
    "        )\n",
    "        \n",
    "        if shared_title != None:\n",
    "            \n",
    "            fig.suptitle(\n",
    "                x=shared_title_x_position, \n",
    "                y=shared_title_y_position, \n",
    "                t=shared_title, ha='center', \n",
    "                size=1.5*font_size, \n",
    "                color=color\n",
    "            )\n",
    "            \n",
    "        if shared_x_label != None:  # shared x label\n",
    "            fig.text(\n",
    "                x=shared_x_label_x_position, \n",
    "                y=shared_x_label_y_position, \n",
    "                s=shared_x_label, ha='center', \n",
    "                size=font_size, \n",
    "                color=color\n",
    "            )\n",
    "\n",
    "        if shared_y_label != None:  # shared y label\n",
    "            fig.text(\n",
    "                x=shared_y_label_x_position, \n",
    "                y=shared_y_label_y_postion, \n",
    "                s=shared_y_label, \n",
    "                va='center', \n",
    "                rotation='vertical', \n",
    "                size=font_size, \n",
    "                color=color\n",
    "            )\n",
    "        \n",
    "        for i, y1 in enumerate(y1s):\n",
    "            axes.flatten()[i].plot(\n",
    "                bin_centers, \n",
    "                np.histogram(y1, bins=bin_edges)[0], \n",
    "                label=y1s_label\n",
    "            )\n",
    "            \n",
    "            if y2s != None:\n",
    "                axes.flatten()[i].plot(\n",
    "                    bin_centers, \n",
    "                    np.histogram(y2s[i], bins=bin_edges)[0], \n",
    "                    '--', \n",
    "                    label=y2s_label\n",
    "                )\n",
    "                \n",
    "                if iterable(y3s):\n",
    "                    \n",
    "                    \n",
    "#                     #-------------temporary-------------#\n",
    "                    \n",
    "#                     shell_numbers = [int(radii[i]/3), int(radii[i]*2/3)]\n",
    "                    \n",
    "#                     #-------------temporary-------------#\n",
    "\n",
    "                    \n",
    "                    for ii, marker_line in enumerate(marker_lines):\n",
    "                        axes.flatten()[i].plot(\n",
    "                            bin_centers, \n",
    "                            np.histogram(y3s[i,ii,:], bins=bin_edges)[0], \n",
    "                            marker_line, \n",
    "                            label=f'{y3s_label} {sigma_factors[ii]}σ {shell_numbers[ii]}shell'\n",
    "                        )\n",
    "                    axes.flatten()[i].legend()\n",
    "                    \n",
    "                else:\n",
    "                    axes.flatten()[i].legend()\n",
    "                \n",
    "            if title != None:\n",
    "                axes.flatten()[i].set_title(title[i], color=color, fontsize=font_size)\n",
    "                \n",
    "            axes.flatten()[i].set_yscale(y_scale)\n",
    "            \n",
    "            if y_notation == 'sci':\n",
    "                axes.flatten()[i].ticklabel_format(\n",
    "                    axis='y', \n",
    "                    style=y_notation, \n",
    "                    scilimits=(0,0), \n",
    "                    useMathText=True\n",
    "                )\n",
    "                \n",
    "            axes.flatten()[i].tick_params(\n",
    "                color=color, \n",
    "                labelcolor=color, \n",
    "                labelsize=font_size, \n",
    "                size=font_size\n",
    "            )  # font style\n",
    "\n",
    "            for spine in axes.flatten()[i].spines.values():  # figure color\n",
    "                spine.set_edgecolor(color)\n",
    "                \n",
    "    else:\n",
    "        \n",
    "        fig, ax = plt.subplots(figsize=figure_size)\n",
    "        \n",
    "        ax.plot(bin_centers, np.histogram(y1s, bins=bin_edges)[0], label=y1s_label)\n",
    "        \n",
    "        if y2s != None:\n",
    "            ax.plot(bin_centers, np.histogram(y2s, bins=bin_edges)[0], '--', label=y2s_label)\n",
    "            \n",
    "            if y3s == None:\n",
    "                ax.legend()\n",
    "                \n",
    "            else:\n",
    "                ax.plot(bin_centers, np.histogram(y3s, bins=bin_edges)[0], '-.', label=y3s_label)\n",
    "                ax.legend()\n",
    "                \n",
    "        if title != None:\n",
    "            ax.set_title(title, color=color, fontsize=font_size)\n",
    "            \n",
    "        ax.set_yscale(y_scale)\n",
    "        \n",
    "        if y_notation == 'sci':\n",
    "            ax.ticklabel_format(axis='y', style=y_notation, scilimits=(0,0), useMathText=True)\n",
    "            \n",
    "        ax.tick_params(color=color, labelcolor=color, labelsize=font_size)  # font style\n",
    "\n",
    "        for spine in ax.spines.values():  # figure color\n",
    "            spine.set_edgecolor(color)\n",
    "            \n",
    "    plt.show()"
   ]
  },
  {
   "cell_type": "markdown",
   "metadata": {},
   "source": [
    "## Plots"
   ]
  },
  {
   "cell_type": "code",
   "execution_count": 16,
   "metadata": {
    "ExecuteTime": {
     "end_time": "2020-07-13T16:47:07.615402Z",
     "start_time": "2020-07-13T16:47:07.580933Z"
    },
    "code_folding": [],
    "scrolled": true
   },
   "outputs": [],
   "source": [
    "def plots(\n",
    "    x_vals, \n",
    "    y1s, \n",
    "    figure_shape, \n",
    "    y2s=None, \n",
    "    y3s=None, \n",
    "    y4s=None,\n",
    "    y5s=None,\n",
    "    y6s=None,\n",
    "    y7s=None,\n",
    "    y1s_label=None, \n",
    "    y2s_label=None, \n",
    "    y3s_label=None,\n",
    "    y4s_label=None,\n",
    "    y5s_label=None,\n",
    "    y6s_label=None,\n",
    "    y7s_label=None,\n",
    "    title=None,\n",
    "    shared_title=None,\n",
    "    shared_title_x_position=0.5,   # figure coordinates, max=1 I think\n",
    "    shared_title_y_position=0.92,\n",
    "    shared_x_label=None, \n",
    "    shared_x_label_x_position=0.5,\n",
    "    shared_x_label_y_position=0.08,\n",
    "    shared_y_label=None, \n",
    "    shared_y_label_x_position=0.07,\n",
    "    shared_y_label_y_postion=0.5,\n",
    "    y_label=None, \n",
    "    color='white', \n",
    "    figure_size=(18,7), \n",
    "    font_size=15, \n",
    "    horizontal_gap=0.05, \n",
    "    vertical_gap=0.05, \n",
    "    y_scale='linear', \n",
    "    y_notation='plain', \n",
    "    share_x_axis=True, \n",
    "    share_y_axis=True,\n",
    "    dpi=100\n",
    "):  # a: x start, b: x stop\n",
    "    \n",
    "    if type(y1s) == tuple:  # hopefully more robust condition.\n",
    "        \n",
    "        fig, axes = plt.subplots(\n",
    "            figure_shape[0], \n",
    "            figure_shape[1], \n",
    "            figsize=figure_size, \n",
    "            sharex=share_x_axis, \n",
    "            sharey=share_y_axis, \n",
    "            gridspec_kw={\"hspace\":vertical_gap, 'wspace':horizontal_gap},\n",
    "            dpi=dpi\n",
    "        )\n",
    "        \n",
    "        for i, y1 in enumerate(y1s):\n",
    "            \n",
    "            axes.flatten()[i].plot(x_vals, y1, label=y1s_label)  # plotting f\n",
    "            \n",
    "            if y2s != None:  # plotting g if iterable is inputted\n",
    "                axes.flatten()[i].plot(\n",
    "                    x_vals, \n",
    "                    y2s[i], \n",
    "                    '--', \n",
    "                    label=y2s_label\n",
    "                )\n",
    "                \n",
    "                if y3s == None:\n",
    "                    axes.flatten()[i].legend()\n",
    "                    \n",
    "                else:  # plotting h if iterable is inputted\n",
    "                    axes.flatten()[i].plot(\n",
    "                        x_vals, \n",
    "                        y3s[i], \n",
    "                        '-.', \n",
    "                        label=y3s_label\n",
    "                    )\n",
    "                    \n",
    "                    if y4s == None:\n",
    "                        axes.flatten()[i].legend()\n",
    "                        \n",
    "                    else:\n",
    "                        axes.flatten()[i].plot(\n",
    "                            x_vals, \n",
    "                            y4s[i], \n",
    "                            ':', \n",
    "                            label=y4s_label\n",
    "                        )\n",
    "                        \n",
    "                        if y5s == None:\n",
    "                            axes.flatten()[i].legend()\n",
    "                            \n",
    "                        else:\n",
    "                            axes.flatten()[i].plot(\n",
    "                                x_vals, \n",
    "                                y5s[i], \n",
    "                                '-o', \n",
    "                                label=y5s_label\n",
    "                            )\n",
    "                            \n",
    "                            if y6s == None:\n",
    "                                axes.flatten()[i].legend()\n",
    "                            \n",
    "                            else:\n",
    "                                axes.flatten()[i].plot(\n",
    "                                    x_vals, \n",
    "                                    y6s[i], \n",
    "                                    '--', \n",
    "                                    label=y6s_label, \n",
    "                                    linewidth=4\n",
    "                                )\n",
    "                                \n",
    "                                if y7s == None:\n",
    "                                    axes.flatten()[i].legend()\n",
    "                            \n",
    "                                else:\n",
    "                                    axes.flatten()[i].plot(\n",
    "                                        x_vals, \n",
    "                                        y7s[i], \n",
    "                                        '-.', \n",
    "                                        label=y7s_label, \n",
    "                                        linewidth=4\n",
    "                                    )\n",
    "                                    axes.flatten()[i].legend()\n",
    "            \n",
    "            if title != None:  # title if inputted\n",
    "                axes.flatten()[i].set_title(title[i], color=color, fontsize=font_size)\n",
    "            \n",
    "            if y_label != None:  # y label if inputted\n",
    "                axes.flatten()[i].set_ylabel(y_label[i], color=color, fontsize=font_size)\n",
    "                \n",
    "            if shared_title != None:\n",
    "                fig.suptitle(\n",
    "                    x=shared_title_x_position, \n",
    "                    y=shared_title_y_position, \n",
    "                    t=shared_title, ha='center', \n",
    "                    size=1.5*font_size, \n",
    "                    color=color\n",
    "                )\n",
    "                \n",
    "            if shared_x_label != None:  # shared x label\n",
    "                fig.text(\n",
    "                    x=shared_x_label_x_position, \n",
    "                    y=shared_x_label_y_position, \n",
    "                    s=shared_x_label, ha='center', \n",
    "                    size=font_size, \n",
    "                    color=color\n",
    "                )\n",
    "            \n",
    "            if shared_y_label != None:  # shared y label\n",
    "                fig.text(\n",
    "                    x=shared_y_label_x_position, \n",
    "                    y=shared_y_label_y_postion, \n",
    "                    s=shared_y_label, \n",
    "                    va='center', \n",
    "                    rotation='vertical', \n",
    "                    size=font_size, \n",
    "                    color=color\n",
    "                )\n",
    "            \n",
    "            axes.flatten()[i].set_yscale(y_scale)  # y axis linear or log scale\n",
    "            \n",
    "            if y_notation == 'sci':  # plain or scientific notation\n",
    "                axes.flatten()[i].ticklabel_format(\n",
    "                    axis='y', \n",
    "                    style=y_notation, \n",
    "                    scilimits=(0,0), \n",
    "                    useMathText=True\n",
    "                )\n",
    "            \n",
    "            axes.flatten()[i].tick_params(\n",
    "                color=color, \n",
    "                labelcolor=color, \n",
    "                labelsize=font_size, \n",
    "                size=font_size\n",
    "            )  # font style\n",
    "            \n",
    "            for spine in axes.flatten()[i].spines.values():  # figure spine color\n",
    "                spine.set_edgecolor(color)\n",
    "\n",
    "    else:\n",
    "        \n",
    "        fig, ax = plt.subplots(figsize=figure_size)  # creating subplots\n",
    "        \n",
    "        ax.plot(x_vals, y1s, label=y1s_label)  # plotting f\n",
    "        \n",
    "        if y2s != None:  # plotting g if inputted\n",
    "            ax.plot(\n",
    "                x_vals, \n",
    "                y2s, \n",
    "                '--', \n",
    "                label=y2s_label\n",
    "            )\n",
    "            \n",
    "            if y3s == None:\n",
    "                ax.legend()\n",
    "\n",
    "            else:  # plotting h if iterable is inputted\n",
    "                ax.plot(\n",
    "                    x_vals, \n",
    "                    y3s, \n",
    "                    '-.', \n",
    "                    label=y3s_label\n",
    "                )\n",
    "\n",
    "                if y4s == None:\n",
    "                    ax.legend()\n",
    "\n",
    "                else:\n",
    "                    ax.plot(\n",
    "                        x_vals, \n",
    "                        y4s, \n",
    "                        ':', \n",
    "                        label=y4s_label\n",
    "                    )\n",
    "\n",
    "                    if y5s == None:\n",
    "                        ax.legend()\n",
    "\n",
    "                    else:\n",
    "                        ax.plot(\n",
    "                            x_vals, \n",
    "                            y5s, \n",
    "                            '-o', \n",
    "                            label=y5s_label\n",
    "                        )\n",
    "\n",
    "                        if y6s == None:\n",
    "                            ax.legend()\n",
    "\n",
    "                        else:\n",
    "                            ax.plot(\n",
    "                                x_vals, \n",
    "                                y6s, \n",
    "                                '-*', \n",
    "                                label=y6s_label\n",
    "                            )\n",
    "\n",
    "                            if y7s == None:\n",
    "                                ax.legend()\n",
    "\n",
    "                            else:\n",
    "                                ax.plot(\n",
    "                                    x_vals, \n",
    "                                    y7s, \n",
    "                                    '-x', \n",
    "                                    label=y7s_label\n",
    "                                )\n",
    "                                ax.legend()\n",
    "            \n",
    "        if title != None:  # title if inputed\n",
    "            ax.set_title(title, color=color, fontsize=font_size)\n",
    "            \n",
    "        if y_label != None:  # y label  if inputed\n",
    "            ax.set_ylabel(y_label, color=color, fontsize=font_size)\n",
    "            \n",
    "        ax.set_yscale(y_scale)  # linear or log\n",
    "        \n",
    "        if y_notation == 'sci':  # plain or scientific notation\n",
    "            ax.ticklabel_format(\n",
    "                axis='y', \n",
    "                style=y_notation, \n",
    "                scilimits=(0,0), \n",
    "                useMathText=True\n",
    "            )\n",
    "\n",
    "        ax.tick_params(  # font style\n",
    "            color=color, \n",
    "            labelcolor=color, \n",
    "            labelsize=font_size, \n",
    "            size=font_size\n",
    "        )\n",
    "        \n",
    "        for spine in ax.spines.values():  # figure spine color\n",
    "            spine.set_edgecolor(color)"
   ]
  },
  {
   "cell_type": "markdown",
   "metadata": {},
   "source": [
    "## Check if object is iterable"
   ]
  },
  {
   "cell_type": "code",
   "execution_count": 17,
   "metadata": {},
   "outputs": [],
   "source": [
    "def iterable(obj):\n",
    "    try:\n",
    "        iter(obj)\n",
    "    except Exception:\n",
    "        return False\n",
    "    else:\n",
    "        return True"
   ]
  },
  {
   "cell_type": "markdown",
   "metadata": {},
   "source": [
    "## Colorbar Function"
   ]
  },
  {
   "cell_type": "code",
   "execution_count": 18,
   "metadata": {
    "ExecuteTime": {
     "end_time": "2020-07-13T17:56:21.090137Z",
     "start_time": "2020-07-13T17:56:21.077392Z"
    }
   },
   "outputs": [],
   "source": [
    "def colorbar(mappable, plot_color='white'):\n",
    "    from mpl_toolkits.axes_grid1 import make_axes_locatable\n",
    "    last_axes = plt.gca()\n",
    "    ax = mappable.axes\n",
    "    fig = ax.figure\n",
    "    divider = make_axes_locatable(ax)\n",
    "    cax = divider.append_axes(\"right\", size=\"5%\", pad=0.05)\n",
    "    cbar = fig.colorbar(mappable, cax=cax)\n",
    "    plt.ylabel('Neutral Fraction', color=plot_color)\n",
    "    plt.tick_params(color=plot_color, labelcolor=plot_color)\n",
    "    plt.sca(last_axes)\n",
    "    \n",
    "    ax.tick_params(color=plot_color, labelcolor=plot_color)\n",
    "    \n",
    "    for spine in ax.spines.values():  # figure spine color\n",
    "        spine.set_edgecolor(plot_color)\n",
    "    \n",
    "    return cbar"
   ]
  },
  {
   "cell_type": "markdown",
   "metadata": {},
   "source": [
    "## Cosmological Parameters (Default is used when no input is specified)"
   ]
  },
  {
   "cell_type": "code",
   "execution_count": 19,
   "metadata": {
    "ExecuteTime": {
     "end_time": "2020-07-13T16:47:07.620136Z",
     "start_time": "2020-07-13T16:47:07.617575Z"
    }
   },
   "outputs": [],
   "source": [
    "cosmo_params = p21c.CosmoParams()"
   ]
  },
  {
   "cell_type": "markdown",
   "metadata": {},
   "source": [
    "## User Parameters, like box length, number of voxels (i.e. resolution) etc."
   ]
  },
  {
   "cell_type": "code",
   "execution_count": 20,
   "metadata": {
    "ExecuteTime": {
     "end_time": "2020-07-13T16:47:07.625008Z",
     "start_time": "2020-07-13T16:47:07.622093Z"
    }
   },
   "outputs": [],
   "source": [
    "BOX_LEN=301*0.5\n",
    "HII_DIM=301\n",
    "\n",
    "user_params = p21c.UserParams(\n",
    "    BOX_LEN=BOX_LEN,  # Box length in Mpc\n",
    "    DIM=4*HII_DIM,      # Number of Voxels for hight resolution \n",
    "    HII_DIM=HII_DIM,  # Number of Voxels for low resolution \n",
    "    N_THREADS=16\n",
    "\n",
    ")"
   ]
  },
  {
   "cell_type": "markdown",
   "metadata": {},
   "source": [
    "## Creating initial conditions box"
   ]
  },
  {
   "cell_type": "code",
   "execution_count": 21,
   "metadata": {
    "ExecuteTime": {
     "end_time": "2020-07-13T16:49:19.338938Z",
     "start_time": "2020-07-13T16:47:07.627140Z"
    }
   },
   "outputs": [
    {
     "name": "stdout",
     "output_type": "stream",
     "text": [
      "10:14PM MDT on Jul 14, 2020\n"
     ]
    },
    {
     "name": "stderr",
     "output_type": "stream",
     "text": [
      "2020-07-14 22:16:26,030 | INFO | Existing init_boxes found and read in (seed=309777629781).\n"
     ]
    },
    {
     "name": "stdout",
     "output_type": "stream",
     "text": [
      "10:16PM MDT on Jul 14, 2020\n"
     ]
    }
   ],
   "source": [
    "print(time.strftime('%l:%M%p %Z on %b %d, %Y')) # ' 1:36PM EST on Oct 18, 2010'\n",
    "\n",
    "init_cond = p21c.initial_conditions(\n",
    "    cosmo_params=cosmo_params,\n",
    "    user_params=user_params,\n",
    ")\n",
    "\n",
    "print(time.strftime('%l:%M%p %Z on %b %d, %Y')) # ' 1:36PM EST on Oct 18, 2010'"
   ]
  },
  {
   "cell_type": "markdown",
   "metadata": {},
   "source": [
    "## Creating Ionize box"
   ]
  },
  {
   "cell_type": "code",
   "execution_count": 22,
   "metadata": {
    "ExecuteTime": {
     "end_time": "2020-07-13T17:38:14.964276Z",
     "start_time": "2020-07-13T17:38:13.938867Z"
    }
   },
   "outputs": [
    {
     "name": "stderr",
     "output_type": "stream",
     "text": [
      "2020-07-14 22:16:27,800 | INFO | Existing z=6.5 ionized boxes found and read in (seed=309777629781).\n"
     ]
    }
   ],
   "source": [
    "redshift=6.5\n",
    "ionized = p21c.ionize_box(redshift=redshift, init_boxes=init_cond).xH_box"
   ]
  },
  {
   "cell_type": "markdown",
   "metadata": {},
   "source": [
    "## Plotting box x, y, z slices"
   ]
  },
  {
   "cell_type": "code",
   "execution_count": 23,
   "metadata": {
    "ExecuteTime": {
     "end_time": "2020-07-13T17:56:21.951285Z",
     "start_time": "2020-07-13T17:56:21.093044Z"
    },
    "scrolled": true
   },
   "outputs": [
    {
     "data": {
      "image/png": "[encoded data removed]",
      "text/plain": [
       "<Figure size 1080x1080 with 6 Axes>"
      ]
     },
     "metadata": {
      "needs_background": "dark"
     },
     "output_type": "display_data"
    }
   ],
   "source": [
    "fig, (ax1, ax2, ax3) = plt.subplots(ncols=3, figsize=(15,15))\n",
    "\n",
    "img1 = ax1.imshow(ionized[0,:,:], origin='lower')\n",
    "colorbar(img1)\n",
    "\n",
    "img2 = ax2.imshow(ionized[:,0,:], origin='lower')\n",
    "colorbar(img2)\n",
    "\n",
    "img3 = ax3.imshow(ionized[:,:,0], origin='lower')\n",
    "colorbar(img3)\n",
    "\n",
    "plt.tight_layout(h_pad=1)"
   ]
  },
  {
   "cell_type": "markdown",
   "metadata": {},
   "source": [
    "## Generate Average Neutral Fraction Distributions as a function of blurring methods, shell numbers and σ max"
   ]
  },
  {
   "cell_type": "code",
   "execution_count": 24,
   "metadata": {
    "ExecuteTime": {
     "end_time": "2020-07-13T17:38:36.997883Z",
     "start_time": "2020-07-13T17:38:36.987749Z"
    }
   },
   "outputs": [],
   "source": [
    "def generate_distributions(\n",
    "    box = ionized,\n",
    "    radii = np.arange(8, 17, 1),\n",
    "    iterations=10**2,\n",
    "    sigma_factors=[4],\n",
    "    shell_numbers=[6]\n",
    "):\n",
    "\n",
    "    gaussians = []\n",
    "    spheres = []\n",
    "    cubes =[]\n",
    "\n",
    "    for i, radius in enumerate(radii):\n",
    "\n",
    "        sphere = Average_Neutral_Fraction_Distribution(\n",
    "                box=box,\n",
    "                radius=radius,\n",
    "                iteration=iterations,\n",
    "                blur_shape='top_hat_sphere'\n",
    "        )\n",
    "\n",
    "        cube = Average_Neutral_Fraction_Distribution(\n",
    "                box=box,\n",
    "                radius=radius,\n",
    "                iteration=iterations,\n",
    "                blur_shape='top_hat_cube'\n",
    "        )\n",
    "        \n",
    "        spheres = np.append(spheres, sphere)\n",
    "        cubes = np.append(cubes, cube)\n",
    "        \n",
    "        \n",
    "#         #-------------temporary-------------#\n",
    "        \n",
    "#         shell_numbers = [int(radius/3), int(2*radius/3)]\n",
    "#         print(shell_numbers)\n",
    "        \n",
    "#         #-------------temporary-------------#\n",
    "\n",
    "        \n",
    "        for ii, sigma_factor in enumerate(sigma_factors):\n",
    "            gaussian = Average_Neutral_Fraction_Distribution(\n",
    "                box=box,\n",
    "                radius=radius,\n",
    "                iteration=iterations,\n",
    "                sigma_factor=sigma_factor,\n",
    "                shell_num=shell_numbers[ii],\n",
    "                blur_shape='Gaussian_sphere'\n",
    "            )\n",
    "\n",
    "            gaussians = np.append(gaussians, gaussian)\n",
    "\n",
    "\n",
    "        # print progress and local time\n",
    "        current_time = time.strftime('%l:%M:%S%p %Z') # ' 1:36PM EDT '\n",
    "        print(f'progress = {int(round((i+1)*100/len(radii)))}%, local time = {current_time}')\n",
    "\n",
    "    gaussians = gaussians.reshape(len(radii), len(sigma_factors), iterations)\n",
    "    spheres = spheres.reshape(len(radii), iterations)\n",
    "    cubes = cubes.reshape(len(radii), iterations)\n",
    "    \n",
    "    return gaussians, spheres, cubes"
   ]
  },
  {
   "cell_type": "markdown",
   "metadata": {},
   "source": [
    "## Generate the distributions and storing the data in global variables"
   ]
  },
  {
   "cell_type": "code",
   "execution_count": null,
   "metadata": {
    "ExecuteTime": {
     "end_time": "2020-07-13T18:36:18.471457Z",
     "start_time": "2020-07-13T18:03:33.770057Z"
    }
   },
   "outputs": [
    {
     "name": "stdout",
     "output_type": "stream",
     "text": [
      "Execution cued at 10:51:13PM MDT\n"
     ]
    }
   ],
   "source": [
    "current_time = time.strftime('%l:%M:%S%p %Z')\n",
    "print(f'Execution cued at {current_time}')\n",
    "\n",
    "radii = np.arange(48, 3, -4)  # array([34, 32, 30,... 6, 4]) units: voxels\n",
    "iterations = 10**4\n",
    "sigma_factors = [4]\n",
    "shell_numbers = [6]\n",
    "\n",
    "gaussians, spheres, cubes = generate_distributions(\n",
    "    radii=radii,\n",
    "    iterations=iterations,\n",
    "    sigma_factors=sigma_factors,\n",
    "    shell_numbers=shell_numbers\n",
    ")"
   ]
  },
  {
   "cell_type": "markdown",
   "metadata": {},
   "source": [
    "## Creating Histogram"
   ]
  },
  {
   "cell_type": "code",
   "execution_count": 39,
   "metadata": {
    "ExecuteTime": {
     "end_time": "2020-07-13T18:44:11.263417Z",
     "start_time": "2020-07-13T18:44:04.542540Z"
    },
    "scrolled": false
   },
   "outputs": [
    {
     "data": {
      "image/png": "[encoded data removed]",
      "text/plain": [
       "<Figure size 1800x1800 with 12 Axes>"
      ]
     },
     "metadata": {
      "needs_background": "dark"
     },
     "output_type": "display_data"
    }
   ],
   "source": [
    "histogram(\n",
    "    y1s=tuple(cubes), \n",
    "    y2s=tuple(spheres), \n",
    "    y3s=gaussians, \n",
    "    marker_lines=['-.'],\n",
    "    y1s_label='Cube',\n",
    "    y2s_label='Sphere',\n",
    "    y3s_label='Gauss',\n",
    "    title=[f'Radius={r*BOX_LEN/HII_DIM}Mpc' for r in radii],\n",
    "    shared_title=f'Distribution of Average \\\n",
    "Neutral Fraction (iterations={iterations:.0e}, redshift={redshift}, {BOX_LEN/301}xBOX_LEN)',\n",
    "    shared_y_label='Counts',\n",
    "    shared_x_label='Neutral Fraction',\n",
    "    figure_shape=(3,4), \n",
    "    figure_size=(12,18),\n",
    "    vertical_gap=0.1,\n",
    "    horizontal_gap=0.2,\n",
    "    y_scale='log',\n",
    "#     y_notation='sci',\n",
    "    share_y_axis=False\n",
    "#     dpi=1000\n",
    ")"
   ]
  },
  {
   "cell_type": "markdown",
   "metadata": {},
   "source": [
    "## Light cones for Total Average Neutral Fraction vs. redshift plot"
   ]
  },
  {
   "cell_type": "markdown",
   "metadata": {
    "ExecuteTime": {
     "end_time": "2020-07-13T17:34:11.891318Z",
     "start_time": "2020-07-13T17:34:11.880564Z"
    }
   },
   "source": [
    "lightcone = p21c.run_lightcone(\n",
    "    redshift = 3,\n",
    "    max_redshift = 10,\n",
    "    init_box=init_cond,\n",
    "    lightcone_quantities=(\n",
    "        'brightness_temp',\n",
    "        'xH_box'\n",
    "    ),\n",
    "    global_quantities=(\n",
    "        'brightness_temp',\n",
    "        'xH_box'\n",
    "    )\n",
    ")"
   ]
  },
  {
   "cell_type": "markdown",
   "metadata": {},
   "source": [
    "## Plotting Total Average Neutral Fraction vs. redshift"
   ]
  },
  {
   "cell_type": "markdown",
   "metadata": {
    "ExecuteTime": {
     "end_time": "2020-07-13T17:29:42.782175Z",
     "start_time": "2020-07-13T17:29:42.591057Z"
    }
   },
   "source": [
    "fig, ax = p21c.plotting.plot_global_history(lightcone, kind='xH_box')\n",
    "ax.set_title(\"Box Total Neutral Fraction vs. Redshift (wider domian)\", color='white')\n",
    "ax.set_ylabel('Box Total Neutral Fraction', color='white')\n",
    "ax.set_xlabel('Redshift, z', color='white')\n",
    "ax.tick_params(axis='both', color='white', labelcolor='white')\n",
    "ax.grid()\n",
    "\n",
    "for spine in ax.spines.values():  # figure color\n",
    "    spine.set_edgecolor('white')"
   ]
  },
  {
   "cell_type": "code",
   "execution_count": null,
   "metadata": {},
   "outputs": [],
   "source": []
  }
 ],
 "metadata": {
  "kernelspec": {
   "display_name": "21cmfast",
   "language": "python",
   "name": "21cmfast"
  }
 },
 "nbformat": 4,
 "nbformat_minor": 4
}
