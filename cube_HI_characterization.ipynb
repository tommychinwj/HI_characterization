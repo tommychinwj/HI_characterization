{
 "cells": [
  {
   "cell_type": "markdown",
   "metadata": {},
   "source": [
    "# The preceeding ipynb is semi more general in selecting it's blurring region.\n",
    "# It is capable of selecting cuboid, i.e. unequal sides\n",
    "# This ipynb restricts to only cubes, i.e. equal sides, as an attempt to be more computationally efficient\n",
    "# The reason for this restriction relies on the assumption that the blurring region are spheres"
   ]
  },
  {
   "cell_type": "markdown",
   "metadata": {},
   "source": [
    "## Importing Libraries"
   ]
  },
  {
   "cell_type": "code",
   "execution_count": null,
   "metadata": {
    "ExecuteTime": {
     "end_time": "2020-07-13T18:40:31.131377Z",
     "start_time": "2020-07-13T18:40:31.125544Z"
    }
   },
   "outputs": [],
   "source": [
    "%matplotlib inline\n",
    "import matplotlib.pyplot as plt\n",
    "import numpy as np\n",
    "import py21cmfast as p21c\n",
    "# import caffeine\n",
    "from datetime import datetime\n",
    "import time\n",
    "import logging, sys, os"
   ]
  },
  {
   "cell_type": "markdown",
   "metadata": {},
   "source": [
    "## Daily Python Zen"
   ]
  },
  {
   "cell_type": "code",
   "execution_count": null,
   "metadata": {},
   "outputs": [],
   "source": [
    "import this"
   ]
  },
  {
   "cell_type": "markdown",
   "metadata": {},
   "source": [
    "## Set logger to log caching activity"
   ]
  },
  {
   "cell_type": "code",
   "execution_count": null,
   "metadata": {},
   "outputs": [],
   "source": [
    "logger = logging.getLogger('21cmFAST')\n",
    "logger.setLevel(logging.INFO)"
   ]
  },
  {
   "cell_type": "markdown",
   "metadata": {},
   "source": [
    "## Version of 21cmFAST"
   ]
  },
  {
   "cell_type": "code",
   "execution_count": null,
   "metadata": {
    "ExecuteTime": {
     "end_time": "2020-07-13T18:40:31.679355Z",
     "start_time": "2020-07-13T18:40:31.675874Z"
    },
    "scrolled": true
   },
   "outputs": [],
   "source": [
    "print(f\"Using 21cmFAST version {p21c.__version__}\")"
   ]
  },
  {
   "cell_type": "markdown",
   "metadata": {},
   "source": [
    "## Number of cores running"
   ]
  },
  {
   "cell_type": "code",
   "execution_count": null,
   "metadata": {},
   "outputs": [],
   "source": [
    "print(f'Number of threads running = {os.cpu_count()}')"
   ]
  },
  {
   "cell_type": "markdown",
   "metadata": {},
   "source": [
    "## Reset cache location "
   ]
  },
  {
   "cell_type": "code",
   "execution_count": null,
   "metadata": {},
   "outputs": [],
   "source": [
    "p21c.config['direc'] = '/lustre/aoc/projects/hera/wchin/21cmFAST-cache'"
   ]
  },
  {
   "cell_type": "markdown",
   "metadata": {},
   "source": [
    "## Gaussian function"
   ]
  },
  {
   "cell_type": "code",
   "execution_count": null,
   "metadata": {
    "ExecuteTime": {
     "end_time": "2020-07-13T16:47:07.482570Z",
     "start_time": "2020-07-13T16:47:07.478593Z"
    }
   },
   "outputs": [],
   "source": [
    "def Gaussian(x, sigma):  # μ=0, σ=1/sqrt(2), π=1\n",
    "    Gaussian = np.exp(-(x/sigma)**2)\n",
    "    return Gaussian"
   ]
  },
  {
   "cell_type": "markdown",
   "metadata": {},
   "source": [
    "## Measure the distance of each voxel to the center"
   ]
  },
  {
   "cell_type": "code",
   "execution_count": null,
   "metadata": {
    "ExecuteTime": {
     "end_time": "2020-07-13T16:47:07.490164Z",
     "start_time": "2020-07-13T16:47:07.485545Z"
    }
   },
   "outputs": [],
   "source": [
    "def distance_from_coordinate(box_length):\n",
    "        \n",
    "    index = np.arange(-0.5*(box_length-1), 0.5*(box_length+1))\n",
    "\n",
    "    x_mesh, y_mesh, z_mesh = np.meshgrid(index, index, index, indexing='ij')\n",
    "    \n",
    "    distance = np.sqrt((x_mesh)**2 + (y_mesh)**2 + (z_mesh)**2)\n",
    "    \n",
    "    return distance"
   ]
  },
  {
   "cell_type": "markdown",
   "metadata": {},
   "source": [
    "## Random Coordinate"
   ]
  },
  {
   "cell_type": "code",
   "execution_count": null,
   "metadata": {
    "ExecuteTime": {
     "end_time": "2020-07-13T16:47:07.495240Z",
     "start_time": "2020-07-13T16:47:07.492221Z"
    }
   },
   "outputs": [],
   "source": [
    "def random_voxels(box_length, number_of_coordinates):\n",
    "    \n",
    "    np.random.seed()  # set seed to a randome number\n",
    "#     np.random.seed(4) ; np.random.rand(10)  # specifying seed for testing purposes\n",
    "\n",
    "    coordinates = np.random.randint(0, box_length, size=(number_of_coordinates, 3))\n",
    "\n",
    "    return coordinates"
   ]
  },
  {
   "cell_type": "markdown",
   "metadata": {
    "ExecuteTime": {
     "end_time": "2020-07-02T04:52:03.906927Z",
     "start_time": "2020-07-02T04:52:03.902405Z"
    }
   },
   "source": [
    "## Select a Smaller Cube with Sides 2R+1 Voxels, Centered about the Random Coordinate"
   ]
  },
  {
   "cell_type": "code",
   "execution_count": null,
   "metadata": {
    "ExecuteTime": {
     "end_time": "2020-07-13T16:47:07.508772Z",
     "start_time": "2020-07-13T16:47:07.497657Z"
    }
   },
   "outputs": [],
   "source": [
    "def cube_centered_about_coordinate(coordinate_array, radius, box):\n",
    "    x_ind1 = int(coordinate_array[0]-radius)  # x-domian\n",
    "    x_ind2 = int(coordinate_array[0]+radius+1)  # ending index is not inclusive\n",
    "    y_ind1 = int(coordinate_array[1]-radius)  # y-domain\n",
    "    y_ind2 = int(coordinate_array[1]+radius+1)\n",
    "    z_ind1 = int(coordinate_array[2]-radius)  # z-domain\n",
    "    z_ind2 = int(coordinate_array[2]+radius+1)\n",
    "        \n",
    "    if x_ind1 < 0:  # periodic boundary conditions\n",
    "        x_inds = np.r_[(x_ind1+len(box)):len(box), 0:x_ind2]\n",
    "    elif x_ind2 > len(box):\n",
    "        x_inds = np.r_[x_ind1:len(box), 0:(x_ind2-len(box))]\n",
    "    else:\n",
    "        x_inds = np.r_[x_ind1:x_ind2]\n",
    "\n",
    "    if y_ind1 < 0:\n",
    "        y_inds = np.r_[(y_ind1+len(box)):len(box), 0:y_ind2]\n",
    "    elif y_ind2 > len(box):\n",
    "        y_inds = np.r_[y_ind1:len(box), 0:(y_ind2-len(box))]\n",
    "    else:\n",
    "        y_inds = np.r_[y_ind1:y_ind2]\n",
    "\n",
    "    if z_ind1 < 0:\n",
    "        z_inds = np.r_[(z_ind1+len(box)):len(box), 0:z_ind2]\n",
    "    elif z_ind2 > len(box):\n",
    "        z_inds = np.r_[z_ind1:len(box), 0:(z_ind2-len(box))]\n",
    "    else:\n",
    "        z_inds = np.r_[z_ind1:z_ind2]\n",
    "            \n",
    "    indices = np.ix_(x_inds, y_inds, z_inds)\n",
    "        \n",
    "    try:\n",
    "        output_box = box[indices]\n",
    "        \n",
    "    except IndexError:  # sample region larger than box.\n",
    "        print(f'coordinate array = {coordinate_array}')\n",
    "        print(f'radius = {radius}')\n",
    "        print(f'box length = {len(box)}')\n",
    "        print(f'x_ind1 = {x_ind1}')\n",
    "        print(f'x_ind2 = {x_ind2}')\n",
    "        print(f'x_inds = {x_inds}')\n",
    "        print(f'x_ind1 = {y_ind1}')\n",
    "        print(f'x_ind2 = {y_ind2}')\n",
    "        print(f'y_inds = {y_inds}')\n",
    "        print(f'x_ind1 = {z_ind1}')\n",
    "        print(f'x_ind2 = {z_ind2}')\n",
    "        print(f'z_inds = {z_inds}')\n",
    "        \n",
    "    return output_box"
   ]
  },
  {
   "cell_type": "markdown",
   "metadata": {},
   "source": [
    "## Gausssian Sphere Averaging"
   ]
  },
  {
   "cell_type": "code",
   "execution_count": null,
   "metadata": {
    "ExecuteTime": {
     "end_time": "2020-07-13T16:47:07.516644Z",
     "start_time": "2020-07-13T16:47:07.510222Z"
    }
   },
   "outputs": [],
   "source": [
    "def gaussian_sphere_average(distance_box, radius, input_box, shell_num, sigma_factor):\n",
    "    \n",
    "    mean = np.zeros(shell_num)\n",
    "\n",
    "    shell_radius_edges = np.linspace(0,1,shell_num+1)\n",
    "    # sigma_factor number of sigmas the weighting goes out to, sigma = radius\n",
    "\n",
    "    \n",
    "    \n",
    "# ======================================================================================================================\n",
    "    # Radius Ratio 1\n",
    "    shell_center = 0.5*(shell_radius_edges[1:] + shell_radius_edges[:-1])*sigma_factor \n",
    "    weight = Gaussian(x=shell_center, sigma=1)\n",
    "    \n",
    "    # Radius Ratio 2\n",
    "#     shell_center = 0.5*(shell_radius_edges[1:] + shell_radius_edges[:-1])*sigma_factor*radius\n",
    "#     weight = Gaussian(x=shell_center, sigma=radius)\n",
    "# ======================================================================================================================\n",
    "\n",
    "\n",
    "    \n",
    "    for ii in range(shell_num):\n",
    "        condition = np.logical_and(\n",
    "            distance_box <= shell_radius_edges[ii+1]*radius, \n",
    "            distance_box > shell_radius_edges[ii]*radius\n",
    "        )\n",
    "        inside_shell_mean = np.mean(input_box[condition])\n",
    "        mean[ii] = inside_shell_mean\n",
    "        \n",
    "    Gaussian_mean = np.average(mean, weights=weight)\n",
    "    \n",
    "    return Gaussian_mean"
   ]
  },
  {
   "cell_type": "markdown",
   "metadata": {},
   "source": [
    "## Top Hat Sphere Averaging"
   ]
  },
  {
   "cell_type": "code",
   "execution_count": null,
   "metadata": {
    "ExecuteTime": {
     "end_time": "2020-07-13T16:47:07.522437Z",
     "start_time": "2020-07-13T16:47:07.519045Z"
    }
   },
   "outputs": [],
   "source": [
    "def top_hat_sphere_average(distance_box, radius, input_box):\n",
    "    \n",
    "    condition = distance_box <= radius\n",
    "    mean = np.mean(input_box[condition])\n",
    "    \n",
    "    return mean"
   ]
  },
  {
   "cell_type": "markdown",
   "metadata": {},
   "source": [
    "## Top Hat Cube Averaging"
   ]
  },
  {
   "cell_type": "code",
   "execution_count": null,
   "metadata": {
    "ExecuteTime": {
     "end_time": "2020-07-13T16:47:07.528583Z",
     "start_time": "2020-07-13T16:47:07.525886Z"
    }
   },
   "outputs": [],
   "source": [
    "def top_hat_cube_average(input_box):\n",
    "    \n",
    "    mean = np.mean(input_box)\n",
    "    \n",
    "    return mean"
   ]
  },
  {
   "cell_type": "markdown",
   "metadata": {},
   "source": [
    "## Sphere Blurring Function"
   ]
  },
  {
   "cell_type": "code",
   "execution_count": null,
   "metadata": {
    "ExecuteTime": {
     "end_time": "2020-07-13T16:47:07.544655Z",
     "start_time": "2020-07-13T16:47:07.531132Z"
    }
   },
   "outputs": [],
   "source": [
    "def Average_Neutral_Fraction_Distribution(\n",
    "    box, \n",
    "    radius, \n",
    "    iteration, \n",
    "    shell_num=6, \n",
    "    sigma_factor=4, \n",
    "    blur_shape=None\n",
    "):\n",
    "    \n",
    "    box = box.copy()  # make copy of input box to have a separate box\n",
    "    \n",
    "    mean_data = np.zeros(iteration)  # empty list for data collection\n",
    "\n",
    "    rand_coords = random_voxels(len(box), iteration)  # iteration number of random coordinates in the box\n",
    "\n",
    "    \n",
    "    if blur_shape == 'Gaussian_sphere':\n",
    "        \n",
    "        \n",
    "# ======================================================================================================================\n",
    "        # Radius Ratio 1\n",
    "#         radius = int(round(radius*1.4370397097748921*3))\n",
    "        \n",
    "        # Radius Ratio 2\n",
    "        radius = int(round(radius*((4/3/np.sqrt(np.pi))**(1/3))*13/4))  # 13/4 --> speculated correction factor\n",
    "# ======================================================================================================================\n",
    "        \n",
    "        \n",
    "        # check to see if averaging region is largert than the box itself\n",
    "        if radius > (len(box)-1)/2:\n",
    "            print(f'Radius = {radius} > {(len(box)-1)/2} = (Box Length-1)/2, averaging region is larger than the box itself.')\n",
    "            print('Code terminated.')\n",
    "            sys.exit()\n",
    "            \n",
    "        dist_frm_coord_box = distance_from_coordinate(radius*2+1)\n",
    "        for i in range(iteration):\n",
    "            cube_region_box = cube_centered_about_coordinate(rand_coords[i, :], radius, box)\n",
    "            mean = gaussian_sphere_average(dist_frm_coord_box, radius, cube_region_box, shell_num, sigma_factor)\n",
    "            mean_data[i] = mean\n",
    "        \n",
    "    elif blur_shape == 'top_hat_sphere':\n",
    "        \n",
    "        # check to see if averaging region is largert than the box itself\n",
    "        if radius > (len(box)-1)/2:\n",
    "            print(f'Radius = {radius} > {(len(box)-1)/2} = (Box Length-1)/2, averaging region is larger than the box itself.')\n",
    "            print('Code terminated.')\n",
    "            sys.exit()\n",
    "\n",
    "        dist_frm_coord_box = distance_from_coordinate(radius*2+1)\n",
    "        \n",
    "        for i in range(iteration):\n",
    "            cube_region_box = cube_centered_about_coordinate(rand_coords[i, :], radius, box)\n",
    "            mean = top_hat_sphere_average(dist_frm_coord_box, radius, cube_region_box)\n",
    "            mean_data[i] = mean\n",
    "            \n",
    "    elif blur_shape == 'top_hat_cube':\n",
    "                \n",
    "        radius = int(round((radius*((4*np.pi/3)**(1/3))-1)/2))  # ratio determiend by equating the volumes of cube & sphere\n",
    "\n",
    "        # check to see if averaging region is largert than the box itself\n",
    "        if radius > (len(box)-1)/2:\n",
    "            print(f'Radius = {radius} > {(len(box)-1)/2} = (Box Length-1)/2, averaging region is larger than the box itself.')\n",
    "            print('Code terminated.')\n",
    "            sys.exit()\n",
    "        \n",
    "        for i in range(iteration):\n",
    "            cube_region_box = cube_centered_about_coordinate(rand_coords[i, :], radius, box)\n",
    "            mean = top_hat_cube_average(cube_region_box)\n",
    "            mean_data[i] = mean\n",
    "    else:\n",
    "        print('Blurring shape assumed to be a Gaussian sphere with 4 shells \\\n",
    "              weighted by equally spaced values from 0 sigma to 4 sigma.')\n",
    "                \n",
    "        \n",
    "# ======================================================================================================================\n",
    "        # Radius Ratio 1\n",
    "#         radius = int(round(radius*1.4370397097748921*3))\n",
    "        \n",
    "        # Radius Ratio 2\n",
    "        radius = int(round(radius*((4/3/np.sqrt(np.pi))**(1/3))*13/4))  # 13/4 --> speculated correction factor\n",
    "# ======================================================================================================================\n",
    "        \n",
    "        \n",
    "        # check to see if averaging region is largert than the box itself\n",
    "        if radius > (len(box)-1)/2:\n",
    "            print(f'Radius = {radius} > {(len(box)-1)/2} = (Box Length-1)/2, averaging region is larger than the box itself.')\n",
    "            print('Code terminated.')\n",
    "            sys.exit()\n",
    "        \n",
    "        dist_frm_coord_box = distance_from_coordinate(radius*2+1)\n",
    "        \n",
    "        for i in range(iteration):\n",
    "            cube_region_box = cube_centered_about_coordinate(rand_coords[i, :], radius, box)\n",
    "            mean = gaussian_sphere_average(dist_frm_coord_box, radius, cube_region_box, shell_num, sigma_factor)\n",
    "            mean_data[i] = mean\n",
    "            \n",
    "    return mean_data"
   ]
  },
  {
   "cell_type": "markdown",
   "metadata": {},
   "source": [
    "## Histogram Function"
   ]
  },
  {
   "cell_type": "code",
   "execution_count": null,
   "metadata": {
    "ExecuteTime": {
     "end_time": "2020-07-13T16:47:07.578877Z",
     "start_time": "2020-07-13T16:47:07.546390Z"
    }
   },
   "outputs": [],
   "source": [
    "def histogram(\n",
    "    y1s, \n",
    "    figure_shape, \n",
    "    y2s=None,\n",
    "    y3s=None,\n",
    "    marker_lines=None,\n",
    "    y1s_label=None,\n",
    "    y2s_label=None,\n",
    "    y3s_label=None,\n",
    "    title=None, \n",
    "    shared_title=None,\n",
    "    shared_title_x_position=0.5,   # figure coordinates, max=1 I think\n",
    "    shared_title_y_position=0.92,\n",
    "    shared_x_label=None, \n",
    "    shared_x_label_x_position=0.5,\n",
    "    shared_x_label_y_position=0.08,\n",
    "    shared_y_label=None, \n",
    "    shared_y_label_x_position=0.07,\n",
    "    shared_y_label_y_postion=0.5,\n",
    "    x_start=0, \n",
    "    x_stop=1, \n",
    "    bin_num=100, \n",
    "    color='white', \n",
    "    figure_size=(18,7), \n",
    "    font_size=15, \n",
    "    horizontal_gap=0.05, \n",
    "    vertical_gap=0.05, \n",
    "    y_scale='linear', \n",
    "    y_notation='plain', \n",
    "    share_x_axis=True, \n",
    "    share_y_axis=True,\n",
    "    dpi=100\n",
    "):  # a: x start, b: x stop\n",
    "    \n",
    "    bin_edges = np.linspace(x_start, x_stop, bin_num) # 100 bins from 0-1\n",
    "    \n",
    "    bin_centers = 0.5 * (bin_edges[1:] + bin_edges[:-1])\n",
    "    \n",
    "    if np.array(y1s).ndim > 2:  # hopefully more robust condition.\n",
    "        \n",
    "        fig, axes = plt.subplots(\n",
    "            figure_shape[0], \n",
    "            figure_shape[1], \n",
    "            figsize=figure_size, \n",
    "            sharex=share_x_axis, \n",
    "            sharey=share_y_axis, \n",
    "            gridspec_kw={\"hspace\":vertical_gap, 'wspace':horizontal_gap},\n",
    "            dpi=dpi\n",
    "        )\n",
    "        \n",
    "        if shared_title != None:\n",
    "            \n",
    "            fig.suptitle(\n",
    "                x=shared_title_x_position, \n",
    "                y=shared_title_y_position, \n",
    "                t=shared_title, ha='center', \n",
    "                size=1.5*font_size, \n",
    "                color=color\n",
    "            )\n",
    "            \n",
    "        if shared_x_label != None:  # shared x label\n",
    "            fig.text(\n",
    "                x=shared_x_label_x_position, \n",
    "                y=shared_x_label_y_position, \n",
    "                s=shared_x_label, ha='center', \n",
    "                size=font_size, \n",
    "                color=color\n",
    "            )\n",
    "\n",
    "        if shared_y_label != None:  # shared y label\n",
    "            fig.text(\n",
    "                x=shared_y_label_x_position, \n",
    "                y=shared_y_label_y_postion, \n",
    "                s=shared_y_label, \n",
    "                va='center', \n",
    "                rotation='vertical', \n",
    "                size=font_size, \n",
    "                color=color\n",
    "            )\n",
    "        \n",
    "        for i, y1 in enumerate(y1s):\n",
    "            \n",
    "            for ii, z in enumerate(redshifts):\n",
    "                axes.flatten()[i].plot(\n",
    "                    bin_centers, \n",
    "                    np.histogram(y1s[i,ii,:], bins=bin_edges)[0], \n",
    "                    marker_lines[ii], \n",
    "                    label=f'{y1s_label} z={z}'\n",
    "                )\n",
    "            \n",
    "            if iterable(y2s):\n",
    "                axes.flatten()[i].plot(\n",
    "                    bin_centers, \n",
    "                    np.histogram(y2s[i], bins=bin_edges)[0], \n",
    "                    '--', \n",
    "                    label=y2s_label\n",
    "                )\n",
    "                \n",
    "                if iterable(y3s):\n",
    "                    axes.flatten()[i].plot(\n",
    "                        bin_centers, \n",
    "                        np.histogram(y3s[i], bins=bin_edges)[0], \n",
    "                        label=y3s_label\n",
    "                    )\n",
    "                    \n",
    "                    \n",
    "            if y1s_label != None:\n",
    "                axes.flatten()[i].legend()\n",
    "                \n",
    "            if title != None:\n",
    "                axes.flatten()[i].set_title(title[i], color=color, fontsize=font_size)\n",
    "                \n",
    "            axes.flatten()[i].set_yscale(y_scale)\n",
    "            \n",
    "            if y_notation == 'sci':\n",
    "                axes.flatten()[i].ticklabel_format(\n",
    "                    axis='y', \n",
    "                    style=y_notation, \n",
    "                    scilimits=(0,0), \n",
    "                    useMathText=True\n",
    "                )\n",
    "                \n",
    "            axes.flatten()[i].tick_params(\n",
    "                color=color, \n",
    "                labelcolor=color, \n",
    "                labelsize=font_size, \n",
    "                size=font_size\n",
    "            )  # font style\n",
    "\n",
    "            for spine in axes.flatten()[i].spines.values():  # figure color\n",
    "                spine.set_edgecolor(color)\n",
    "                \n",
    "    else:\n",
    "        \n",
    "        fig, ax = plt.subplots(figsize=figure_size)\n",
    "        \n",
    "        ax.plot(bin_centers, np.histogram(y1s, bins=bin_edges)[0], label=y1s_label)\n",
    "        \n",
    "        if y2s != None:\n",
    "            ax.plot(bin_centers, np.histogram(y2s, bins=bin_edges)[0], '--', label=y2s_label)\n",
    "            \n",
    "            if y3s == None:\n",
    "                ax.legend()\n",
    "                \n",
    "            else:\n",
    "                ax.plot(bin_centers, np.histogram(y3s, bins=bin_edges)[0], '-.', label=y3s_label)\n",
    "                ax.legend()\n",
    "                \n",
    "        if title != None:\n",
    "            ax.set_title(title, color=color, fontsize=font_size)\n",
    "            \n",
    "        ax.set_yscale(y_scale)\n",
    "        \n",
    "        if y_notation == 'sci':\n",
    "            ax.ticklabel_format(axis='y', style=y_notation, scilimits=(0,0), useMathText=True)\n",
    "            \n",
    "        ax.tick_params(color=color, labelcolor=color, labelsize=font_size)  # font style\n",
    "\n",
    "        for spine in ax.spines.values():  # figure color\n",
    "            spine.set_edgecolor(color)\n",
    "            \n",
    "    plt.show()"
   ]
  },
  {
   "cell_type": "markdown",
   "metadata": {},
   "source": [
    "## Check if object is iterable"
   ]
  },
  {
   "cell_type": "code",
   "execution_count": null,
   "metadata": {},
   "outputs": [],
   "source": [
    "def iterable(obj):\n",
    "    \n",
    "    try:\n",
    "        iter(obj)\n",
    "        \n",
    "    except Exception:\n",
    "        return False\n",
    "    \n",
    "    else:\n",
    "        return True"
   ]
  },
  {
   "cell_type": "markdown",
   "metadata": {},
   "source": [
    "## Cosmological Parameters (Default is used when no input is specified)"
   ]
  },
  {
   "cell_type": "code",
   "execution_count": null,
   "metadata": {
    "ExecuteTime": {
     "end_time": "2020-07-13T16:47:07.620136Z",
     "start_time": "2020-07-13T16:47:07.617575Z"
    }
   },
   "outputs": [],
   "source": [
    "cosmo_params = p21c.CosmoParams()"
   ]
  },
  {
   "cell_type": "markdown",
   "metadata": {},
   "source": [
    "## User Parameters, like box length, number of voxels (i.e. resolution) etc."
   ]
  },
  {
   "cell_type": "code",
   "execution_count": null,
   "metadata": {
    "ExecuteTime": {
     "end_time": "2020-07-13T16:47:07.625008Z",
     "start_time": "2020-07-13T16:47:07.622093Z"
    }
   },
   "outputs": [],
   "source": [
    "BOX_LEN=301  # 300, 301\n",
    "HII_DIM=301  # 450, 301\n",
    "\n",
    "user_params = p21c.UserParams(\n",
    "    BOX_LEN=BOX_LEN,  # Box length in Mpc\n",
    "    DIM=4*HII_DIM,      # Number of Voxels for hight resolution \n",
    "    HII_DIM=HII_DIM,  # Number of Voxels for low resolution \n",
    "    N_THREADS=os.cpu_count()\n",
    ")"
   ]
  },
  {
   "cell_type": "markdown",
   "metadata": {},
   "source": [
    "## Creating initial conditions box"
   ]
  },
  {
   "cell_type": "code",
   "execution_count": null,
   "metadata": {
    "ExecuteTime": {
     "end_time": "2020-07-13T16:49:19.338938Z",
     "start_time": "2020-07-13T16:47:07.627140Z"
    }
   },
   "outputs": [],
   "source": [
    "start_time = datetime.now()\n",
    "print(f'Excution qued at {start_time}')\n",
    "\n",
    "init_cond = p21c.initial_conditions(\n",
    "    cosmo_params=cosmo_params,\n",
    "    user_params=user_params,\n",
    ")\n",
    "\n",
    "end_time = datetime.now()\n",
    "execution_time = end_time - start_time\n",
    "print(f'Execution completed at {end_time}')\n",
    "print(f'Execution time = {execution_time}')"
   ]
  },
  {
   "cell_type": "markdown",
   "metadata": {},
   "source": [
    "## Generate ionized boxes as a function of redshift"
   ]
  },
  {
   "cell_type": "code",
   "execution_count": null,
   "metadata": {},
   "outputs": [],
   "source": [
    "# redshifts = np.arange(8, 4.5, -0.5)\n",
    "redshifts = np.array([6.5])\n",
    "ionized_boxes = np.zeros((len(redshifts), HII_DIM, HII_DIM, HII_DIM))\n",
    "\n",
    "for i, z in enumerate(redshifts):\n",
    "    ionized_box = p21c.ionize_box(redshift=z, init_boxes=init_cond).xH_box\n",
    "    ionized_boxes[i] = ionized_box"
   ]
  },
  {
   "cell_type": "markdown",
   "metadata": {},
   "source": [
    "## Generate Average Neutral Fraction Distributions as a function of redshift"
   ]
  },
  {
   "cell_type": "code",
   "execution_count": null,
   "metadata": {
    "ExecuteTime": {
     "end_time": "2020-07-13T17:38:36.997883Z",
     "start_time": "2020-07-13T17:38:36.987749Z"
    }
   },
   "outputs": [],
   "source": [
    "def generate_distributions(\n",
    "    boxes=ionized_boxes,\n",
    "    radii=np.arange(8, 17, 1),\n",
    "    iterations=10**2,\n",
    "    sigma_factor=4,\n",
    "    shell_number=6\n",
    "):\n",
    "\n",
    "    gaussians = np.zeros((len(radii), len(redshifts), iterations))\n",
    "    \n",
    "    \n",
    "    # temporary\n",
    "# ===================================================================================================================\n",
    "    spheres = np.zeros((len(radii), iterations))\n",
    "    cubes = np.zeros((len(radii), iterations))\n",
    "# ===================================================================================================================\n",
    "\n",
    "\n",
    "    start_time = datetime.now()\n",
    "    current_time = start_time\n",
    "    print(f'Progress = 0%, localtime = {start_time}')\n",
    "\n",
    "    for i, radius in enumerate(radii):\n",
    "        \n",
    "    # temporary\n",
    "# ===================================================================================================================        \n",
    "        sphere = Average_Neutral_Fraction_Distribution(\n",
    "                box=boxes[0],\n",
    "                radius=radius,\n",
    "                iteration=iterations,\n",
    "                blur_shape='top_hat_sphere'\n",
    "        )\n",
    "\n",
    "        cube = Average_Neutral_Fraction_Distribution(\n",
    "                box=boxes[0],\n",
    "                radius=radius,\n",
    "                iteration=iterations,\n",
    "                blur_shape='top_hat_cube'\n",
    "        )\n",
    "        \n",
    "        spheres[i, :] = sphere\n",
    "        cubes[i, :] = cube\n",
    "# ===================================================================================================================\n",
    "        \n",
    "        for ii, box in enumerate(boxes):\n",
    "                        \n",
    "            gaussian = Average_Neutral_Fraction_Distribution(\n",
    "                box=box,\n",
    "                radius=radius,\n",
    "                iteration=iterations,\n",
    "                sigma_factor=sigma_factor,\n",
    "                shell_num=shell_number,\n",
    "                blur_shape='Gaussian_sphere'\n",
    "            )\n",
    "\n",
    "            gaussians[i, ii, :] = gaussian\n",
    "\n",
    "\n",
    "        # print progress and local time\n",
    "        previous_time = current_time\n",
    "        current_time = datetime.now()\n",
    "        loop_time = current_time - previous_time\n",
    "        elapsed_time = current_time - start_time\n",
    "        print(f'progress = {int(round((i+1)*100/len(radii)))}%, localtime =\\\n",
    " {current_time}, loopexecuted in {loop_time}, elapsedtime = {elapsed_time}')\n",
    "        \n",
    "    # temporary\n",
    "# =================================================================================================================== \n",
    "    return gaussians, spheres, cubes\n",
    "# =================================================================================================================== \n",
    "    \n",
    "#     return gaussians"
   ]
  },
  {
   "cell_type": "markdown",
   "metadata": {},
   "source": [
    "## Generate the distributions and storing the data in global variables"
   ]
  },
  {
   "cell_type": "code",
   "execution_count": null,
   "metadata": {
    "ExecuteTime": {
     "end_time": "2020-07-13T18:36:18.471457Z",
     "start_time": "2020-07-13T18:03:33.770057Z"
    }
   },
   "outputs": [],
   "source": [
    "radii = np.arange(34, 3, -2)  # array([34, 32, 30,... 6, 4]) units: voxels (51, 3, -3)\n",
    "iterations = int(1.5*10**4)\n",
    "\n",
    "    # temporary\n",
    "# =================================================================================================================== \n",
    "gaussians, spheres, cubes = generate_distributions(\n",
    "# =================================================================================================================== \n",
    "\n",
    "    \n",
    "# gaussians = generate_distributions(\n",
    "    boxes=ionized_boxes,\n",
    "    radii=radii,\n",
    "    iterations=iterations\n",
    ")"
   ]
  },
  {
   "cell_type": "markdown",
   "metadata": {},
   "source": [
    "## Creating Histogram"
   ]
  },
  {
   "cell_type": "code",
   "execution_count": null,
   "metadata": {
    "ExecuteTime": {
     "end_time": "2020-07-13T18:44:11.263417Z",
     "start_time": "2020-07-13T18:44:04.542540Z"
    }
   },
   "outputs": [],
   "source": [
    "histogram(\n",
    "    y1s=gaussians, \n",
    "    \n",
    "    # temporary\n",
    "# =================================================================================================================== \n",
    "    y2s=spheres,\n",
    "    y3s=cubes,\n",
    "# =================================================================================================================== \n",
    "    \n",
    "    marker_lines=['-']*len(redshifts),\n",
    "    y1s_label='Gauss',\n",
    "    \n",
    "    # temporary\n",
    "# =================================================================================================================== \n",
    "    y2s_label='Sphere',\n",
    "    y3s_label='Cube',\n",
    "# =================================================================================================================== \n",
    "    \n",
    "    title=[f'Radius={r*BOX_LEN/HII_DIM:.2f}Mpc' for r in radii],\n",
    "    shared_title=f'Distribution of Average \\\n",
    "Neutral Fraction (RR2, Gaussian weights of RR1, iterations={iterations:.2e})',\n",
    "    shared_y_label='Counts',\n",
    "    shared_x_label='Neutral Fraction',\n",
    "    figure_shape=(4,4), \n",
    "    figure_size=(18,18),\n",
    "    vertical_gap=0.1,\n",
    "    horizontal_gap=0.25,\n",
    "    y_scale='log',\n",
    "#     y_notation='sci',\n",
    "    share_y_axis=False\n",
    "#     dpi=1000\n",
    ")"
   ]
  },
  {
   "cell_type": "code",
   "execution_count": null,
   "metadata": {},
   "outputs": [],
   "source": []
  }
 ],
 "metadata": {
  "kernelspec": {
   "display_name": "21cmfast",
   "language": "python",
   "name": "21cmfast"
  },
  "language_info": {
   "codemirror_mode": {
    "name": "ipython",
    "version": 3
   },
   "file_extension": ".py",
   "mimetype": "text/x-python",
   "name": "python",
   "nbconvert_exporter": "python",
   "pygments_lexer": "ipython3",
   "version": "3.8.3"
  }
 },
 "nbformat": 4,
 "nbformat_minor": 4
}
