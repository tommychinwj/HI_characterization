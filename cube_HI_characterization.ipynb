{
 "cells": [
  {
   "cell_type": "markdown",
   "metadata": {},
   "source": [
    "# The preceeding ipynb is semi more general in selecting it's blurring region.\n",
    "# It is capable of selecting cuboid, i.e. unequal sides\n",
    "# This ipynb restricts to only cubes, i.e. equal sides, as an attempt to be more computationally efficient\n",
    "# The reason for this restriction relies on the assumption that the blurring region are spheres"
   ]
  },
  {
   "cell_type": "markdown",
   "metadata": {},
   "source": [
    "## Importing Libraries"
   ]
  },
  {
   "cell_type": "code",
   "execution_count": 56,
   "metadata": {
    "ExecuteTime": {
     "end_time": "2020-07-02T05:19:04.308540Z",
     "start_time": "2020-07-02T05:19:04.295970Z"
    }
   },
   "outputs": [],
   "source": [
    "%matplotlib inline\n",
    "import matplotlib.pyplot as plt\n",
    "import logging\n",
    "import numpy as np\n",
    "import py21cmfast as p21c"
   ]
  },
  {
   "cell_type": "markdown",
   "metadata": {},
   "source": [
    "## Cosmological Parameters (Default is used when no input is specified)"
   ]
  },
  {
   "cell_type": "code",
   "execution_count": 57,
   "metadata": {
    "ExecuteTime": {
     "end_time": "2020-07-02T05:19:04.316289Z",
     "start_time": "2020-07-02T05:19:04.312024Z"
    }
   },
   "outputs": [],
   "source": [
    "cosmo_params = p21c.CosmoParams()"
   ]
  },
  {
   "cell_type": "markdown",
   "metadata": {},
   "source": [
    "## User Parameters, like box length, number of voxels (i.e. resolution) etc."
   ]
  },
  {
   "cell_type": "code",
   "execution_count": 58,
   "metadata": {
    "ExecuteTime": {
     "end_time": "2020-07-02T05:19:04.326363Z",
     "start_time": "2020-07-02T05:19:04.320842Z"
    }
   },
   "outputs": [],
   "source": [
    "BOX_LEN = 301\n",
    "\n",
    "user_params = p21c.UserParams(\n",
    "    BOX_LEN=BOX_LEN,  # Box length\n",
    "    DIM=2*BOX_LEN,      # Number of Voxels for hight resolution \n",
    "    HII_DIM=BOX_LEN  # Number of Voxels for low resolution \n",
    ")"
   ]
  },
  {
   "cell_type": "markdown",
   "metadata": {},
   "source": [
    "## Creating initial conditions box"
   ]
  },
  {
   "cell_type": "code",
   "execution_count": 59,
   "metadata": {
    "ExecuteTime": {
     "end_time": "2020-07-02T05:19:24.814230Z",
     "start_time": "2020-07-02T05:19:04.329844Z"
    }
   },
   "outputs": [],
   "source": [
    "init_cond = p21c.initial_conditions(\n",
    "    cosmo_params=cosmo_params,\n",
    "    user_params=user_params\n",
    ")"
   ]
  },
  {
   "cell_type": "markdown",
   "metadata": {},
   "source": [
    "## Gaussian function"
   ]
  },
  {
   "cell_type": "code",
   "execution_count": 60,
   "metadata": {
    "ExecuteTime": {
     "end_time": "2020-07-02T05:19:24.821128Z",
     "start_time": "2020-07-02T05:19:24.816819Z"
    }
   },
   "outputs": [],
   "source": [
    "def Gaussian(x, sigma=1, mu=0):\n",
    "    return (1/sigma/np.sqrt(2*np.pi))*(np.exp(-0.5*(((x-mu)/sigma)**2)))"
   ]
  },
  {
   "cell_type": "markdown",
   "metadata": {},
   "source": [
    "## Measure the distance of each voxel to the center"
   ]
  },
  {
   "cell_type": "code",
   "execution_count": 61,
   "metadata": {
    "ExecuteTime": {
     "end_time": "2020-07-02T05:19:24.827921Z",
     "start_time": "2020-07-02T05:19:24.823343Z"
    }
   },
   "outputs": [],
   "source": [
    "def distance_from_coordinate(box_length):\n",
    "    \n",
    "    index = np.arange(-0.5*(box_length-1), 0.5*(box_length+1))\n",
    "\n",
    "    x_mesh, y_mesh, z_mesh = np.meshgrid(index, index, index, indexing='ij')\n",
    "    \n",
    "    return np.sqrt((x_mesh)**2 + (y_mesh)**2 + (z_mesh)**2)"
   ]
  },
  {
   "cell_type": "markdown",
   "metadata": {},
   "source": [
    "## Random Coordinate"
   ]
  },
  {
   "cell_type": "code",
   "execution_count": 62,
   "metadata": {
    "ExecuteTime": {
     "end_time": "2020-07-02T05:19:24.833396Z",
     "start_time": "2020-07-02T05:19:24.830212Z"
    }
   },
   "outputs": [],
   "source": [
    "def random_voxel():\n",
    "    \n",
    "    np.random.seed()  # set seed to a randome number\n",
    "\n",
    "    return np.random.randint(0, BOX_LEN, size=3)"
   ]
  },
  {
   "cell_type": "markdown",
   "metadata": {
    "ExecuteTime": {
     "end_time": "2020-07-02T04:52:03.906927Z",
     "start_time": "2020-07-02T04:52:03.902405Z"
    }
   },
   "source": [
    "## Select a Smaller Cube with Sides 2R+1 Voxels, Centered about the Random Coordinate"
   ]
  },
  {
   "cell_type": "code",
   "execution_count": 63,
   "metadata": {
    "ExecuteTime": {
     "end_time": "2020-07-02T05:19:24.849896Z",
     "start_time": "2020-07-02T05:19:24.838730Z"
    }
   },
   "outputs": [],
   "source": [
    "def cube_centered_about_coordinate(coordinate_array, radius, box):\n",
    "    x_ind1 = coordinate_array[0]-radius  # x-domian\n",
    "    x_ind2 = coordinate_array[0]+radius+1  # ending index is not inclusive\n",
    "    y_ind1 = coordinate_array[1]-radius  # y-domain\n",
    "    y_ind2 = coordinate_array[1]+radius+1\n",
    "    z_ind1 = coordinate_array[2]-radius  # z-domain\n",
    "    z_ind2 = coordinate_array[2]+radius+1\n",
    "\n",
    "    if x_ind1 < 0:  # periodic boundary conditions\n",
    "        x_inds = np.r_[(x_ind1+box.shape[0]):box.shape[0], 0:x_ind2]\n",
    "    elif x_ind2 > box.shape[0]:\n",
    "        x_inds = np.r_[x_ind1:box.shape[0], 0:(x_ind2-box.shape[0])]\n",
    "    else:\n",
    "        x_inds = np.r_[x_ind1:x_ind2]\n",
    "\n",
    "    if y_ind1 < 0:\n",
    "        y_inds = np.r_[(y_ind1+box.shape[1]):box.shape[1], 0:y_ind2]\n",
    "    elif y_ind2 > box.shape[1]:\n",
    "        y_inds = np.r_[y_ind1:box.shape[1], 0:(y_ind2-box.shape[1])]\n",
    "    else:\n",
    "        y_inds = np.r_[y_ind1:y_ind2]\n",
    "\n",
    "    if z_ind1 < 0:\n",
    "        z_inds = np.r_[(z_ind1+box.shape[2]):box.shape[2], 0:z_ind2]\n",
    "    elif z_ind2 > box.shape[2]:\n",
    "        z_inds = np.r_[z_ind1:box.shape[2], 0:(z_ind2-box.shape[2])]\n",
    "    else:\n",
    "        z_inds = np.r_[z_ind1:z_ind2]\n",
    "\n",
    "    indices = np.ix_(x_inds, y_inds, z_inds)\n",
    "    \n",
    "    return box[indices]"
   ]
  },
  {
   "cell_type": "markdown",
   "metadata": {},
   "source": [
    "## Gausssian Averaging"
   ]
  },
  {
   "cell_type": "code",
   "execution_count": 64,
   "metadata": {
    "ExecuteTime": {
     "end_time": "2020-07-02T05:19:24.858942Z",
     "start_time": "2020-07-02T05:19:24.852748Z"
    }
   },
   "outputs": [],
   "source": [
    "def gaussian_sphere_average_value(distance_box, radius, input_box, shell_num):\n",
    "    \n",
    "    mean = []\n",
    "\n",
    "    shell_radius_edges = np.linspace(0,1,shell_num+1)\n",
    "    shell_center = 0.5*(shell_radius_edges[1:] + shell_radius_edges[:-1])\n",
    "    weight = Gaussian(x=shell_center*4)\n",
    "\n",
    "    for ii in range(len(shell_radius_edges)-1):\n",
    "        condition = np.logical_and(distance_box <= shell_radius_edges[ii+1]*radius, distance_box > shell_radius_edges[ii]*radius)\n",
    "        inside_shell_mean = np.mean(input_box[condition])\n",
    "        mean = np.append(mean, inside_shell_mean)\n",
    "    \n",
    "    return np.average(mean, weights=weight)"
   ]
  },
  {
   "cell_type": "markdown",
   "metadata": {},
   "source": [
    "## Sphere Blurring Function"
   ]
  },
  {
   "cell_type": "code",
   "execution_count": 65,
   "metadata": {
    "ExecuteTime": {
     "end_time": "2020-07-02T05:19:24.866581Z",
     "start_time": "2020-07-02T05:19:24.861149Z"
    }
   },
   "outputs": [],
   "source": [
    "def Sphere_Blurring(box, radius, iteration, shell_num=1):\n",
    "    \n",
    "    box = box.copy()  # make copy of input box to have a separate box\n",
    "    \n",
    "    dist_frm_coord_box = distance_from_coordinate(radius*2+1)\n",
    "\n",
    "    inside_sphere_mean_data = []  # empty list for data collection\n",
    "    \n",
    "    for i in range(iteration):\n",
    "        \n",
    "        rand_coord = random_voxel()\n",
    "                \n",
    "        cube_region_box = cube_centered_about_coordinate(rand_coord, radius, box)\n",
    "        \n",
    "        inside_sphere_mean = gaussian_sphere_average_value(dist_frm_coord_box, radius, cube_region_box, shell_num)\n",
    "        \n",
    "        inside_sphere_mean_data = np.append(inside_sphere_mean_data, inside_sphere_mean)\n",
    "        \n",
    "    return np.array(inside_sphere_mean_data)"
   ]
  },
  {
   "cell_type": "markdown",
   "metadata": {},
   "source": [
    "## Histogram Function"
   ]
  },
  {
   "cell_type": "code",
   "execution_count": 66,
   "metadata": {
    "ExecuteTime": {
     "end_time": "2020-07-02T05:19:24.874624Z",
     "start_time": "2020-07-02T05:19:24.868621Z"
    }
   },
   "outputs": [],
   "source": [
    "def histogram(f1, x_start=0, x_stop=1, bin_num=100):  # a: x start, b: x stop\n",
    "    bin_edges = np.linspace(x_start, x_stop, bin_num) # 100 bins from 0-1\n",
    "    hist1, _ = np.histogram(f1, bins=bin_edges)\n",
    "    bin_centers = 0.5 * (bin_edges[1:] + bin_edges[:-1])\n",
    "    fig, ax = plt.subplots(figsize=(8,8))\n",
    "    ax.plot(bin_centers, hist1)\n",
    "    \n",
    "    # Set the borders to a given color...\n",
    "    ax.tick_params(color='white', labelcolor='white')\n",
    "    for spine in ax.spines.values():\n",
    "        spine.set_edgecolor('white')"
   ]
  },
  {
   "cell_type": "markdown",
   "metadata": {},
   "source": [
    "## Creating Ionize box"
   ]
  },
  {
   "cell_type": "code",
   "execution_count": 67,
   "metadata": {
    "ExecuteTime": {
     "end_time": "2020-07-02T05:19:25.722850Z",
     "start_time": "2020-07-02T05:19:24.876572Z"
    }
   },
   "outputs": [],
   "source": [
    "z = 6.5\n",
    "ionized = p21c.ionize_box(redshift=z, init_boxes=init_cond).xH_box"
   ]
  },
  {
   "cell_type": "markdown",
   "metadata": {},
   "source": [
    "## Creating Noise Box"
   ]
  },
  {
   "cell_type": "code",
   "execution_count": 68,
   "metadata": {
    "ExecuteTime": {
     "end_time": "2020-07-02T05:19:26.106350Z",
     "start_time": "2020-07-02T05:19:25.724822Z"
    }
   },
   "outputs": [],
   "source": [
    "np.random.seed()\n",
    "noise_box = np.random.rand(BOX_LEN, BOX_LEN, BOX_LEN)"
   ]
  },
  {
   "cell_type": "markdown",
   "metadata": {},
   "source": [
    "## Blurring the box"
   ]
  },
  {
   "cell_type": "code",
   "execution_count": 69,
   "metadata": {
    "ExecuteTime": {
     "end_time": "2020-07-02T05:20:46.667431Z",
     "start_time": "2020-07-02T05:19:26.108380Z"
    }
   },
   "outputs": [],
   "source": [
    "Sphere_blurred = Sphere_Blurring(box=noise_box, radius=10, iteration=10**5, shell_num=4)"
   ]
  },
  {
   "cell_type": "code",
   "execution_count": 70,
   "metadata": {
    "ExecuteTime": {
     "end_time": "2020-07-02T05:20:46.672904Z",
     "start_time": "2020-07-02T05:20:46.669578Z"
    }
   },
   "outputs": [
    {
     "name": "stdout",
     "output_type": "stream",
     "text": [
      "(100000,)\n"
     ]
    }
   ],
   "source": [
    "print(Sphere_blurred.shape)"
   ]
  },
  {
   "cell_type": "markdown",
   "metadata": {},
   "source": [
    "## Creating Histogram"
   ]
  },
  {
   "cell_type": "markdown",
   "metadata": {},
   "source": [
    "# Distribution of average values of a noise box"
   ]
  },
  {
   "cell_type": "code",
   "execution_count": 71,
   "metadata": {
    "ExecuteTime": {
     "end_time": "2020-07-02T05:20:46.864591Z",
     "start_time": "2020-07-02T05:20:46.675418Z"
    }
   },
   "outputs": [
    {
     "data": {
      "image/png": "[encoded data removed]",
      "text/plain": [
       "<Figure size 576x576 with 1 Axes>"
      ]
     },
     "metadata": {
      "needs_background": "dark"
     },
     "output_type": "display_data"
    }
   ],
   "source": [
    "histogram(Sphere_blurred)"
   ]
  },
  {
   "cell_type": "code",
   "execution_count": null,
   "metadata": {},
   "outputs": [],
   "source": []
  }
 ],
 "metadata": {
  "kernelspec": {
   "display_name": "21cmfast2",
   "language": "python",
   "name": "21cmfast2"
  },
  "language_info": {
   "codemirror_mode": {
    "name": "ipython",
    "version": 3
   },
   "file_extension": ".py",
   "mimetype": "text/x-python",
   "name": "python",
   "nbconvert_exporter": "python",
   "pygments_lexer": "ipython3",
   "version": "3.7.7"
  }
 },
 "nbformat": 4,
 "nbformat_minor": 4
}
