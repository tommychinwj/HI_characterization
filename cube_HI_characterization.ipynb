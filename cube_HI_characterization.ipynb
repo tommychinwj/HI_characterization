{
 "cells": [
  {
   "cell_type": "markdown",
   "metadata": {},
   "source": [
    "# The preceeding ipynb is semi more general in selecting it's blurring region.\n",
    "# It is capable of selecting cuboid, i.e. unequal sides\n",
    "# This ipynb restricts to only cubes, i.e. equal sides, as an attempt to be more computationally efficient\n",
    "# The reason for this restriction relies on the assumption that the blurring region are spheres"
   ]
  },
  {
   "cell_type": "markdown",
   "metadata": {},
   "source": [
    "## Importing Libraries"
   ]
  },
  {
   "cell_type": "code",
   "execution_count": 99,
   "metadata": {
    "ExecuteTime": {
     "end_time": "2020-07-06T22:36:30.389273Z",
     "start_time": "2020-07-06T22:36:30.385193Z"
    }
   },
   "outputs": [],
   "source": [
    "%matplotlib inline\n",
    "import matplotlib.pyplot as plt\n",
    "import logging\n",
    "import numpy as np\n",
    "import py21cmfast as p21c"
   ]
  },
  {
   "cell_type": "markdown",
   "metadata": {},
   "source": [
    "## Cosmological Parameters (Default is used when no input is specified)"
   ]
  },
  {
   "cell_type": "code",
   "execution_count": 100,
   "metadata": {
    "ExecuteTime": {
     "end_time": "2020-07-06T22:36:30.393789Z",
     "start_time": "2020-07-06T22:36:30.391479Z"
    }
   },
   "outputs": [],
   "source": [
    "cosmo_params = p21c.CosmoParams()"
   ]
  },
  {
   "cell_type": "markdown",
   "metadata": {},
   "source": [
    "## User Parameters, like box length, number of voxels (i.e. resolution) etc."
   ]
  },
  {
   "cell_type": "code",
   "execution_count": 101,
   "metadata": {
    "ExecuteTime": {
     "end_time": "2020-07-06T22:36:30.399104Z",
     "start_time": "2020-07-06T22:36:30.396270Z"
    }
   },
   "outputs": [],
   "source": [
    "user_params = p21c.UserParams(\n",
    "    BOX_LEN=301,  # Box length\n",
    "    DIM=2*301,      # Number of Voxels for hight resolution \n",
    "    HII_DIM=301  # Number of Voxels for low resolution \n",
    ")"
   ]
  },
  {
   "cell_type": "markdown",
   "metadata": {},
   "source": [
    "## Creating initial conditions box"
   ]
  },
  {
   "cell_type": "code",
   "execution_count": 102,
   "metadata": {
    "ExecuteTime": {
     "end_time": "2020-07-06T22:36:44.846568Z",
     "start_time": "2020-07-06T22:36:30.401244Z"
    }
   },
   "outputs": [],
   "source": [
    "init_cond = p21c.initial_conditions(\n",
    "    cosmo_params=cosmo_params,\n",
    "    user_params=user_params\n",
    ")"
   ]
  },
  {
   "cell_type": "markdown",
   "metadata": {},
   "source": [
    "## Gaussian function"
   ]
  },
  {
   "cell_type": "code",
   "execution_count": 103,
   "metadata": {
    "ExecuteTime": {
     "end_time": "2020-07-06T22:36:44.851540Z",
     "start_time": "2020-07-06T22:36:44.848525Z"
    }
   },
   "outputs": [],
   "source": [
    "def Gaussian(x, sigma):  # μ=0, σ=1/sqrt(2), π=1\n",
    "    Gaussian = np.exp(-(x/sigma)**2)\n",
    "    return Gaussian"
   ]
  },
  {
   "cell_type": "markdown",
   "metadata": {},
   "source": [
    "## Measure the distance of each voxel to the center"
   ]
  },
  {
   "cell_type": "code",
   "execution_count": 104,
   "metadata": {
    "ExecuteTime": {
     "end_time": "2020-07-06T22:36:44.858233Z",
     "start_time": "2020-07-06T22:36:44.853553Z"
    }
   },
   "outputs": [],
   "source": [
    "def distance_from_coordinate(box_length):\n",
    "    \n",
    "    index = np.arange(-0.5*(box_length-1), 0.5*(box_length+1))\n",
    "\n",
    "    x_mesh, y_mesh, z_mesh = np.meshgrid(index, index, index, indexing='ij')\n",
    "    \n",
    "    distance = np.sqrt((x_mesh)**2 + (y_mesh)**2 + (z_mesh)**2)\n",
    "    \n",
    "    return distance"
   ]
  },
  {
   "cell_type": "markdown",
   "metadata": {},
   "source": [
    "## Random Coordinate"
   ]
  },
  {
   "cell_type": "code",
   "execution_count": 105,
   "metadata": {
    "ExecuteTime": {
     "end_time": "2020-07-06T22:36:44.865310Z",
     "start_time": "2020-07-06T22:36:44.861606Z"
    }
   },
   "outputs": [],
   "source": [
    "def random_voxel(box_length):\n",
    "    \n",
    "    np.random.seed()  # set seed to a randome number\n",
    "#     np.random.seed(4) ; np.random.rand(10)\n",
    "\n",
    "    coordinate = np.random.randint(0, box_length, size=3)\n",
    "\n",
    "    return coordinate"
   ]
  },
  {
   "cell_type": "markdown",
   "metadata": {
    "ExecuteTime": {
     "end_time": "2020-07-02T04:52:03.906927Z",
     "start_time": "2020-07-02T04:52:03.902405Z"
    }
   },
   "source": [
    "## Select a Smaller Cube with Sides 2R+1 Voxels, Centered about the Random Coordinate"
   ]
  },
  {
   "cell_type": "code",
   "execution_count": 106,
   "metadata": {
    "ExecuteTime": {
     "end_time": "2020-07-06T22:36:44.877594Z",
     "start_time": "2020-07-06T22:36:44.868127Z"
    }
   },
   "outputs": [],
   "source": [
    "def cube_centered_about_coordinate(coordinate_array, radius, box):\n",
    "    x_ind1 = coordinate_array[0]-radius  # x-domian\n",
    "    x_ind2 = coordinate_array[0]+radius+1  # ending index is not inclusive\n",
    "    y_ind1 = coordinate_array[1]-radius  # y-domain\n",
    "    y_ind2 = coordinate_array[1]+radius+1\n",
    "    z_ind1 = coordinate_array[2]-radius  # z-domain\n",
    "    z_ind2 = coordinate_array[2]+radius+1\n",
    "\n",
    "    if x_ind1 < 0:  # periodic boundary conditions\n",
    "        x_inds = np.r_[(x_ind1+len(box)):len(box), 0:x_ind2]\n",
    "    elif x_ind2 > len(box):\n",
    "        x_inds = np.r_[x_ind1:len(box), 0:(x_ind2-len(box))]\n",
    "    else:\n",
    "        x_inds = np.r_[x_ind1:x_ind2]\n",
    "\n",
    "    if y_ind1 < 0:\n",
    "        y_inds = np.r_[(y_ind1+len(box)):len(box), 0:y_ind2]\n",
    "    elif y_ind2 > len(box):\n",
    "        y_inds = np.r_[y_ind1:len(box), 0:(y_ind2-len(box))]\n",
    "    else:\n",
    "        y_inds = np.r_[y_ind1:y_ind2]\n",
    "\n",
    "    if z_ind1 < 0:\n",
    "        z_inds = np.r_[(z_ind1+len(box)):len(box), 0:z_ind2]\n",
    "    elif z_ind2 > len(box):\n",
    "        z_inds = np.r_[z_ind1:len(box), 0:(z_ind2-len(box))]\n",
    "    else:\n",
    "        z_inds = np.r_[z_ind1:z_ind2]\n",
    "\n",
    "    indices = np.ix_(x_inds, y_inds, z_inds)\n",
    "        \n",
    "    output_box = box[indices]\n",
    "    \n",
    "    return output_box"
   ]
  },
  {
   "cell_type": "markdown",
   "metadata": {},
   "source": [
    "## Gausssian Sphere Averaging"
   ]
  },
  {
   "cell_type": "code",
   "execution_count": 107,
   "metadata": {
    "ExecuteTime": {
     "end_time": "2020-07-06T22:36:44.886380Z",
     "start_time": "2020-07-06T22:36:44.880112Z"
    }
   },
   "outputs": [],
   "source": [
    "def gaussian_sphere_average(distance_box, radius, input_box, shell_num, sigma_factor):\n",
    "    \n",
    "    mean = []\n",
    "\n",
    "    shell_radius_edges = np.linspace(0,1,shell_num+1)\n",
    "    shell_center = 0.5*(shell_radius_edges[1:] + shell_radius_edges[:-1])*sigma_factor*radius  # sigma_factor number of sigmas the weighting goes out to, sigma = radius\n",
    "    weight = Gaussian(x=shell_center, sigma=radius)\n",
    "\n",
    "    for ii in range(shell_num):\n",
    "        condition = np.logical_and(distance_box <= shell_radius_edges[ii+1]*radius, distance_box > shell_radius_edges[ii]*radius)\n",
    "        inside_shell_mean = np.mean(input_box[condition])\n",
    "        mean = np.append(mean, inside_shell_mean)\n",
    "        \n",
    "    Gaussian_mean = np.average(mean, weights=weight)\n",
    "    \n",
    "    return Gaussian_mean"
   ]
  },
  {
   "cell_type": "markdown",
   "metadata": {},
   "source": [
    "## Top Hat Sphere Averaging"
   ]
  },
  {
   "cell_type": "code",
   "execution_count": 108,
   "metadata": {
    "ExecuteTime": {
     "end_time": "2020-07-06T22:36:44.891174Z",
     "start_time": "2020-07-06T22:36:44.888281Z"
    }
   },
   "outputs": [],
   "source": [
    "def top_hat_sphere_average(distance_box, radius, input_box):\n",
    "    \n",
    "    condition = distance_box <= radius\n",
    "    mean = np.mean(input_box[condition])\n",
    "    \n",
    "    return mean"
   ]
  },
  {
   "cell_type": "markdown",
   "metadata": {},
   "source": [
    "## Top Hat Cube Averaging"
   ]
  },
  {
   "cell_type": "code",
   "execution_count": 109,
   "metadata": {
    "ExecuteTime": {
     "end_time": "2020-07-06T22:36:44.895321Z",
     "start_time": "2020-07-06T22:36:44.892792Z"
    }
   },
   "outputs": [],
   "source": [
    "def top_hat_cube_average(input_box):\n",
    "    \n",
    "    mean = np.mean(input_box)\n",
    "    \n",
    "    return mean"
   ]
  },
  {
   "cell_type": "markdown",
   "metadata": {},
   "source": [
    "## Sphere Blurring Function"
   ]
  },
  {
   "cell_type": "code",
   "execution_count": 110,
   "metadata": {
    "ExecuteTime": {
     "end_time": "2020-07-06T22:36:44.908522Z",
     "start_time": "2020-07-06T22:36:44.897889Z"
    }
   },
   "outputs": [],
   "source": [
    "def Average_Neutral_Fraction_Distribution(box, radius, iteration, shell_num=6, sigma_factor=4, blur_shape=None):\n",
    "    \n",
    "    box = box.copy()  # make copy of input box to have a separate box\n",
    "    \n",
    "    mean_data = []  # empty list for data collection\n",
    "    \n",
    "    if blur_shape == 'Gaussian_sphere':\n",
    "        dist_frm_coord_box = distance_from_coordinate(radius*2+1)\n",
    "        for i in range(iteration):\n",
    "            rand_coord = random_voxel(len(box))\n",
    "            cube_region_box = cube_centered_about_coordinate(rand_coord, radius, box)\n",
    "            mean = gaussian_sphere_average(dist_frm_coord_box, radius, cube_region_box, shell_num, sigma_factor)\n",
    "            mean_data = np.append(mean_data, mean)\n",
    "        \n",
    "    elif blur_shape == 'top_hat_sphere':\n",
    "        radius = int(round(radius*((3*np.sqrt(np.pi)/4)**(1/3))))  # ratio numerically calculated.\n",
    "        dist_frm_coord_box = distance_from_coordinate(radius*2+1)\n",
    "        for i in range(iteration):\n",
    "            rand_coord = random_voxel(len(box))\n",
    "            cube_region_box = cube_centered_about_coordinate(rand_coord, radius, box)\n",
    "            mean = top_hat_sphere_average(dist_frm_coord_box, radius, cube_region_box)\n",
    "            mean_data = np.append(mean_data, mean)\n",
    "            \n",
    "    elif blur_shape == 'top_hat_cube':\n",
    "        radius = int(round((radius*np.sqrt(np.pi)-1)/2))  # ratio determiend by equating the volumes of cube & sphere\n",
    "        for i in range(iteration):\n",
    "            rand_coord = random_voxel(len(box))\n",
    "            cube_region_box = cube_centered_about_coordinate(rand_coord, radius, box)\n",
    "            mean = top_hat_cube_average(cube_region_box)\n",
    "            mean_data = np.append(mean_data, mean)\n",
    "    else:\n",
    "        print('Blurring shape assumed to be a Gaussian sphere with 4 shells weighted by equally spaced values from 0 sigma to 4 sigma.')\n",
    "        dist_frm_coord_box = distance_from_coordinate(radius*2+1)\n",
    "        for i in range(iteration):\n",
    "            rand_coord = random_voxel(len(box))\n",
    "            cube_region_box = cube_centered_about_coordinate(rand_coord, radius, box)\n",
    "            mean = gaussian_sphere_average(dist_frm_coord_box, radius, cube_region_box, shell_num, sigma_factor)\n",
    "            mean_data = np.append(mean_data, mean)\n",
    "            \n",
    "    return mean_data"
   ]
  },
  {
   "cell_type": "markdown",
   "metadata": {},
   "source": [
    "## Histogram Function"
   ]
  },
  {
   "cell_type": "code",
   "execution_count": 410,
   "metadata": {
    "ExecuteTime": {
     "end_time": "2020-07-07T05:59:48.700162Z",
     "start_time": "2020-07-07T05:59:48.688172Z"
    }
   },
   "outputs": [],
   "source": [
    "def histogram(fs, title, figure_shape, x_start=0, x_stop=1, bin_num=100, color='white', figure_size=(18,7), font_size=15, horizontal_gap=0.05, vertical_gap=0.05, y_scale='linear', y_notation='plain', sharex=True, sharey=True):  # a: x start, b: x stop\n",
    "    bin_edges = np.linspace(x_start, x_stop, bin_num) # 100 bins from 0-1\n",
    "    bin_centers = 0.5 * (bin_edges[1:] + bin_edges[:-1])\n",
    "    if type(fs) is tuple:  # hopefully more robust condition.\n",
    "        fig, axes = plt.subplots(figure_shape[0], figure_shape[1], figsize=figure_size, sharex=sharex, sharey=sharey, gridspec_kw={\"hspace\":vertical_gap, 'wspace':horizontal_gap})\n",
    "        for i, f in enumerate(fs):\n",
    "            axes.flatten()[i].plot(bin_centers, np.histogram(f, bins=bin_edges)[0])\n",
    "            axes.flatten()[i].set_title(title[i], color=color, fontsize=font_size)\n",
    "            axes.flatten()[i].tick_params(color=color, labelcolor=color, labelsize=font_size)  # figure color\n",
    "            axes.flatten()[i].set_yscale(y_scale)\n",
    "            if y_scale is not 'log':\n",
    "                axes.flatten()[i].ticklabel_format(axis='y', style=y_notation, scilimits=(0,0), useMathText=True)\n",
    "            for spine in axes.flatten()[i].spines.values():\n",
    "                spine.set_edgecolor(color)\n",
    "    else:\n",
    "        fig, ax = plt.subplots(figsize=figure_size)\n",
    "        ax.plot(bin_centers, np.histogram(fs, bins=bin_edges)[0])\n",
    "        ax.set_title(title, color=color, fontsize=font_size)\n",
    "        ax.tick_params(color=color, labelcolor=color, labelsize=font_size)  # figure color\n",
    "        ax.set_yscale(y_scale)\n",
    "        if y_scale is not 'log':\n",
    "            ax.ticklabel_format(axis='y', style=y_notation, scilimits=(0,0), useMathText=True)\n",
    "        for spine in ax.spines.values():\n",
    "            spine.set_edgecolor(color)"
   ]
  },
  {
   "cell_type": "markdown",
   "metadata": {},
   "source": [
    "## Plots"
   ]
  },
  {
   "cell_type": "code",
   "execution_count": 411,
   "metadata": {
    "ExecuteTime": {
     "end_time": "2020-07-07T05:59:51.451806Z",
     "start_time": "2020-07-07T05:59:51.439728Z"
    }
   },
   "outputs": [],
   "source": [
    "def plots(x_vals, fs, title, y_label, figure_shape, color='white', figure_size=(18,7), font_size=15, horizontal_gap=0.05, vertical_gap=0.05, y_scale='linear', y_notation='plain', sharex=True, sharey=True):  # a: x start, b: x stop\n",
    "    if type(fs) is tuple:  # hopefully more robust condition.\n",
    "        fig, axes = plt.subplots(figure_shape[0], figure_shape[1], figsize=figure_size, sharex=sharex, sharey=sharey, gridspec_kw={\"hspace\":vertical_gap, 'wspace':horizontal_gap})\n",
    "        for i, f in enumerate(fs):\n",
    "            axes.flatten()[i].plot(x_vals, f)\n",
    "            axes.flatten()[i].set_title(title[i], color=color, fontsize=font_size)\n",
    "            axes.flatten()[i].set_ylabel(y_label[i], color=color, fontsize=font_size)\n",
    "            axes.flatten()[i].tick_params(color=color, labelcolor=color, labelsize=font_size, size=font_size)  # figure color\n",
    "            axes.flatten()[i].set_yscale(y_scale)\n",
    "            if y_scale is not 'log':\n",
    "                axes.flatten()[i].ticklabel_format(axis='y', style=y_notation[i], scilimits=(0,0), useMathText=True)\n",
    "            for spine in axes.flatten()[i].spines.values():\n",
    "                spine.set_edgecolor(color)\n",
    "    else:\n",
    "        fig, ax = plt.subplots(figsize=figure_size)\n",
    "        ax.plot(x_vals, fs)\n",
    "        ax.set_title(title, color=color, fontsize=font_size)\n",
    "        ax.set_ylabel(y_label, color=color, fontsize=font_size)\n",
    "        ax.tick_params(color=color, labelcolor=color, labelsize=font_size, size=font_size)  # figure color\n",
    "        ax.set_yscale(y_scale)\n",
    "        if y_scale is not 'log':\n",
    "            ax.ticklabel_format(axis='y', style=y_notation, scilimits=(0,0), useMathText=True)\n",
    "        for spine in ax.spines.values():\n",
    "            spine.set_edgecolor(color)"
   ]
  },
  {
   "cell_type": "markdown",
   "metadata": {},
   "source": [
    "## Creating Ionize box"
   ]
  },
  {
   "cell_type": "code",
   "execution_count": 112,
   "metadata": {
    "ExecuteTime": {
     "end_time": "2020-07-06T22:36:45.814025Z",
     "start_time": "2020-07-06T22:36:44.922198Z"
    }
   },
   "outputs": [],
   "source": [
    "ionized = p21c.ionize_box(redshift=6.5, init_boxes=init_cond).xH_box"
   ]
  },
  {
   "cell_type": "markdown",
   "metadata": {},
   "source": [
    "## Creating Noise Box"
   ]
  },
  {
   "cell_type": "code",
   "execution_count": 113,
   "metadata": {
    "ExecuteTime": {
     "end_time": "2020-07-06T22:36:46.163162Z",
     "start_time": "2020-07-06T22:36:45.816111Z"
    }
   },
   "outputs": [],
   "source": [
    "np.random.seed()\n",
    "# np.random.seed(5) ; np.random.rand(10)\n",
    "noise_box = np.random.rand(301, 301, 301)"
   ]
  },
  {
   "cell_type": "markdown",
   "metadata": {},
   "source": [
    "## Blurring the box"
   ]
  },
  {
   "cell_type": "code",
   "execution_count": 245,
   "metadata": {
    "ExecuteTime": {
     "end_time": "2020-07-07T01:03:47.662298Z",
     "start_time": "2020-07-07T00:59:41.275095Z"
    }
   },
   "outputs": [],
   "source": [
    "gaussian24 = Average_Neutral_Fraction_Distribution(\n",
    "    box=ionized, \n",
    "    radius=24, \n",
    "    iteration=10**5, \n",
    "    blur_shape='Gaussian_sphere'\n",
    ")"
   ]
  },
  {
   "cell_type": "code",
   "execution_count": 246,
   "metadata": {
    "ExecuteTime": {
     "end_time": "2020-07-07T01:07:16.597769Z",
     "start_time": "2020-07-07T01:03:47.664681Z"
    }
   },
   "outputs": [],
   "source": [
    "gaussian22 = Average_Neutral_Fraction_Distribution(\n",
    "    box=ionized, \n",
    "    radius=22, \n",
    "    iteration=10**5, \n",
    "    blur_shape='Gaussian_sphere'\n",
    ")"
   ]
  },
  {
   "cell_type": "code",
   "execution_count": 247,
   "metadata": {
    "ExecuteTime": {
     "end_time": "2020-07-07T01:10:15.577552Z",
     "start_time": "2020-07-07T01:07:16.600762Z"
    }
   },
   "outputs": [],
   "source": [
    "gaussian20 = Average_Neutral_Fraction_Distribution(\n",
    "    box=ionized, \n",
    "    radius=20, \n",
    "    iteration=10**5, \n",
    "    blur_shape='Gaussian_sphere'\n",
    ")"
   ]
  },
  {
   "cell_type": "code",
   "execution_count": 248,
   "metadata": {
    "ExecuteTime": {
     "end_time": "2020-07-07T01:53:13.504227Z",
     "start_time": "2020-07-07T01:10:15.580085Z"
    }
   },
   "outputs": [],
   "source": [
    "gaussian18 = Average_Neutral_Fraction_Distribution(\n",
    "    box=ionized, \n",
    "    radius=18, \n",
    "    iteration=10**5, \n",
    "    blur_shape='Gaussian_sphere'\n",
    ")"
   ]
  },
  {
   "cell_type": "code",
   "execution_count": 249,
   "metadata": {
    "ExecuteTime": {
     "end_time": "2020-07-07T01:55:28.927470Z",
     "start_time": "2020-07-07T01:53:13.506241Z"
    }
   },
   "outputs": [],
   "source": [
    "gaussian16 = Average_Neutral_Fraction_Distribution(\n",
    "    box=ionized, \n",
    "    radius=16, \n",
    "    iteration=10**5, \n",
    "    blur_shape='Gaussian_sphere'\n",
    ")"
   ]
  },
  {
   "cell_type": "code",
   "execution_count": 250,
   "metadata": {
    "ExecuteTime": {
     "end_time": "2020-07-07T01:57:25.028776Z",
     "start_time": "2020-07-07T01:55:28.929530Z"
    }
   },
   "outputs": [],
   "source": [
    "gaussian14 = Average_Neutral_Fraction_Distribution(\n",
    "    box=ionized, \n",
    "    radius=14, \n",
    "    iteration=10**5, \n",
    "    blur_shape='Gaussian_sphere'\n",
    ")"
   ]
  },
  {
   "cell_type": "code",
   "execution_count": 251,
   "metadata": {
    "ExecuteTime": {
     "end_time": "2020-07-07T01:59:09.478088Z",
     "start_time": "2020-07-07T01:57:25.030675Z"
    }
   },
   "outputs": [],
   "source": [
    "gaussian12 = Average_Neutral_Fraction_Distribution(\n",
    "    box=ionized, \n",
    "    radius=12, \n",
    "    iteration=10**5, \n",
    "    blur_shape='Gaussian_sphere'\n",
    ")"
   ]
  },
  {
   "cell_type": "code",
   "execution_count": 278,
   "metadata": {
    "ExecuteTime": {
     "end_time": "2020-07-07T02:15:55.221796Z",
     "start_time": "2020-07-07T02:14:21.704198Z"
    }
   },
   "outputs": [],
   "source": [
    "gaussian10 = Average_Neutral_Fraction_Distribution(\n",
    "    box=ionized, \n",
    "    radius=10, \n",
    "    iteration=10**5, \n",
    "    blur_shape='Gaussian_sphere'\n",
    ")"
   ]
  },
  {
   "cell_type": "code",
   "execution_count": 300,
   "metadata": {
    "ExecuteTime": {
     "end_time": "2020-07-07T02:28:34.423615Z",
     "start_time": "2020-07-07T02:27:12.132542Z"
    }
   },
   "outputs": [],
   "source": [
    "gaussian8_bimodal = Average_Neutral_Fraction_Distribution(\n",
    "    box=ionized, \n",
    "    radius=8, \n",
    "    iteration=10**5, \n",
    "    blur_shape='Gaussian_sphere'\n",
    ")"
   ]
  },
  {
   "cell_type": "markdown",
   "metadata": {},
   "source": [
    "## Creating Histogram"
   ]
  },
  {
   "cell_type": "code",
   "execution_count": 413,
   "metadata": {
    "ExecuteTime": {
     "end_time": "2020-07-07T06:00:13.409442Z",
     "start_time": "2020-07-07T06:00:10.431094Z"
    }
   },
   "outputs": [
    {
     "data": {
      "image/png": "[encoded data removed]",
      "text/plain": [
       "<Figure size 1296x1296 with 9 Axes>"
      ]
     },
     "metadata": {
      "needs_background": "dark"
     },
     "output_type": "display_data"
    }
   ],
   "source": [
    "histogram((gaussian24, gaussian22, gaussian20, gaussian18, gaussian16, gaussian14, gaussian12, gaussian10, gaussian8_bimodal), title=['gaussian24', 'gaussian22', 'gaussian20', 'gaussian18', 'gaussian16', 'guassian14', 'gaussian12', 'gaussian10', 'gaussian8_bimodal'], figure_shape=(3, 3), figure_size=(18, 18), vertical_gap=0.1, y_scale='log')"
   ]
  },
  {
   "cell_type": "markdown",
   "metadata": {
    "ExecuteTime": {
     "end_time": "2020-07-06T03:56:38.929342Z",
     "start_time": "2020-07-06T03:56:38.568090Z"
    },
    "scrolled": false
   },
   "source": [
    "histogram(fs=gaussian10, title='gaussian10', figure_shape=(1, 1), figure_size=(10, 10))"
   ]
  },
  {
   "cell_type": "markdown",
   "metadata": {
    "ExecuteTime": {
     "end_time": "2020-07-06T05:36:16.848523Z",
     "start_time": "2020-07-06T05:36:16.002355Z"
    },
    "scrolled": false
   },
   "source": [
    "histogram([gaussian12, gaussian10, gaussian8], title=['guassian12', 'gaussian10', 'gaussian8'], figure_shape=(1, 3))"
   ]
  },
  {
   "cell_type": "markdown",
   "metadata": {
    "ExecuteTime": {
     "end_time": "2020-07-07T00:11:40.300302Z",
     "start_time": "2020-07-07T00:09:56.312754Z"
    }
   },
   "source": [
    "gaussian1 = Average_Neutral_Fraction_Distribution(\n",
    "    box=noise_box, \n",
    "    radius=100, \n",
    "    iteration=10**3, \n",
    "    shell_num=1,\n",
    "    blur_shape='Gaussian_sphere'\n",
    ")"
   ]
  },
  {
   "cell_type": "markdown",
   "metadata": {
    "ExecuteTime": {
     "end_time": "2020-07-07T00:13:31.811296Z",
     "start_time": "2020-07-07T00:11:40.302625Z"
    }
   },
   "source": [
    "gaussian2 = Average_Neutral_Fraction_Distribution(\n",
    "    box=noise_box, \n",
    "    radius=100, \n",
    "    iteration=10**3, \n",
    "    shell_num=2,\n",
    "    blur_shape='Gaussian_sphere'\n",
    ")"
   ]
  },
  {
   "cell_type": "markdown",
   "metadata": {
    "ExecuteTime": {
     "end_time": "2020-07-07T00:15:25.722916Z",
     "start_time": "2020-07-07T00:13:31.814180Z"
    }
   },
   "source": [
    "gaussian3 = Average_Neutral_Fraction_Distribution(\n",
    "    box=noise_box, \n",
    "    radius=100, \n",
    "    iteration=10**3, \n",
    "    shell_num=3,\n",
    "    blur_shape='Gaussian_sphere'\n",
    ")"
   ]
  },
  {
   "cell_type": "markdown",
   "metadata": {
    "ExecuteTime": {
     "end_time": "2020-07-07T00:25:12.558438Z",
     "start_time": "2020-07-07T00:15:25.725309Z"
    }
   },
   "source": [
    "gaussian4 = Average_Neutral_Fraction_Distribution(\n",
    "    box=noise_box, \n",
    "    radius=100, \n",
    "    iteration=10**3, \n",
    "    shell_num=4,\n",
    "    blur_shape='Gaussian_sphere'\n",
    ")"
   ]
  },
  {
   "cell_type": "markdown",
   "metadata": {
    "ExecuteTime": {
     "end_time": "2020-07-07T00:28:04.635355Z",
     "start_time": "2020-07-07T00:25:12.560490Z"
    }
   },
   "source": [
    "gaussian5 = Average_Neutral_Fraction_Distribution(\n",
    "    box=noise_box, \n",
    "    radius=100, \n",
    "    iteration=10**3,\n",
    "    shell_num=5,\n",
    "    blur_shape='Gaussian_sphere'\n",
    ")"
   ]
  },
  {
   "cell_type": "markdown",
   "metadata": {
    "ExecuteTime": {
     "end_time": "2020-07-07T00:30:58.101552Z",
     "start_time": "2020-07-07T00:28:04.637396Z"
    }
   },
   "source": [
    "gaussian6 = Average_Neutral_Fraction_Distribution(\n",
    "    box=noise_box, \n",
    "    radius=100, \n",
    "    iteration=10**3,\n",
    "    shell_num=6,\n",
    "    blur_shape='Gaussian_sphere'\n",
    ")"
   ]
  },
  {
   "cell_type": "markdown",
   "metadata": {
    "ExecuteTime": {
     "end_time": "2020-07-07T00:34:21.398926Z",
     "start_time": "2020-07-07T00:30:58.103446Z"
    }
   },
   "source": [
    "gaussian7 = Average_Neutral_Fraction_Distribution(\n",
    "    box=noise_box, \n",
    "    radius=100, \n",
    "    iteration=10**3,\n",
    "    shell_num=7,\n",
    "    blur_shape='Gaussian_sphere'\n",
    ")"
   ]
  },
  {
   "cell_type": "markdown",
   "metadata": {
    "ExecuteTime": {
     "end_time": "2020-07-07T00:38:28.572187Z",
     "start_time": "2020-07-07T00:34:21.403173Z"
    }
   },
   "source": [
    "gaussian8 = Average_Neutral_Fraction_Distribution(\n",
    "    box=noise_box, \n",
    "    radius=100, \n",
    "    iteration=10**3,\n",
    "    shell_num=8,\n",
    "    blur_shape='Gaussian_sphere'\n",
    ")"
   ]
  },
  {
   "cell_type": "markdown",
   "metadata": {
    "ExecuteTime": {
     "end_time": "2020-07-07T00:38:29.721582Z",
     "start_time": "2020-07-07T00:38:28.574837Z"
    }
   },
   "source": [
    "histogram(fs=[gaussian1, gaussian2, gaussian3, gaussian4, gaussian5, gaussian6, gaussian7, gaussian8], title=['gaussian1', 'gaussian2', 'gaussian3', 'gaussian4', 'gaussian5', 'gaussian6', 'gaussian7', 'gaussian8'], figure_shape=(2,4), y_scale='linear', vertical_gap=0.15)"
   ]
  },
  {
   "cell_type": "markdown",
   "metadata": {},
   "source": [
    "# Report to Dr. Furlanetto on the comparisons of stand devs"
   ]
  },
  {
   "cell_type": "code",
   "execution_count": 401,
   "metadata": {
    "ExecuteTime": {
     "end_time": "2020-07-07T05:52:01.011271Z",
     "start_time": "2020-07-07T05:52:00.362359Z"
    }
   },
   "outputs": [
    {
     "data": {
      "image/png": "[encoded data removed]",
      "text/plain": [
       "<Figure size 1080x720 with 3 Axes>"
      ]
     },
     "metadata": {
      "needs_background": "dark"
     },
     "output_type": "display_data"
    }
   ],
   "source": [
    "stand_dev1 = np.std(gaussian1)\n",
    "stand_dev2 = np.std(gaussian2)\n",
    "stand_dev3 = np.std(gaussian3)\n",
    "stand_dev4 = np.std(gaussian4)\n",
    "stand_dev5 = np.std(gaussian5)\n",
    "stand_dev6 = np.std(gaussian6)\n",
    "stand_dev7 = np.std(gaussian7)\n",
    "stand_dev8 = np.std(gaussian8)\n",
    "# print(stand_dev1)\n",
    "# print(stand_dev2)\n",
    "# print(stand_dev3)\n",
    "# print(stand_dev4)\n",
    "# print(stand_dev5)\n",
    "# print(stand_dev6)\n",
    "# print(stand_dev7)\n",
    "# print(stand_dev8)\n",
    "shell_number = np.arange(1, 9)\n",
    "stand_devs = [stand_dev1, stand_dev2, stand_dev3, stand_dev4, stand_dev5, stand_dev6, stand_dev7, stand_dev8]\n",
    "\n",
    "std_sphere = np.std(sphere)\n",
    "std_cube = np.std(cube)\n",
    "\n",
    "gaussian_sphere = abs((stand_devs-std_sphere)/np.mean([stand_devs, std_sphere]))*100\n",
    "gaussian_cube = abs((stand_devs-std_cube)/np.mean([stand_devs, std_cube]))*100\n",
    "abs((std_cube-std_sphere)/np.mean([std_cube, std_sphere]))\n",
    "\n",
    "plots(fs=(stand_devs, gaussian_sphere, gaussian_cube), x_vals=shell_number, title=('Gaussian Method Standard Deviation', 'Gaussian vs Sphere error', 'Gaussian vs Cube error'), y_label=('', 'percent [%]', 'percent [%]'), figure_shape=(3,1), figure_size=(15,10), vertical_gap=0.15, sharey=False, y_notation=['sci']+['plain']*2)"
   ]
  },
  {
   "cell_type": "code",
   "execution_count": null,
   "metadata": {},
   "outputs": [],
   "source": []
  }
 ],
 "metadata": {
  "kernelspec": {
   "display_name": "21cmfast2",
   "language": "python",
   "name": "21cmfast2"
  },
  "language_info": {
   "codemirror_mode": {
    "name": "ipython",
    "version": 3
   },
   "file_extension": ".py",
   "mimetype": "text/x-python",
   "name": "python",
   "nbconvert_exporter": "python",
   "pygments_lexer": "ipython3",
   "version": "3.7.7"
  }
 },
 "nbformat": 4,
 "nbformat_minor": 4
}
