{
 "cells": [
  {
   "cell_type": "markdown",
   "metadata": {},
   "source": [
    "# The preceeding ipynb is semi more general in selecting it's blurring region.\n",
    "# It is capable of selecting cuboid, i.e. unequal sides\n",
    "# This ipynb restricts to only cubes, i.e. equal sides, as an attempt to be more computationally efficient\n",
    "# The reason for this restriction relies on the assumption that the blurring region are spheres"
   ]
  },
  {
   "cell_type": "markdown",
   "metadata": {},
   "source": [
    "## Importing Libraries"
   ]
  },
  {
   "cell_type": "code",
   "execution_count": 57,
   "metadata": {
    "ExecuteTime": {
     "end_time": "2020-07-02T23:26:18.986661Z",
     "start_time": "2020-07-02T23:26:18.982156Z"
    }
   },
   "outputs": [],
   "source": [
    "%matplotlib inline\n",
    "import matplotlib.pyplot as plt\n",
    "import logging\n",
    "import numpy as np\n",
    "import py21cmfast as p21c"
   ]
  },
  {
   "cell_type": "markdown",
   "metadata": {},
   "source": [
    "## Cosmological Parameters (Default is used when no input is specified)"
   ]
  },
  {
   "cell_type": "code",
   "execution_count": 58,
   "metadata": {
    "ExecuteTime": {
     "end_time": "2020-07-02T23:26:18.991692Z",
     "start_time": "2020-07-02T23:26:18.989004Z"
    }
   },
   "outputs": [],
   "source": [
    "cosmo_params = p21c.CosmoParams()"
   ]
  },
  {
   "cell_type": "markdown",
   "metadata": {},
   "source": [
    "## User Parameters, like box length, number of voxels (i.e. resolution) etc."
   ]
  },
  {
   "cell_type": "code",
   "execution_count": 59,
   "metadata": {
    "ExecuteTime": {
     "end_time": "2020-07-02T23:26:18.997116Z",
     "start_time": "2020-07-02T23:26:18.994008Z"
    }
   },
   "outputs": [],
   "source": [
    "BOX_LEN = 301\n",
    "\n",
    "user_params = p21c.UserParams(\n",
    "    BOX_LEN=BOX_LEN,  # Box length\n",
    "    DIM=2*BOX_LEN,      # Number of Voxels for hight resolution \n",
    "    HII_DIM=BOX_LEN  # Number of Voxels for low resolution \n",
    ")"
   ]
  },
  {
   "cell_type": "markdown",
   "metadata": {},
   "source": [
    "## Creating initial conditions box"
   ]
  },
  {
   "cell_type": "code",
   "execution_count": 60,
   "metadata": {
    "ExecuteTime": {
     "end_time": "2020-07-02T23:26:39.565002Z",
     "start_time": "2020-07-02T23:26:18.999123Z"
    }
   },
   "outputs": [],
   "source": [
    "init_cond = p21c.initial_conditions(\n",
    "    cosmo_params=cosmo_params,\n",
    "    user_params=user_params\n",
    ")"
   ]
  },
  {
   "cell_type": "markdown",
   "metadata": {},
   "source": [
    "## Gaussian function"
   ]
  },
  {
   "cell_type": "code",
   "execution_count": 61,
   "metadata": {
    "ExecuteTime": {
     "end_time": "2020-07-02T23:26:39.572845Z",
     "start_time": "2020-07-02T23:26:39.568262Z"
    }
   },
   "outputs": [],
   "source": [
    "def Gaussian(x, sigma=1, mu=0):\n",
    "    return (1/sigma/np.sqrt(2*np.pi))*(np.exp(-0.5*(((x-mu)/sigma)**2)))"
   ]
  },
  {
   "cell_type": "markdown",
   "metadata": {},
   "source": [
    "## Measure the distance of each voxel to the center"
   ]
  },
  {
   "cell_type": "code",
   "execution_count": 62,
   "metadata": {
    "ExecuteTime": {
     "end_time": "2020-07-02T23:26:39.583861Z",
     "start_time": "2020-07-02T23:26:39.578433Z"
    }
   },
   "outputs": [],
   "source": [
    "def distance_from_coordinate(box_length):\n",
    "    \n",
    "    index = np.arange(-0.5*(box_length-1), 0.5*(box_length+1))\n",
    "\n",
    "    x_mesh, y_mesh, z_mesh = np.meshgrid(index, index, index, indexing='ij')\n",
    "    \n",
    "    distance = np.sqrt((x_mesh)**2 + (y_mesh)**2 + (z_mesh)**2)\n",
    "    \n",
    "    return distance"
   ]
  },
  {
   "cell_type": "markdown",
   "metadata": {},
   "source": [
    "## Random Coordinate"
   ]
  },
  {
   "cell_type": "code",
   "execution_count": 63,
   "metadata": {
    "ExecuteTime": {
     "end_time": "2020-07-02T23:26:39.591545Z",
     "start_time": "2020-07-02T23:26:39.587824Z"
    }
   },
   "outputs": [],
   "source": [
    "def random_voxel():\n",
    "    \n",
    "    np.random.seed()  # set seed to a randome number\n",
    "#     np.random.seed(4) ; np.random.rand(10)\n",
    "\n",
    "    coordinate = np.random.randint(0, BOX_LEN, size=3)\n",
    "\n",
    "    return coordinate"
   ]
  },
  {
   "cell_type": "markdown",
   "metadata": {
    "ExecuteTime": {
     "end_time": "2020-07-02T04:52:03.906927Z",
     "start_time": "2020-07-02T04:52:03.902405Z"
    }
   },
   "source": [
    "## Select a Smaller Cube with Sides 2R+1 Voxels, Centered about the Random Coordinate"
   ]
  },
  {
   "cell_type": "code",
   "execution_count": 64,
   "metadata": {
    "ExecuteTime": {
     "end_time": "2020-07-02T23:26:39.607199Z",
     "start_time": "2020-07-02T23:26:39.594882Z"
    }
   },
   "outputs": [],
   "source": [
    "def cube_centered_about_coordinate(coordinate_array, radius, box):\n",
    "    x_ind1 = coordinate_array[0]-radius  # x-domian\n",
    "    x_ind2 = coordinate_array[0]+radius+1  # ending index is not inclusive\n",
    "    y_ind1 = coordinate_array[1]-radius  # y-domain\n",
    "    y_ind2 = coordinate_array[1]+radius+1\n",
    "    z_ind1 = coordinate_array[2]-radius  # z-domain\n",
    "    z_ind2 = coordinate_array[2]+radius+1\n",
    "\n",
    "    if x_ind1 < 0:  # periodic boundary conditions\n",
    "        x_inds = np.r_[(x_ind1+box.shape[0]):box.shape[0], 0:x_ind2]\n",
    "    elif x_ind2 > box.shape[0]:\n",
    "        x_inds = np.r_[x_ind1:box.shape[0], 0:(x_ind2-box.shape[0])]\n",
    "    else:\n",
    "        x_inds = np.r_[x_ind1:x_ind2]\n",
    "\n",
    "    if y_ind1 < 0:\n",
    "        y_inds = np.r_[(y_ind1+box.shape[1]):box.shape[1], 0:y_ind2]\n",
    "    elif y_ind2 > box.shape[1]:\n",
    "        y_inds = np.r_[y_ind1:box.shape[1], 0:(y_ind2-box.shape[1])]\n",
    "    else:\n",
    "        y_inds = np.r_[y_ind1:y_ind2]\n",
    "\n",
    "    if z_ind1 < 0:\n",
    "        z_inds = np.r_[(z_ind1+box.shape[2]):box.shape[2], 0:z_ind2]\n",
    "    elif z_ind2 > box.shape[2]:\n",
    "        z_inds = np.r_[z_ind1:box.shape[2], 0:(z_ind2-box.shape[2])]\n",
    "    else:\n",
    "        z_inds = np.r_[z_ind1:z_ind2]\n",
    "\n",
    "    indices = np.ix_(x_inds, y_inds, z_inds)\n",
    "    \n",
    "    output_box = box[indices]\n",
    "    \n",
    "    return output_box"
   ]
  },
  {
   "cell_type": "markdown",
   "metadata": {},
   "source": [
    "## Gausssian Averaging"
   ]
  },
  {
   "cell_type": "code",
   "execution_count": 65,
   "metadata": {
    "ExecuteTime": {
     "end_time": "2020-07-02T23:26:39.616109Z",
     "start_time": "2020-07-02T23:26:39.610137Z"
    }
   },
   "outputs": [],
   "source": [
    "def gaussian_sphere_average_value(distance_box, radius, input_box, shell_num):\n",
    "    \n",
    "    mean = []\n",
    "\n",
    "    shell_radius_edges = np.linspace(0,1,shell_num+1)\n",
    "    shell_center = 0.5*(shell_radius_edges[1:] + shell_radius_edges[:-1])\n",
    "    weight = Gaussian(x=shell_center*4)\n",
    "\n",
    "    for ii in range(shell_num):\n",
    "        condition = np.logical_and(distance_box <= shell_radius_edges[ii+1]*radius, distance_box > shell_radius_edges[ii]*radius)\n",
    "        inside_shell_mean = np.mean(input_box[condition])\n",
    "        mean = np.append(mean, inside_shell_mean)\n",
    "        \n",
    "    Gaussian_mean = np.average(mean, weights=weight)\n",
    "    \n",
    "    return Gaussian_mean"
   ]
  },
  {
   "cell_type": "markdown",
   "metadata": {},
   "source": [
    "## Sphere Blurring Function"
   ]
  },
  {
   "cell_type": "code",
   "execution_count": 66,
   "metadata": {
    "ExecuteTime": {
     "end_time": "2020-07-02T23:26:39.623082Z",
     "start_time": "2020-07-02T23:26:39.618221Z"
    }
   },
   "outputs": [],
   "source": [
    "def Average_Neutral_Fraction_Distribution(box, radius, iteration, shell_num=1):\n",
    "    \n",
    "    box = box.copy()  # make copy of input box to have a separate box\n",
    "    \n",
    "    dist_frm_coord_box = distance_from_coordinate(radius*2+1)\n",
    "\n",
    "    inside_sphere_mean_data = []  # empty list for data collection\n",
    "    \n",
    "    for i in range(iteration):\n",
    "        \n",
    "        rand_coord = random_voxel()\n",
    "                \n",
    "        cube_region_box = cube_centered_about_coordinate(rand_coord, radius, box)\n",
    "        \n",
    "        inside_sphere_mean = gaussian_sphere_average_value(dist_frm_coord_box, radius, cube_region_box, shell_num)\n",
    "        \n",
    "        inside_sphere_mean_data = np.append(inside_sphere_mean_data, inside_sphere_mean)\n",
    "        \n",
    "    return np.array(inside_sphere_mean_data)"
   ]
  },
  {
   "cell_type": "markdown",
   "metadata": {},
   "source": [
    "## Histogram Function"
   ]
  },
  {
   "cell_type": "code",
   "execution_count": 67,
   "metadata": {
    "ExecuteTime": {
     "end_time": "2020-07-02T23:26:39.632032Z",
     "start_time": "2020-07-02T23:26:39.625712Z"
    }
   },
   "outputs": [],
   "source": [
    "def histogram(f1, x_start=0, x_stop=1, bin_num=100):  # a: x start, b: x stop\n",
    "    bin_edges = np.linspace(x_start, x_stop, bin_num) # 100 bins from 0-1\n",
    "    hist1, _ = np.histogram(f1, bins=bin_edges)\n",
    "    bin_centers = 0.5 * (bin_edges[1:] + bin_edges[:-1])\n",
    "    fig, ax = plt.subplots(figsize=(8,8))\n",
    "    ax.plot(bin_centers, hist1)\n",
    "    \n",
    "    # Set the borders to a given color...\n",
    "    ax.tick_params(color='white', labelcolor='white')\n",
    "    for spine in ax.spines.values():\n",
    "        spine.set_edgecolor('white')"
   ]
  },
  {
   "cell_type": "markdown",
   "metadata": {},
   "source": [
    "## Creating Ionize box"
   ]
  },
  {
   "cell_type": "code",
   "execution_count": 68,
   "metadata": {
    "ExecuteTime": {
     "end_time": "2020-07-02T23:26:41.124596Z",
     "start_time": "2020-07-02T23:26:39.634064Z"
    }
   },
   "outputs": [],
   "source": [
    "z = 6.5\n",
    "ionized = p21c.ionize_box(redshift=z, init_boxes=init_cond).xH_box"
   ]
  },
  {
   "cell_type": "markdown",
   "metadata": {},
   "source": [
    "## Creating Noise Box"
   ]
  },
  {
   "cell_type": "code",
   "execution_count": 69,
   "metadata": {
    "ExecuteTime": {
     "end_time": "2020-07-02T23:26:41.652411Z",
     "start_time": "2020-07-02T23:26:41.127109Z"
    }
   },
   "outputs": [],
   "source": [
    "np.random.seed()\n",
    "# np.random.seed(5) ; np.random.rand(10)\n",
    "noise_box = np.random.rand(BOX_LEN, BOX_LEN, BOX_LEN)"
   ]
  },
  {
   "cell_type": "markdown",
   "metadata": {},
   "source": [
    "## Blurring the box"
   ]
  },
  {
   "cell_type": "code",
   "execution_count": 74,
   "metadata": {
    "ExecuteTime": {
     "end_time": "2020-07-03T04:09:04.006130Z",
     "start_time": "2020-07-03T04:08:49.890605Z"
    }
   },
   "outputs": [
    {
     "name": "stdout",
     "output_type": "stream",
     "text": [
      "1.76 s ± 93.4 ms per loop (mean ± std. dev. of 7 runs, 1 loop each)\n"
     ]
    }
   ],
   "source": [
    "%%timeit\n",
    "Avg_Neu_Frac_Dist = Average_Neutral_Fraction_Distribution(box=ionized, radius=150, iteration=1, shell_num=5)"
   ]
  },
  {
   "cell_type": "markdown",
   "metadata": {},
   "source": [
    "## Creating Histogram"
   ]
  },
  {
   "cell_type": "markdown",
   "metadata": {},
   "source": [
    "# Distribution of average values of a noise box"
   ]
  },
  {
   "cell_type": "code",
   "execution_count": 71,
   "metadata": {
    "ExecuteTime": {
     "end_time": "2020-07-02T23:26:58.434473Z",
     "start_time": "2020-07-02T23:26:58.237416Z"
    }
   },
   "outputs": [
    {
     "data": {
      "image/png": "[encoded data removed]",
      "text/plain": [
       "<Figure size 576x576 with 1 Axes>"
      ]
     },
     "metadata": {
      "needs_background": "dark"
     },
     "output_type": "display_data"
    }
   ],
   "source": [
    "histogram(Avg_Neu_Frac_Dist)"
   ]
  },
  {
   "cell_type": "code",
   "execution_count": 72,
   "metadata": {
    "ExecuteTime": {
     "end_time": "2020-07-02T23:26:58.442120Z",
     "start_time": "2020-07-02T23:26:58.437321Z"
    }
   },
   "outputs": [
    {
     "data": {
      "text/plain": [
       "array([0.1898228])"
      ]
     },
     "execution_count": 72,
     "metadata": {},
     "output_type": "execute_result"
    }
   ],
   "source": [
    "Avg_Neu_Frac_Dist"
   ]
  }
 ],
 "metadata": {
  "kernelspec": {
   "display_name": "21cmfast2",
   "language": "python",
   "name": "21cmfast2"
  },
  "language_info": {
   "codemirror_mode": {
    "name": "ipython",
    "version": 3
   },
   "file_extension": ".py",
   "mimetype": "text/x-python",
   "name": "python",
   "nbconvert_exporter": "python",
   "pygments_lexer": "ipython3",
   "version": "3.7.7"
  }
 },
 "nbformat": 4,
 "nbformat_minor": 4
}
